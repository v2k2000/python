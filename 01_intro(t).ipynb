{
 "cells": [
  {
   "cell_type": "markdown",
   "id": "5798e3c9-fea4-46b3-a515-229e3d9d5b24",
   "metadata": {},
   "source": [
    "# 01. intro\n",
    "\n",
    "## shortcut\n",
    "- ctrl + enter : 현재 셀 실행\n",
    "- shift + enter : 현재 셀 실행 & 아래로 이동\n",
    "- alt + enter : 현재 셀 실행 & 아래에 새로운 셀 추가\n",
    "\n",
    "## 주의사항\n",
    "\n",
    "1. Apple / apple\n",
    "2. git add . / git add.\n",
    "3. message / massage"
   ]
  },
  {
   "cell_type": "markdown",
   "id": "6bb79881-6e29-4600-8def-fdb722bdb130",
   "metadata": {},
   "source": [
    "## 1. 변수\n",
    "\n",
    "변수이름 = 값\n",
    "\n",
    "- 변수이름은 어떤 이름이든 사용가능\n",
    "- 다만 영어, 숫자, _ 를 이용하여 선언\n",
    "- 키워드는 사용 불가\n"
   ]
  },
  {
   "cell_type": "code",
   "execution_count": 58,
   "id": "190b2989-fe68-4f46-85d5-da7e1352c023",
   "metadata": {},
   "outputs": [],
   "source": [
    "a = 30"
   ]
  },
  {
   "cell_type": "code",
   "execution_count": 59,
   "id": "09d55cfb-7113-409b-8da8-a93d88dd5803",
   "metadata": {},
   "outputs": [
    {
     "data": {
      "text/plain": [
       "30"
      ]
     },
     "execution_count": 59,
     "metadata": {},
     "output_type": "execute_result"
    }
   ],
   "source": [
    "a"
   ]
  },
  {
   "cell_type": "code",
   "execution_count": 61,
   "id": "a4e3cda2-233d-4d1e-9747-7d29240f4169",
   "metadata": {},
   "outputs": [
    {
     "data": {
      "text/plain": [
       "['False',\n",
       " 'None',\n",
       " 'True',\n",
       " 'and',\n",
       " 'as',\n",
       " 'assert',\n",
       " 'async',\n",
       " 'await',\n",
       " 'break',\n",
       " 'class',\n",
       " 'continue',\n",
       " 'def',\n",
       " 'del',\n",
       " 'elif',\n",
       " 'else',\n",
       " 'except',\n",
       " 'finally',\n",
       " 'for',\n",
       " 'from',\n",
       " 'global',\n",
       " 'if',\n",
       " 'import',\n",
       " 'in',\n",
       " 'is',\n",
       " 'lambda',\n",
       " 'nonlocal',\n",
       " 'not',\n",
       " 'or',\n",
       " 'pass',\n",
       " 'raise',\n",
       " 'return',\n",
       " 'try',\n",
       " 'while',\n",
       " 'with',\n",
       " 'yield']"
      ]
     },
     "execution_count": 61,
     "metadata": {},
     "output_type": "execute_result"
    }
   ],
   "source": [
    "import keyword\n",
    "keyword.kwlist"
   ]
  },
  {
   "cell_type": "code",
   "execution_count": 62,
   "id": "f39dae14-2de4-494d-a3fc-395706b7ce0c",
   "metadata": {},
   "outputs": [],
   "source": [
    "seoul_dust_rate = 10"
   ]
  },
  {
   "cell_type": "markdown",
   "id": "3623c63f-9bd2-45b5-a55c-89a775eb06fa",
   "metadata": {},
   "source": [
    "### 1.1 number"
   ]
  },
  {
   "cell_type": "code",
   "execution_count": 63,
   "id": "8c00d2b9-5354-4014-aa96-fad9df9cc858",
   "metadata": {},
   "outputs": [],
   "source": [
    "a = 100000"
   ]
  },
  {
   "cell_type": "code",
   "execution_count": 64,
   "id": "51332d85-507a-4db6-8415-40e635b0de59",
   "metadata": {},
   "outputs": [
    {
     "data": {
      "text/plain": [
       "100000"
      ]
     },
     "execution_count": 64,
     "metadata": {},
     "output_type": "execute_result"
    }
   ],
   "source": [
    "a"
   ]
  },
  {
   "cell_type": "code",
   "execution_count": 65,
   "id": "df0d642d-676e-4e9f-955a-dbf31b23551a",
   "metadata": {},
   "outputs": [
    {
     "data": {
      "text/plain": [
       "int"
      ]
     },
     "execution_count": 65,
     "metadata": {},
     "output_type": "execute_result"
    }
   ],
   "source": [
    "type(a)"
   ]
  },
  {
   "cell_type": "code",
   "execution_count": 66,
   "id": "f134e6b0-0ed4-4cbd-a3a5-18f57e76706f",
   "metadata": {},
   "outputs": [],
   "source": [
    "b = 1.1"
   ]
  },
  {
   "cell_type": "code",
   "execution_count": 67,
   "id": "53c477f4-c3c4-4429-ae56-8728aa1caf7e",
   "metadata": {},
   "outputs": [
    {
     "data": {
      "text/plain": [
       "1.1"
      ]
     },
     "execution_count": 67,
     "metadata": {},
     "output_type": "execute_result"
    }
   ],
   "source": [
    "b"
   ]
  },
  {
   "cell_type": "code",
   "execution_count": 69,
   "id": "138f47fe-d700-4c48-b502-4398f2bea2cc",
   "metadata": {},
   "outputs": [
    {
     "data": {
      "text/plain": [
       "float"
      ]
     },
     "execution_count": 69,
     "metadata": {},
     "output_type": "execute_result"
    }
   ],
   "source": [
    "type(b)"
   ]
  },
  {
   "cell_type": "code",
   "execution_count": 70,
   "id": "2ea3ff06-568d-4aca-9d66-bfd5b62a1e59",
   "metadata": {},
   "outputs": [],
   "source": [
    "c = 1 - 4j"
   ]
  },
  {
   "cell_type": "code",
   "execution_count": 71,
   "id": "e2bf6105-f88c-4878-b6d8-8e84f165211b",
   "metadata": {},
   "outputs": [
    {
     "data": {
      "text/plain": [
       "(1-4j)"
      ]
     },
     "execution_count": 71,
     "metadata": {},
     "output_type": "execute_result"
    }
   ],
   "source": [
    "c"
   ]
  },
  {
   "cell_type": "code",
   "execution_count": 73,
   "id": "27951a78-7a4c-4480-86f9-81f4ce9789dd",
   "metadata": {},
   "outputs": [
    {
     "data": {
      "text/plain": [
       "complex"
      ]
     },
     "execution_count": 73,
     "metadata": {},
     "output_type": "execute_result"
    }
   ],
   "source": [
    "type(c)"
   ]
  },
  {
   "cell_type": "markdown",
   "id": "a68fe9a7-a53a-4127-a7c4-bcb70006df08",
   "metadata": {},
   "source": [
    "### 1.2 boolean\n",
    "\n",
    "True, False로 이루어진 타입"
   ]
  },
  {
   "cell_type": "code",
   "execution_count": 75,
   "id": "4463d9f8-df11-4eee-9a6b-fa161a849480",
   "metadata": {},
   "outputs": [],
   "source": [
    "a = True"
   ]
  },
  {
   "cell_type": "code",
   "execution_count": 77,
   "id": "3713a450-c5fb-4802-b5d2-6df758afff57",
   "metadata": {},
   "outputs": [
    {
     "data": {
      "text/plain": [
       "True"
      ]
     },
     "execution_count": 77,
     "metadata": {},
     "output_type": "execute_result"
    }
   ],
   "source": [
    "a"
   ]
  },
  {
   "cell_type": "code",
   "execution_count": 78,
   "id": "dc2dd38a-50b7-4d3a-bcf4-6ed22ffd6a80",
   "metadata": {},
   "outputs": [
    {
     "data": {
      "text/plain": [
       "bool"
      ]
     },
     "execution_count": 78,
     "metadata": {},
     "output_type": "execute_result"
    }
   ],
   "source": [
    "type(a)"
   ]
  },
  {
   "cell_type": "code",
   "execution_count": 80,
   "id": "805a7070-757c-4980-bf1e-8ad3cf0c60c6",
   "metadata": {},
   "outputs": [],
   "source": [
    "b = False"
   ]
  },
  {
   "cell_type": "code",
   "execution_count": 81,
   "id": "46ca0d6b-6e2d-4696-acb2-038b3b3065ac",
   "metadata": {},
   "outputs": [
    {
     "data": {
      "text/plain": [
       "False"
      ]
     },
     "execution_count": 81,
     "metadata": {},
     "output_type": "execute_result"
    }
   ],
   "source": [
    "b"
   ]
  },
  {
   "cell_type": "code",
   "execution_count": 82,
   "id": "a5dab73e-d7bf-4098-98c5-8ecd3f5ee36c",
   "metadata": {},
   "outputs": [
    {
     "data": {
      "text/plain": [
       "bool"
      ]
     },
     "execution_count": 82,
     "metadata": {},
     "output_type": "execute_result"
    }
   ],
   "source": [
    "type(b)"
   ]
  },
  {
   "cell_type": "markdown",
   "id": "6bb0acc4-2952-4d79-8cf1-a5644a3318c9",
   "metadata": {},
   "source": [
    "### 1.3 None"
   ]
  },
  {
   "cell_type": "code",
   "execution_count": 85,
   "id": "d3df553a-fa47-44c1-b741-2e21262e24ef",
   "metadata": {},
   "outputs": [],
   "source": [
    "a = None"
   ]
  },
  {
   "cell_type": "code",
   "execution_count": 86,
   "id": "f563b58c-7a56-4952-8098-23f23cd7c6b9",
   "metadata": {},
   "outputs": [
    {
     "data": {
      "text/plain": [
       "NoneType"
      ]
     },
     "execution_count": 86,
     "metadata": {},
     "output_type": "execute_result"
    }
   ],
   "source": [
    "type(a)"
   ]
  },
  {
   "cell_type": "markdown",
   "id": "2223d841-4653-4a8d-b1da-fae2711b0d4e",
   "metadata": {},
   "source": [
    "### 1.4 String\n",
    "\n",
    "- 문자열은 `'`, `\"` 를 이용하여 표현"
   ]
  },
  {
   "cell_type": "code",
   "execution_count": 88,
   "id": "14090ddc-71f7-402b-8f97-5c4a4ebc8b62",
   "metadata": {},
   "outputs": [],
   "source": [
    "a = 'hello'"
   ]
  },
  {
   "cell_type": "code",
   "execution_count": 90,
   "id": "89747bd8-dcbd-416e-bb9d-ebfec5ca0c29",
   "metadata": {},
   "outputs": [
    {
     "data": {
      "text/plain": [
       "str"
      ]
     },
     "execution_count": 90,
     "metadata": {},
     "output_type": "execute_result"
    }
   ],
   "source": [
    "type(a)"
   ]
  },
  {
   "cell_type": "code",
   "execution_count": 91,
   "id": "ad1b1286-2d21-4467-aac3-f66f5573f88f",
   "metadata": {},
   "outputs": [],
   "source": [
    "b = \"world\""
   ]
  },
  {
   "cell_type": "code",
   "execution_count": 92,
   "id": "529c62e9-9521-4edb-b021-a0097f7a9196",
   "metadata": {},
   "outputs": [
    {
     "data": {
      "text/plain": [
       "str"
      ]
     },
     "execution_count": 92,
     "metadata": {},
     "output_type": "execute_result"
    }
   ],
   "source": [
    "type(b)"
   ]
  },
  {
   "cell_type": "code",
   "execution_count": 98,
   "id": "a955c7f7-eefd-4475-b2a0-4641550e705f",
   "metadata": {
    "scrolled": true
   },
   "outputs": [
    {
     "name": "stdout",
     "output_type": "stream",
     "text": [
      " 123\n"
     ]
    },
    {
     "name": "stdout",
     "output_type": "stream",
     "text": [
      "123\n",
      "<class 'str'>\n"
     ]
    }
   ],
   "source": [
    "age = input()\n",
    "print(age)\n",
    "print(type(age))"
   ]
  },
  {
   "cell_type": "code",
   "execution_count": 102,
   "id": "ed8b8e60-17fa-449b-af69-bd36af77ca01",
   "metadata": {},
   "outputs": [
    {
     "name": "stdout",
     "output_type": "stream",
     "text": [
      "안녕하세요 '오창희'입니다.\n",
      "안녕하세요. \"오창희\"입니다.\n"
     ]
    }
   ],
   "source": [
    "# print('안녕하세요 '오창희'입니다.')\n",
    "print(\"안녕하세요 '오창희'입니다.\")\n",
    "print('안녕하세요. \"오창희\"입니다.')"
   ]
  },
  {
   "cell_type": "code",
   "execution_count": 103,
   "id": "05fb49fa-dda0-40bf-9439-8c2b52cf53f4",
   "metadata": {},
   "outputs": [
    {
     "name": "stdout",
     "output_type": "stream",
     "text": [
      "안녕하세요. '오창희'입니다.\n"
     ]
    }
   ],
   "source": [
    "print('안녕하세요. \\'오창희\\'입니다.')"
   ]
  },
  {
   "cell_type": "code",
   "execution_count": 105,
   "id": "c1fb9578-1ea7-442a-a252-aa2374334a54",
   "metadata": {},
   "outputs": [
    {
     "name": "stdout",
     "output_type": "stream",
     "text": [
      "\n",
      "안녕하세요 '오창희'입니다.\n",
      "여러줄도 작성가능합니다.\n",
      "\n"
     ]
    }
   ],
   "source": [
    "a = '''\n",
    "안녕하세요 '오창희'입니다.\n",
    "여러줄도 작성가능합니다.\n",
    "'''\n",
    "print(a)"
   ]
  },
  {
   "cell_type": "code",
   "execution_count": 108,
   "id": "f9802e03-e180-4278-bb74-de2f0cd47862",
   "metadata": {},
   "outputs": [
    {
     "name": "stdout",
     "output_type": "stream",
     "text": [
      "안녕하세요. \n",
      "오창희입니다. \t들여쓰기 이스케이프 문자열입니다.\n"
     ]
    }
   ],
   "source": [
    "print('안녕하세요. \\n오창희입니다. \\t들여쓰기 이스케이프 문자열입니다.')"
   ]
  },
  {
   "cell_type": "markdown",
   "id": "407bc44e-2045-4992-b893-e65a74c0ccc3",
   "metadata": {},
   "source": [
    "#### string interpolation\n",
    "\n",
    "1. %-formatting\n",
    "2. str.format()\n",
    "3. f-string"
   ]
  },
  {
   "cell_type": "code",
   "execution_count": 109,
   "id": "3d71e797-ea88-4278-aa1b-79942ef1fa53",
   "metadata": {},
   "outputs": [],
   "source": [
    "age = 10"
   ]
  },
  {
   "cell_type": "code",
   "execution_count": 110,
   "id": "6703a247-45f1-4136-a97b-ea8e90bf955a",
   "metadata": {},
   "outputs": [
    {
     "name": "stdout",
     "output_type": "stream",
     "text": [
      "홍길동은 10살 입니다.\n"
     ]
    }
   ],
   "source": [
    "print('홍길동은 %s살 입니다.' % age)"
   ]
  },
  {
   "cell_type": "code",
   "execution_count": 111,
   "id": "8f695f6a-bccb-4713-9fa3-02edfb8c95e0",
   "metadata": {},
   "outputs": [
    {
     "name": "stdout",
     "output_type": "stream",
     "text": [
      "홍길동은 10살 입니다.\n"
     ]
    }
   ],
   "source": [
    "print('홍길동은 {}살 입니다.'.format(age))"
   ]
  },
  {
   "cell_type": "code",
   "execution_count": 112,
   "id": "de061d41-7854-4471-8720-51431c66436f",
   "metadata": {},
   "outputs": [
    {
     "name": "stdout",
     "output_type": "stream",
     "text": [
      "홍길동은 10살입니다.\n"
     ]
    }
   ],
   "source": [
    "print(f'홍길동은 {age}살입니다.')"
   ]
  },
  {
   "cell_type": "markdown",
   "id": "c703cbed-e412-4705-bd37-cbdb5a162b59",
   "metadata": {},
   "source": [
    "## 2. 연산자\n"
   ]
  },
  {
   "cell_type": "markdown",
   "id": "5fcdab5a",
   "metadata": {},
   "source": [
    "### 2.1 산술연산자"
   ]
  },
  {
   "cell_type": "code",
   "execution_count": 215,
   "id": "78c88d9a-37eb-4d18-b674-8643afce5da0",
   "metadata": {},
   "outputs": [],
   "source": [
    "a = 7\n",
    "b = 3"
   ]
  },
  {
   "cell_type": "code",
   "execution_count": 115,
   "id": "4257c062-9dbf-4abf-aee0-f407cb7ffd27",
   "metadata": {},
   "outputs": [
    {
     "name": "stdout",
     "output_type": "stream",
     "text": [
      "5\n",
      "-1\n",
      "6\n",
      "0.6666666666666666\n",
      "8\n"
     ]
    }
   ],
   "source": [
    "print(a + b)\n",
    "print(a - b)\n",
    "print(a * b)\n",
    "print(a / b)\n",
    "print(a ** b)"
   ]
  },
  {
   "cell_type": "code",
   "execution_count": 216,
   "id": "fa250da1-2e97-48bd-873b-bcab9381d40f",
   "metadata": {},
   "outputs": [
    {
     "name": "stdout",
     "output_type": "stream",
     "text": [
      "2\n",
      "1\n",
      "(2, 1)\n"
     ]
    }
   ],
   "source": [
    "# a를 b로 나눈 몫\n",
    "print(a // b)\n",
    "# a를 b로 나눈 나머지\n",
    "print(a % b)\n",
    "# 몫과 나머지를 같이 출력해주는 함수\n",
    "print(divmod(a, b))"
   ]
  },
  {
   "cell_type": "code",
   "execution_count": 220,
   "id": "f43e74f8-f3bd-44d0-b5c8-553bf0cadba4",
   "metadata": {},
   "outputs": [
    {
     "name": "stdout",
     "output_type": "stream",
     "text": [
      "<class 'tuple'>\n",
      "3\n"
     ]
    }
   ],
   "source": [
    "result = divmod(a, b)\n",
    "print(type(result))\n",
    "print(result[0] + result[1])"
   ]
  },
  {
   "cell_type": "markdown",
   "id": "b622f7c6-8c83-40cc-8fd4-b4a473cc47ea",
   "metadata": {},
   "source": [
    "### 2.2 비교연산자"
   ]
  },
  {
   "cell_type": "code",
   "execution_count": 123,
   "id": "5237b8fc-80ab-41d0-8b57-333aac48ad45",
   "metadata": {},
   "outputs": [],
   "source": [
    "a = 5\n",
    "b = 10"
   ]
  },
  {
   "cell_type": "code",
   "execution_count": 125,
   "id": "e5d053c8-9a96-4158-a9bc-b73be184c443",
   "metadata": {},
   "outputs": [
    {
     "name": "stdout",
     "output_type": "stream",
     "text": [
      "False\n",
      "True\n",
      "False\n",
      "True\n"
     ]
    }
   ],
   "source": [
    "print(a > b)\n",
    "print(a < b)\n",
    "print(a >= b)\n",
    "print(a <= b)"
   ]
  },
  {
   "cell_type": "code",
   "execution_count": 128,
   "id": "ff168cec-5d80-4ed4-9889-f199054c54f1",
   "metadata": {},
   "outputs": [
    {
     "name": "stdout",
     "output_type": "stream",
     "text": [
      "False\n",
      "True\n"
     ]
    }
   ],
   "source": [
    "print(a == b)\n",
    "print(a != b)"
   ]
  },
  {
   "cell_type": "code",
   "execution_count": 130,
   "id": "e351c274-b02d-460a-971b-49f785a517ea",
   "metadata": {},
   "outputs": [
    {
     "name": "stdout",
     "output_type": "stream",
     "text": [
      "True\n",
      "False\n"
     ]
    }
   ],
   "source": [
    "print('hi' == 'hi')\n",
    "print('Hi' == 'hi')"
   ]
  },
  {
   "cell_type": "markdown",
   "id": "29969f5b-5614-43af-a93f-0d891168ca79",
   "metadata": {},
   "source": [
    "### 2.3 논리 연산자\n",
    "\n",
    "- and : 양쪽 모두 Ture일 때, True를 반환\n",
    "- or : 양쪽 모두 False일 때, Fasle를 반환\n",
    "- not : 값을 반대로 전환"
   ]
  },
  {
   "cell_type": "code",
   "execution_count": 131,
   "id": "3219c649-3da2-448f-a9a1-1b7a549cda6f",
   "metadata": {},
   "outputs": [
    {
     "name": "stdout",
     "output_type": "stream",
     "text": [
      "True\n",
      "False\n",
      "False\n",
      "False\n"
     ]
    }
   ],
   "source": [
    "print(True and True)\n",
    "print(True and False)\n",
    "print(False and True)\n",
    "print(False and False)"
   ]
  },
  {
   "cell_type": "code",
   "execution_count": 136,
   "id": "a780844e-b7c3-47df-91cd-14cea3d8fc6e",
   "metadata": {},
   "outputs": [
    {
     "name": "stdout",
     "output_type": "stream",
     "text": [
      "True\n",
      "True\n",
      "True\n",
      "False\n"
     ]
    }
   ],
   "source": [
    "print(True or True)\n",
    "print(True or False)\n",
    "print(False or True)\n",
    "print(False or False)"
   ]
  },
  {
   "cell_type": "code",
   "execution_count": 139,
   "id": "f971f976-441d-4f4f-87a1-ff11fe40eb5b",
   "metadata": {},
   "outputs": [
    {
     "name": "stdout",
     "output_type": "stream",
     "text": [
      "False\n"
     ]
    }
   ],
   "source": [
    "result = True\n",
    "print(not result)"
   ]
  },
  {
   "cell_type": "code",
   "execution_count": 141,
   "id": "d149bebf-2604-49b5-a622-9766fa2f18d4",
   "metadata": {},
   "outputs": [
    {
     "name": "stdout",
     "output_type": "stream",
     "text": [
      "5\n",
      "0\n",
      "0\n",
      "0\n"
     ]
    }
   ],
   "source": [
    "# 단축평가 (and)\n",
    "\n",
    "print(3 and 5)\n",
    "print(3 and 0)\n",
    "print(0 and 3)\n",
    "print(0 and 0)"
   ]
  },
  {
   "cell_type": "code",
   "execution_count": 142,
   "id": "c1c971eb-2393-4dfb-b688-a6f86b32eaac",
   "metadata": {},
   "outputs": [
    {
     "name": "stdout",
     "output_type": "stream",
     "text": [
      "3\n",
      "3\n",
      "3\n",
      "0\n"
     ]
    }
   ],
   "source": [
    "# 단축평가 (or)\n",
    "\n",
    "print(3 or 5)\n",
    "print(3 or 0)\n",
    "print(0 or 3)\n",
    "print(0 or 0)"
   ]
  },
  {
   "cell_type": "markdown",
   "id": "ee09b482-1a08-47f0-9494-0c236fb256f6",
   "metadata": {},
   "source": [
    "### 2.4 복합 연산자"
   ]
  },
  {
   "cell_type": "code",
   "execution_count": 143,
   "id": "18643156-7371-4a9e-83e9-49550e9a711b",
   "metadata": {},
   "outputs": [],
   "source": [
    "a = 1\n",
    "b = 2"
   ]
  },
  {
   "cell_type": "code",
   "execution_count": null,
   "id": "3c9fab6b-f415-47b1-8d97-7087c40ee4fd",
   "metadata": {},
   "outputs": [],
   "source": [
    "a = a + b\n",
    "a = a - b\n",
    "a = a * b\n",
    "a = a / b"
   ]
  },
  {
   "cell_type": "code",
   "execution_count": 144,
   "id": "f49c7d61-6e28-4958-ad56-7cd2ce338229",
   "metadata": {},
   "outputs": [],
   "source": [
    "a += b\n",
    "a -= b\n",
    "a *= b\n",
    "a /= b\n",
    "a //= b\n",
    "a %= b\n",
    "a **= b"
   ]
  },
  {
   "cell_type": "markdown",
   "id": "8386690f-81ca-4dd6-9e90-b076a21bd4a3",
   "metadata": {},
   "source": [
    "### 2.5 기타 연산자\n"
   ]
  },
  {
   "cell_type": "code",
   "execution_count": 145,
   "id": "2936d7cc-c279-4be8-962b-b3ab714b9484",
   "metadata": {},
   "outputs": [],
   "source": [
    "a = 'hi'\n",
    "b = 'hello'"
   ]
  },
  {
   "cell_type": "code",
   "execution_count": 146,
   "id": "34fa3f98-9ff3-4032-9a30-b3c9ae4ba56f",
   "metadata": {},
   "outputs": [
    {
     "name": "stdout",
     "output_type": "stream",
     "text": [
      "hihello\n"
     ]
    }
   ],
   "source": [
    "# concatenation\n",
    "print(a + b)"
   ]
  },
  {
   "cell_type": "code",
   "execution_count": 148,
   "id": "57916bc3-a288-4086-b2c0-5b33594165ac",
   "metadata": {},
   "outputs": [],
   "source": [
    "a = [1, 2, 3]\n",
    "b = [4, 5, 6]"
   ]
  },
  {
   "cell_type": "code",
   "execution_count": 150,
   "id": "7faef6d6-c95e-4d10-a60f-8e29fe3f1018",
   "metadata": {},
   "outputs": [
    {
     "name": "stdout",
     "output_type": "stream",
     "text": [
      "[1, 2, 3, 4, 5, 6]\n"
     ]
    }
   ],
   "source": [
    "print(a + b)"
   ]
  },
  {
   "cell_type": "code",
   "execution_count": 159,
   "id": "b8d4f09e-0d40-4db8-a013-b5a2d5925760",
   "metadata": {},
   "outputs": [
    {
     "name": "stdout",
     "output_type": "stream",
     "text": [
      "True\n",
      "False\n"
     ]
    }
   ],
   "source": [
    "# containment\n",
    "print(1 in a)\n",
    "print(10 in a)"
   ]
  },
  {
   "cell_type": "code",
   "execution_count": 165,
   "id": "7e90ca46-9cfe-4550-9aff-850aed0d1f50",
   "metadata": {},
   "outputs": [
    {
     "name": "stdout",
     "output_type": "stream",
     "text": [
      "True\n",
      "False\n"
     ]
    }
   ],
   "source": [
    "# identity\n",
    "\n",
    "a = 257\n",
    "b = 257\n",
    "\n",
    "print(a == b)\n",
    "print(a is b)"
   ]
  },
  {
   "cell_type": "code",
   "execution_count": 162,
   "id": "a2cc0299-fc02-43ea-a02a-0e8b9e7ea561",
   "metadata": {},
   "outputs": [
    {
     "name": "stdout",
     "output_type": "stream",
     "text": [
      "True\n",
      "False\n"
     ]
    }
   ],
   "source": [
    "a = 123123\n",
    "b = 123123\n",
    "\n",
    "print(a == b)\n",
    "print(a is b)"
   ]
  },
  {
   "cell_type": "markdown",
   "id": "5182704b-d42c-4e94-88c6-03f1afc6c19e",
   "metadata": {},
   "source": [
    "#### 우선순위\n",
    "\n",
    "0. ()를 통해 그룹\n",
    "1. **\n",
    "2. 산술연산자(*, /)\n",
    "3. 산술연산자(+, -)\n",
    "4. 비교연산자, in, is\n",
    "5. not\n",
    "6. and\n",
    "7. or"
   ]
  },
  {
   "cell_type": "code",
   "execution_count": 169,
   "id": "e5929866-fd69-4b32-bab8-6afeb2838080",
   "metadata": {},
   "outputs": [
    {
     "name": "stdout",
     "output_type": "stream",
     "text": [
      "-81\n",
      "81\n"
     ]
    }
   ],
   "source": [
    "print(-3 ** 4)\n",
    "print((-3) ** 4 )"
   ]
  },
  {
   "cell_type": "markdown",
   "id": "366ed79f-5213-48d1-808e-4e8d504db7fa",
   "metadata": {},
   "source": [
    "## 3. 형변환"
   ]
  },
  {
   "cell_type": "markdown",
   "id": "e5763076",
   "metadata": {},
   "source": [
    "### 3.1 암시적 형변환"
   ]
  },
  {
   "cell_type": "code",
   "execution_count": 170,
   "id": "8eedda33-81f0-4952-8278-c446c58c0f17",
   "metadata": {},
   "outputs": [],
   "source": [
    "a = True\n",
    "b = False\n",
    "c = 1"
   ]
  },
  {
   "cell_type": "code",
   "execution_count": 172,
   "id": "a855c45e-1e7e-4851-a807-a205c771c89a",
   "metadata": {},
   "outputs": [
    {
     "name": "stdout",
     "output_type": "stream",
     "text": [
      "1\n",
      "-1\n"
     ]
    }
   ],
   "source": [
    "print(a + b)\n",
    "print(b - c)"
   ]
  },
  {
   "cell_type": "code",
   "execution_count": 174,
   "id": "4dba6d69-5e2f-4e98-819e-c5b25d605df6",
   "metadata": {},
   "outputs": [],
   "source": [
    "int_num = 3\n",
    "float_num = 3.3\n",
    "complex_num = 3 + 3j"
   ]
  },
  {
   "cell_type": "code",
   "execution_count": 177,
   "id": "99909d70-3b3e-43e3-81d5-055f6a02d322",
   "metadata": {},
   "outputs": [
    {
     "name": "stdout",
     "output_type": "stream",
     "text": [
      "<class 'float'>\n",
      "(6.3+3j)\n"
     ]
    }
   ],
   "source": [
    "print(type(int_num + float_num))\n",
    "print(float_num + complex_num)"
   ]
  },
  {
   "cell_type": "markdown",
   "id": "7ab2b52c-1dfe-4648-9d67-32de99b57e90",
   "metadata": {},
   "source": [
    "### 3.2 명시적 형변환\n",
    "\n",
    "- int() : string, float => int\n",
    "- float() : string, int => float\n",
    "- str() : int, float => string\n",
    "- bool() : int, sting => bool"
   ]
  },
  {
   "cell_type": "markdown",
   "id": "65c53f74",
   "metadata": {},
   "source": [
    "int(str)   int(float)"
   ]
  },
  {
   "cell_type": "code",
   "execution_count": 178,
   "id": "604ea0d8-aa56-4b91-bb19-acc698869d5a",
   "metadata": {},
   "outputs": [],
   "source": [
    "a = 1\n",
    "b = '번'"
   ]
  },
  {
   "cell_type": "code",
   "execution_count": 184,
   "id": "49f6232a-d880-4c34-8b71-e5ce7ff79642",
   "metadata": {},
   "outputs": [
    {
     "ename": "TypeError",
     "evalue": "unsupported operand type(s) for +: 'int' and 'str'",
     "output_type": "error",
     "traceback": [
      "\u001b[1;31m---------------------------------------------------------------------------\u001b[0m",
      "\u001b[1;31mTypeError\u001b[0m                                 Traceback (most recent call last)",
      "Cell \u001b[1;32mIn[184], line 1\u001b[0m\n\u001b[1;32m----> 1\u001b[0m \u001b[38;5;28mprint\u001b[39m(\u001b[43ma\u001b[49m\u001b[43m \u001b[49m\u001b[38;5;241;43m+\u001b[39;49m\u001b[43m \u001b[49m\u001b[43mb\u001b[49m)\n",
      "\u001b[1;31mTypeError\u001b[0m: unsupported operand type(s) for +: 'int' and 'str'"
     ]
    }
   ],
   "source": [
    "print(a + b)"
   ]
  },
  {
   "cell_type": "code",
   "execution_count": 186,
   "id": "e6568ce4-a45d-455b-8c20-4cf32ee9bd2a",
   "metadata": {},
   "outputs": [
    {
     "name": "stdout",
     "output_type": "stream",
     "text": [
      "1번\n"
     ]
    }
   ],
   "source": [
    "print(str(a) + b)"
   ]
  },
  {
   "cell_type": "code",
   "execution_count": 189,
   "id": "e2b97967-fe82-4676-b1de-8e9ac1bd348e",
   "metadata": {},
   "outputs": [
    {
     "name": "stdout",
     "output_type": "stream",
     "text": [
      "<class 'str'>\n",
      "<class 'int'>\n"
     ]
    }
   ],
   "source": [
    "a = '3'\n",
    "print(type(a))\n",
    "print(type(int(a)))"
   ]
  },
  {
   "cell_type": "code",
   "execution_count": 193,
   "id": "b8df4f0c-3abf-4161-9bd2-8a199147711d",
   "metadata": {},
   "outputs": [
    {
     "ename": "ValueError",
     "evalue": "invalid literal for int() with base 10: 'a'",
     "output_type": "error",
     "traceback": [
      "\u001b[1;31m---------------------------------------------------------------------------\u001b[0m",
      "\u001b[1;31mValueError\u001b[0m                                Traceback (most recent call last)",
      "Cell \u001b[1;32mIn[193], line 2\u001b[0m\n\u001b[0;32m      1\u001b[0m a \u001b[38;5;241m=\u001b[39m \u001b[38;5;124m'\u001b[39m\u001b[38;5;124ma\u001b[39m\u001b[38;5;124m'\u001b[39m\n\u001b[1;32m----> 2\u001b[0m \u001b[38;5;28mprint\u001b[39m(\u001b[38;5;28;43mint\u001b[39;49m\u001b[43m(\u001b[49m\u001b[43ma\u001b[49m\u001b[43m)\u001b[49m)\n",
      "\u001b[1;31mValueError\u001b[0m: invalid literal for int() with base 10: 'a'"
     ]
    }
   ],
   "source": [
    "a = 'a'\n",
    "print(int(a))"
   ]
  },
  {
   "cell_type": "code",
   "execution_count": 195,
   "id": "b53e6ed3-21f7-4c13-ba4d-0bbb357c5ae5",
   "metadata": {},
   "outputs": [
    {
     "name": "stdout",
     "output_type": "stream",
     "text": [
      "3.3\n"
     ]
    }
   ],
   "source": [
    "a = '3.3'\n",
    "print(float(a))"
   ]
  },
  {
   "cell_type": "code",
   "execution_count": 198,
   "id": "acfa152b-8369-427e-bd05-facbe2586fa4",
   "metadata": {},
   "outputs": [
    {
     "name": "stdout",
     "output_type": "stream",
     "text": [
      "True\n",
      "False\n"
     ]
    }
   ],
   "source": [
    "a = 1\n",
    "b = 0\n",
    "\n",
    "print(bool(a))\n",
    "print(bool(b))"
   ]
  },
  {
   "cell_type": "code",
   "execution_count": 203,
   "id": "aa7007f7-f7e9-466b-8965-0c020c6eefb1",
   "metadata": {},
   "outputs": [
    {
     "name": "stdout",
     "output_type": "stream",
     "text": [
      "False\n",
      "True\n"
     ]
    }
   ],
   "source": [
    "print(bool([]))\n",
    "print(bool([1, 2, 3]))"
   ]
  },
  {
   "cell_type": "markdown",
   "id": "48950744-ae9f-4da5-a1c0-e91e02bc3e5c",
   "metadata": {},
   "source": [
    "## 4. 시퀀스 자료형\n",
    "\n",
    "시퀀스는 데이터의 순서대로 나열된 자료구조. (순서대로 나열되었다는 것은 정렬된것과 다르다)\n",
    "\n",
    "1. List\n",
    "2. Tuple\n",
    "3. Range\n",
    "4. String"
   ]
  },
  {
   "cell_type": "markdown",
   "id": "158e34c4-e1ff-4240-b368-5d9949119da2",
   "metadata": {},
   "source": [
    "### 4.1 List (리스트, 배열)\n",
    "\n",
    "- 선언 : 변수이름 = [value1, value2, value3 ...]\n",
    "- 접근 : 변수이름[index]"
   ]
  },
  {
   "cell_type": "code",
   "execution_count": 205,
   "id": "81014dc7-8d62-4f8f-b495-ad49adb14cab",
   "metadata": {},
   "outputs": [
    {
     "name": "stdout",
     "output_type": "stream",
     "text": [
      "[]\n",
      "<class 'list'>\n"
     ]
    }
   ],
   "source": [
    "l = []\n",
    "print(l)\n",
    "print(type(l))"
   ]
  },
  {
   "cell_type": "code",
   "execution_count": 210,
   "id": "49c4a0d1-f1a0-4ad7-a2ff-4c51473042ec",
   "metadata": {},
   "outputs": [
    {
     "name": "stdout",
     "output_type": "stream",
     "text": [
      "['서울', '대전', '부산']\n",
      "부산\n",
      "['서울', '광주', '부산']\n"
     ]
    }
   ],
   "source": [
    "location = ['서울', '대전', '부산']\n",
    "print(location)\n",
    "print(location[2])\n",
    "\n",
    "location[1] = '광주'\n",
    "print(location)"
   ]
  },
  {
   "cell_type": "markdown",
   "id": "c6746927-d3f2-42a7-b035-36d39a6b5707",
   "metadata": {},
   "source": [
    "### 4.2 Tuple (튜플)\n",
    "- 선언 : 변수이름 = (value1, value2, value3)\n",
    "- 접근 : 변수이름[index]\n",
    "- 리스트와 유사하지만 수정 불가능(immutable)이다."
   ]
  },
  {
   "cell_type": "code",
   "execution_count": 212,
   "id": "8a6b0812-e337-475f-b6cb-d1cc3aa51749",
   "metadata": {},
   "outputs": [
    {
     "name": "stdout",
     "output_type": "stream",
     "text": [
      "(123, 456, 789)\n",
      "456\n"
     ]
    }
   ],
   "source": [
    "numbers = (123, 456, 789)\n",
    "print(numbers)\n",
    "print(numbers[1])"
   ]
  },
  {
   "cell_type": "code",
   "execution_count": 221,
   "id": "29040828-0936-4277-b363-5b4ab31cf8ae",
   "metadata": {},
   "outputs": [
    {
     "ename": "TypeError",
     "evalue": "'tuple' object does not support item assignment",
     "output_type": "error",
     "traceback": [
      "\u001b[1;31m---------------------------------------------------------------------------\u001b[0m",
      "\u001b[1;31mTypeError\u001b[0m                                 Traceback (most recent call last)",
      "Cell \u001b[1;32mIn[221], line 1\u001b[0m\n\u001b[1;32m----> 1\u001b[0m \u001b[43mnumbers\u001b[49m\u001b[43m[\u001b[49m\u001b[38;5;241;43m1\u001b[39;49m\u001b[43m]\u001b[49m \u001b[38;5;241m=\u001b[39m \u001b[38;5;241m654\u001b[39m\n",
      "\u001b[1;31mTypeError\u001b[0m: 'tuple' object does not support item assignment"
     ]
    }
   ],
   "source": [
    "numbers[1] = 654"
   ]
  },
  {
   "cell_type": "code",
   "execution_count": 224,
   "id": "80167683-cf92-47bd-9802-6d28ecffcbcf",
   "metadata": {},
   "outputs": [
    {
     "name": "stdout",
     "output_type": "stream",
     "text": [
      "1 2\n",
      "2 1\n"
     ]
    }
   ],
   "source": [
    "(x, y) = (1, 2)\n",
    "print(x, y)\n",
    "\n",
    "x, y = y, x\n",
    "print(x, y)"
   ]
  },
  {
   "cell_type": "markdown",
   "id": "ad89ed56-3059-45d9-ae73-0d89932e29c6",
   "metadata": {},
   "source": [
    "### 4.3 Range\n",
    "\n",
    "- range(n) : 0부터 n-1까지 범위\n",
    "- range(n, m) : n부터 m-1까지 범위\n",
    "- range(n, m, s) : n부터 m-1까지 s 만큼 증가하는 범위"
   ]
  },
  {
   "cell_type": "code",
   "execution_count": 226,
   "id": "9694d39e-93f0-4073-9d22-5d7e4ba30ec5",
   "metadata": {},
   "outputs": [
    {
     "name": "stdout",
     "output_type": "stream",
     "text": [
      "range(0, 45)\n",
      "[0, 1, 2, 3, 4, 5, 6, 7, 8, 9, 10, 11, 12, 13, 14, 15, 16, 17, 18, 19, 20, 21, 22, 23, 24, 25, 26, 27, 28, 29, 30, 31, 32, 33, 34, 35, 36, 37, 38, 39, 40, 41, 42, 43, 44]\n"
     ]
    }
   ],
   "source": [
    "lotto = range(45)\n",
    "print(lotto)\n",
    "print(list(lotto))"
   ]
  },
  {
   "cell_type": "code",
   "execution_count": 227,
   "id": "7e7cc1df-3524-403a-83c6-afcbb326b60e",
   "metadata": {},
   "outputs": [
    {
     "name": "stdout",
     "output_type": "stream",
     "text": [
      "range(5, 10)\n",
      "[5, 6, 7, 8, 9]\n"
     ]
    }
   ],
   "source": [
    "numbers = range(5, 10)\n",
    "print(numbers)\n",
    "print(list(numbers))"
   ]
  },
  {
   "cell_type": "code",
   "execution_count": 231,
   "id": "0f404403-98bd-47dc-9e9f-0c5265220411",
   "metadata": {},
   "outputs": [
    {
     "name": "stdout",
     "output_type": "stream",
     "text": [
      "range(2, 20, 2)\n",
      "[2, 4, 6, 8, 10, 12, 14, 16, 18]\n"
     ]
    }
   ],
   "source": [
    "even = range(2, 20, 2)\n",
    "print(even)\n",
    "print(list(even))"
   ]
  },
  {
   "cell_type": "code",
   "execution_count": 233,
   "id": "433797ae-51b3-4bac-8a09-6267f2212b24",
   "metadata": {},
   "outputs": [
    {
     "name": "stdout",
     "output_type": "stream",
     "text": [
      "range(0, -10, -2)\n",
      "[0, -2, -4, -6, -8]\n"
     ]
    }
   ],
   "source": [
    "numbers = range(0, -10, -2)\n",
    "print(numbers)\n",
    "print(list(numbers))"
   ]
  },
  {
   "cell_type": "markdown",
   "id": "e7074cc0-2e39-46a0-a1cf-0407c585544c",
   "metadata": {},
   "source": [
    "### 4.4 String\n",
    "기본 데이터 구조 참고"
   ]
  },
  {
   "cell_type": "markdown",
   "id": "5e72d315-f3d5-464b-9cd4-27ca2456f547",
   "metadata": {},
   "source": [
    "### 4.5 시퀀스에서 활용가능한 연산/함수"
   ]
  },
  {
   "cell_type": "code",
   "execution_count": 234,
   "id": "c27c4e51-83bc-4457-97fb-bdc980374f6c",
   "metadata": {},
   "outputs": [],
   "source": [
    "my_list = [1, 2, 3, 4, 5]\n",
    "my_tuple = (1, 2, 3, 4, 5)\n",
    "my_range = range(5)\n",
    "my_string = '12345'"
   ]
  },
  {
   "cell_type": "code",
   "execution_count": 239,
   "id": "0bddfffe-d014-4ad4-b6f1-628fa077cfd4",
   "metadata": {},
   "outputs": [
    {
     "name": "stdout",
     "output_type": "stream",
     "text": [
      "1\n",
      "1\n",
      "0\n",
      "1\n"
     ]
    }
   ],
   "source": [
    "# indexing\n",
    "print(my_list[0])\n",
    "print(my_tuple[0])\n",
    "print(my_range[0])\n",
    "print(my_string[0])"
   ]
  },
  {
   "cell_type": "code",
   "execution_count": 244,
   "id": "b3bc4a15-340b-4396-a31b-0eee850504bd",
   "metadata": {},
   "outputs": [
    {
     "name": "stdout",
     "output_type": "stream",
     "text": [
      "[2, 3]\n",
      "(2, 3)\n",
      "range(1, 3)\n",
      "23\n",
      "13\n"
     ]
    }
   ],
   "source": [
    "# slicing\n",
    "print(my_list[1:3])\n",
    "print(my_tuple[1:3])\n",
    "print(my_range[1:3])\n",
    "print(my_string[1:3])\n",
    "\n",
    "print(my_string[0:4:2])"
   ]
  },
  {
   "cell_type": "code",
   "execution_count": 250,
   "id": "4a9a2886-6d4d-44ef-8e2c-94bef7bedf2e",
   "metadata": {},
   "outputs": [
    {
     "name": "stdout",
     "output_type": "stream",
     "text": [
      "True\n",
      "True\n",
      "True\n",
      "False\n"
     ]
    }
   ],
   "source": [
    "# in\n",
    "print(1 in my_list)\n",
    "print(1 in my_tuple)\n",
    "print('1' in my_string)\n",
    "\n",
    "# not in\n",
    "print(1 not in my_list)"
   ]
  },
  {
   "cell_type": "code",
   "execution_count": 256,
   "id": "f2f4c8d4-6bdc-42f0-9f8e-6665fd77a1a1",
   "metadata": {},
   "outputs": [
    {
     "name": "stdout",
     "output_type": "stream",
     "text": [
      "[1, 2, 3, 4, 5, 6, 7, 8, 9, 10]\n",
      "(1, 2, 3, 4, 5, 6, 7, 8, 9, 10)\n",
      "12345678910\n"
     ]
    }
   ],
   "source": [
    "# concatenation\n",
    "print(my_list + [6, 7, 8, 9, 10])\n",
    "print(my_tuple + (6, 7, 8, 9, 10))\n",
    "print(my_string + '678910')"
   ]
  },
  {
   "cell_type": "code",
   "execution_count": 261,
   "id": "195387d6-eee8-44cc-9806-ac85755e776e",
   "metadata": {},
   "outputs": [
    {
     "name": "stdout",
     "output_type": "stream",
     "text": [
      "##########\n",
      "[0, 0, 0, 0, 0, 0, 0, 0, 0, 0]\n"
     ]
    }
   ],
   "source": [
    "# *\n",
    "print('#' * 10)\n",
    "print([0] * 10)"
   ]
  },
  {
   "cell_type": "code",
   "execution_count": 263,
   "id": "9d05d93e-079c-4ea8-b1b4-77b850f92eb5",
   "metadata": {},
   "outputs": [
    {
     "name": "stdout",
     "output_type": "stream",
     "text": [
      "5\n"
     ]
    }
   ],
   "source": [
    "print(len(my_list))"
   ]
  },
  {
   "cell_type": "code",
   "execution_count": 264,
   "id": "e5e3da4f-6d58-4921-ba22-cb44f57eb11d",
   "metadata": {},
   "outputs": [
    {
     "name": "stdout",
     "output_type": "stream",
     "text": [
      "5\n"
     ]
    }
   ],
   "source": [
    "print(max(my_list))"
   ]
  },
  {
   "cell_type": "code",
   "execution_count": 265,
   "id": "69b858fa-3aa0-4203-8e12-d1c1de16b70b",
   "metadata": {},
   "outputs": [
    {
     "name": "stdout",
     "output_type": "stream",
     "text": [
      "1\n"
     ]
    }
   ],
   "source": [
    "print(min(my_list))"
   ]
  },
  {
   "cell_type": "markdown",
   "id": "9dda46a9-edbe-412a-8a35-647be38c800a",
   "metadata": {},
   "source": [
    "## 5. 시퀀스형이 아닌 자료구조\n"
   ]
  },
  {
   "cell_type": "markdown",
   "id": "d6e31043-3219-4cb8-a2a0-f8a51b986098",
   "metadata": {},
   "source": [
    "### 5.1 Set\n",
    "수학에서 사용하는 집합과 동일한 개념 (중복값이 없음)\n",
    "\n",
    "- 선언 : 변수이름 = {value1, value2, value3 ...}"
   ]
  },
  {
   "cell_type": "code",
   "execution_count": 267,
   "id": "b578969a-539e-4725-adc1-32d7c15bf494",
   "metadata": {},
   "outputs": [],
   "source": [
    "my_set_a = {1, 3, 5, 7, 9}\n",
    "my_set_b = {1, 2, 3, 4, 5}"
   ]
  },
  {
   "cell_type": "code",
   "execution_count": 271,
   "id": "c4ddac0f-af95-42ff-8d74-830261656e68",
   "metadata": {},
   "outputs": [
    {
     "name": "stdout",
     "output_type": "stream",
     "text": [
      "{9, 7}\n",
      "{1, 2, 3, 4, 5, 7, 9}\n",
      "{1, 3, 5}\n"
     ]
    }
   ],
   "source": [
    "print(my_set_a - my_set_b)\n",
    "print(my_set_a | my_set_b)\n",
    "print(my_set_a & my_set_b)"
   ]
  },
  {
   "cell_type": "code",
   "execution_count": 272,
   "id": "97fc1346-779b-4c6d-81b2-63f6627ac605",
   "metadata": {},
   "outputs": [
    {
     "name": "stdout",
     "output_type": "stream",
     "text": [
      "{1, 2, 3, 4, 5, 6}\n"
     ]
    }
   ],
   "source": [
    "test_set = {1, 2, 3, 4, 1, 3, 4, 5, 6, 1, 2, 3, 4, 5}\n",
    "print(test_set)"
   ]
  },
  {
   "cell_type": "markdown",
   "id": "dfda461f-36ed-47aa-aa2f-47d49ab3e06c",
   "metadata": {},
   "source": [
    "### 5.2 Dictionary\n",
    "\n",
    "- 선언 : 변수이름 = {key1: value1, key2: value2, ...}\n",
    "- 접근 : 변수이름[key]"
   ]
  },
  {
   "cell_type": "code",
   "execution_count": 275,
   "id": "21051626-d17a-4460-a5c2-94afb3e68c60",
   "metadata": {},
   "outputs": [
    {
     "name": "stdout",
     "output_type": "stream",
     "text": [
      "{'서울': '02', '경기': '031'}\n",
      "02\n"
     ]
    }
   ],
   "source": [
    "my_dict = {'서울': '02', '경기': '031'}\n",
    "print(my_dict)\n",
    "print(my_dict['서울'])"
   ]
  },
  {
   "cell_type": "code",
   "execution_count": 278,
   "id": "2fa4256a-e2c7-4676-b017-b91f78fab75d",
   "metadata": {},
   "outputs": [
    {
     "name": "stdout",
     "output_type": "stream",
     "text": [
      "seoul\n"
     ]
    }
   ],
   "source": [
    "my_info = {\n",
    "    'name': 'changhee',\n",
    "    'location': 'seoul',\n",
    "    'age': 10,\n",
    "}\n",
    "\n",
    "print(my_info['location'])"
   ]
  },
  {
   "cell_type": "code",
   "execution_count": 280,
   "id": "10fd1e50-c578-4dc2-aa65-0e121282a1ca",
   "metadata": {},
   "outputs": [
    {
     "data": {
      "text/plain": [
       "dict_keys(['name', 'location', 'age'])"
      ]
     },
     "execution_count": 280,
     "metadata": {},
     "output_type": "execute_result"
    }
   ],
   "source": [
    "my_info.keys()"
   ]
  },
  {
   "cell_type": "code",
   "execution_count": 282,
   "id": "a53c137c-837c-4b81-a3ad-18d9c9683b78",
   "metadata": {},
   "outputs": [
    {
     "data": {
      "text/plain": [
       "dict_values(['changhee', 'seoul', 10])"
      ]
     },
     "execution_count": 282,
     "metadata": {},
     "output_type": "execute_result"
    }
   ],
   "source": [
    "my_info.values()"
   ]
  },
  {
   "cell_type": "markdown",
   "id": "e42fab4e-a98d-48fc-b860-10a2134bc012",
   "metadata": {},
   "source": [
    "##### 데이터 타입\n",
    "1. Number\n",
    "2. Boolean\n",
    "3. String\n",
    "\n",
    "##### 자료구조\n",
    "- 시퀀스 자료형\n",
    "\n",
    "1. [List] : mutable\n",
    "2. (Tuple) : immutable\n",
    "3. range() : immutable\n",
    "4. 'String' : immutable\n",
    "\n",
    "\n",
    "- 시퀀스가 아닌 자료형\n",
    "\n",
    "1. {Set} : mutable\n",
    "2. {Dict: ionary} : mutable"
   ]
  },
  {
   "cell_type": "code",
   "execution_count": 288,
   "id": "3e9a35e9-1f92-4f74-a516-8122cc76be2f",
   "metadata": {},
   "outputs": [
    {
     "name": "stdout",
     "output_type": "stream",
     "text": [
      "[1, 10, 3]\n"
     ]
    }
   ],
   "source": [
    "a = [1, 2, 3]\n",
    "a[1] = 10\n",
    "print(a)"
   ]
  },
  {
   "cell_type": "code",
   "execution_count": 290,
   "id": "cba1329d-9714-4023-9ec4-ea49a1c4a296",
   "metadata": {},
   "outputs": [
    {
     "name": "stdout",
     "output_type": "stream",
     "text": [
      "e\n"
     ]
    },
    {
     "ename": "TypeError",
     "evalue": "'str' object does not support item assignment",
     "output_type": "error",
     "traceback": [
      "\u001b[1;31m---------------------------------------------------------------------------\u001b[0m",
      "\u001b[1;31mTypeError\u001b[0m                                 Traceback (most recent call last)",
      "Cell \u001b[1;32mIn[290], line 3\u001b[0m\n\u001b[0;32m      1\u001b[0m b \u001b[38;5;241m=\u001b[39m \u001b[38;5;124m'\u001b[39m\u001b[38;5;124mhello\u001b[39m\u001b[38;5;124m'\u001b[39m\n\u001b[0;32m      2\u001b[0m \u001b[38;5;28mprint\u001b[39m(b[\u001b[38;5;241m1\u001b[39m])\n\u001b[1;32m----> 3\u001b[0m \u001b[43mb\u001b[49m\u001b[43m[\u001b[49m\u001b[38;5;241;43m1\u001b[39;49m\u001b[43m]\u001b[49m \u001b[38;5;241m=\u001b[39m \u001b[38;5;124m'\u001b[39m\u001b[38;5;124ma\u001b[39m\u001b[38;5;124m'\u001b[39m\n",
      "\u001b[1;31mTypeError\u001b[0m: 'str' object does not support item assignment"
     ]
    }
   ],
   "source": [
    "b = 'hello'\n",
    "print(b[1])\n",
    "b[1] = 'a'"
   ]
  }
 ],
 "metadata": {
  "kernelspec": {
   "display_name": "Python 3 (ipykernel)",
   "language": "python",
   "name": "python3"
  },
  "language_info": {
   "codemirror_mode": {
    "name": "ipython",
    "version": 3
   },
   "file_extension": ".py",
   "mimetype": "text/x-python",
   "name": "python",
   "nbconvert_exporter": "python",
   "pygments_lexer": "ipython3",
   "version": "3.12.4"
  }
 },
 "nbformat": 4,
 "nbformat_minor": 5
}
