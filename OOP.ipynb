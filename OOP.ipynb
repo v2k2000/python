{
 "cells": [
  {
   "cell_type": "markdown",
   "id": "f7328659-bb96-4ce1-be9e-10095709bda9",
   "metadata": {},
   "source": [
    "### 객체지향 프로그래밍(OOP)"
   ]
  },
  {
   "cell_type": "code",
   "execution_count": null,
   "id": "ac1eddb0-62d3-4f6e-8e4c-dd9121485f6a",
   "metadata": {},
   "outputs": [],
   "source": [
    "number = 1+2j\n",
    "type(number)"
   ]
  },
  {
   "cell_type": "code",
   "execution_count": null,
   "id": "ae9278db-c62e-47fa-850e-44a4b57f5a27",
   "metadata": {},
   "outputs": [],
   "source": [
    "print(number.real)\n",
    "print(number.imag)"
   ]
  },
  {
   "cell_type": "code",
   "execution_count": null,
   "id": "0f19a236-969b-4e13-906f-2856678c1898",
   "metadata": {},
   "outputs": [],
   "source": [
    "numbers = [1, 2, 3]\n",
    "type(numbers)"
   ]
  },
  {
   "cell_type": "code",
   "execution_count": null,
   "id": "13c40d74-e1f9-4d2c-a963-f4516d79456e",
   "metadata": {},
   "outputs": [],
   "source": [
    "numbers.reverse()\n",
    "print(numbers)"
   ]
  },
  {
   "cell_type": "code",
   "execution_count": null,
   "id": "7caba091-09cf-4da3-b7fd-53e4347d2438",
   "metadata": {},
   "outputs": [],
   "source": [
    "# 핸드폰\n",
    "\n",
    "power = False\n",
    "number = '010-1234-1234'\n",
    "book = {\n",
    "    'lee': '010-1212-1212',\n",
    "    'kim': '010-2323-2323',\n",
    "}\n",
    "def call(from_number, to_number):\n",
    "    print(f'{number}에서 {to_number}로 전화거는중')\n",
    "\n",
    "call(number, book['kim'])"
   ]
  },
  {
   "cell_type": "markdown",
   "id": "92e99fd5-080b-493d-a59c-fb24e183d168",
   "metadata": {},
   "source": [
    "## class\n",
    "\n",
    "\n",
    "-클래스 선언\n",
    "변수, 함수 포함가능\n",
    "\n",
    "```python\n",
    "class ClassName():\n",
    "    attribute = value\n",
    "    ...\n",
    "    \n",
    "    def method_name(self):\n",
    "        code\n",
    "    ...\n",
    "```\n",
    "\n",
    "-인스턴트화 (클래스 실행)\n",
    "\n",
    "```python\n",
    "c = ClassName()\n",
    "```"
   ]
  },
  {
   "cell_type": "code",
   "execution_count": 25,
   "id": "85c231ae-cf8e-42dd-84d5-6564b830ef88",
   "metadata": {},
   "outputs": [],
   "source": [
    "# 선언\n",
    "class MyClass():\n",
    "    name = 'lee'\n",
    "    def hello(self):\n",
    "        return 'hello'"
   ]
  },
  {
   "cell_type": "code",
   "execution_count": 26,
   "id": "7cd98fd8-1ae5-4cdd-9590-97a5a85b5384",
   "metadata": {},
   "outputs": [
    {
     "name": "stdout",
     "output_type": "stream",
     "text": [
      "<__main__.MyClass object at 0x000001E8075E45C0>\n",
      "<class '__main__.MyClass'>\n"
     ]
    }
   ],
   "source": [
    "# 인스턴트화\n",
    "m = MyClass()\n",
    "print(m)\n",
    "# 주소출력\n",
    "print(type(m))\n"
   ]
  },
  {
   "cell_type": "code",
   "execution_count": 27,
   "id": "39d1a9d1-c936-45e9-97d3-ec6b1d46dac2",
   "metadata": {},
   "outputs": [
    {
     "name": "stdout",
     "output_type": "stream",
     "text": [
      "lee\n",
      "hello\n"
     ]
    }
   ],
   "source": [
    "print(m.name)\n",
    "print(m.hello())"
   ]
  },
  {
   "cell_type": "code",
   "execution_count": 28,
   "id": "8f31ce80-156d-441c-bf0a-55f3f9df36c4",
   "metadata": {},
   "outputs": [
    {
     "name": "stdout",
     "output_type": "stream",
     "text": [
      "<__main__.MyClass object at 0x000001E8075B9C10>\n"
     ]
    }
   ],
   "source": [
    "m2 = MyClass()\n",
    "print(m2)"
   ]
  },
  {
   "cell_type": "code",
   "execution_count": 29,
   "id": "3b234fa4-4e23-456f-a118-a5d302787eeb",
   "metadata": {},
   "outputs": [
    {
     "name": "stdout",
     "output_type": "stream",
     "text": [
      "pakr\n"
     ]
    }
   ],
   "source": [
    "m2.name = 'pakr'\n",
    "print(m2.name)"
   ]
  },
  {
   "cell_type": "markdown",
   "id": "96afe95c-d5cb-4782-936a-c32a10630820",
   "metadata": {},
   "source": [
    "### 차이점은 변수와 속성의 관계"
   ]
  },
  {
   "cell_type": "code",
   "execution_count": 75,
   "id": "0453f267-eaf9-4324-9877-17713d41a37c",
   "metadata": {},
   "outputs": [],
   "source": [
    "class Phone():\n",
    "    power = False\n",
    "    number = '010-0000-0000'\n",
    "    book = {}\n",
    "    model = ''\n",
    "\n",
    "    def on(self):\n",
    "        if self.power == False:\n",
    "            self.power = True\n",
    "\n",
    "    def off(self):\n",
    "        if self.power == True:\n",
    "            self.power = False\n",
    "\n",
    "    def call(self, target):\n",
    "        if self.power == True:\n",
    "            print(f'{self.number}에서 {target}로 전화거는중.')\n",
    "        else:\n",
    "            print('핸드폰이 꺼져있음')"
   ]
  },
  {
   "cell_type": "code",
   "execution_count": 76,
   "id": "a393825d-eb2d-4329-86da-f4fb216db2f2",
   "metadata": {},
   "outputs": [],
   "source": [
    "my_phone = Phone()\n",
    "your_phone = Phone()"
   ]
  },
  {
   "cell_type": "code",
   "execution_count": 77,
   "id": "012388ab-b5ff-4162-a097-175ecf72f555",
   "metadata": {},
   "outputs": [],
   "source": [
    "my_phone.number = '010-1111-1111'"
   ]
  },
  {
   "cell_type": "code",
   "execution_count": 78,
   "id": "60a0867a-dde3-495a-8dd9-7285689cdfc4",
   "metadata": {},
   "outputs": [],
   "source": [
    "your_phone.number = '010-2222-2222'"
   ]
  },
  {
   "cell_type": "code",
   "execution_count": 79,
   "id": "553e763e-6823-4d07-817a-78ec148ce550",
   "metadata": {},
   "outputs": [
    {
     "name": "stdout",
     "output_type": "stream",
     "text": [
      "핸드폰이 꺼져있음\n"
     ]
    }
   ],
   "source": [
    "my_phone.call(your_phone)"
   ]
  },
  {
   "cell_type": "code",
   "execution_count": 81,
   "id": "08ba3fc0-ce06-412b-ad82-7134e5163962",
   "metadata": {},
   "outputs": [
    {
     "name": "stdout",
     "output_type": "stream",
     "text": [
      "010-1111-1111에서 112로 전화거는중.\n"
     ]
    }
   ],
   "source": [
    "my_phone.on()\n",
    "my_phone.call('112')"
   ]
  },
  {
   "cell_type": "code",
   "execution_count": null,
   "id": "e66d7f51-19e2-4a73-805f-cb1b3e637adb",
   "metadata": {},
   "outputs": [],
   "source": []
  },
  {
   "cell_type": "code",
   "execution_count": 143,
   "id": "9eecd730-2ff2-4dd6-8c98-772b5a0c197a",
   "metadata": {},
   "outputs": [],
   "source": [
    "class MyList():\n",
    "    data = []\n",
    "    def append(self, n):\n",
    "        self.data = self.data + [n]\n",
    "\n",
    "    def pop(self):\n",
    "        result = self.data[-1]\n",
    "        self.data = self.data[:-1]\n",
    "        return result"
   ]
  },
  {
   "cell_type": "code",
   "execution_count": null,
   "id": "a5699a38-73ee-40f7-a500-f6a64684defb",
   "metadata": {},
   "outputs": [],
   "source": []
  },
  {
   "cell_type": "code",
   "execution_count": 146,
   "id": "01b6e4a4-30a2-49e7-b3b3-40fb2decc245",
   "metadata": {},
   "outputs": [
    {
     "name": "stdout",
     "output_type": "stream",
     "text": [
      "[]\n",
      "[5]\n",
      "[5, 10]\n",
      "[5]\n"
     ]
    }
   ],
   "source": [
    "list_a = MyList()\n",
    "\n",
    "print(list_a.data) # []\n",
    "\n",
    "list_a.append(5)\n",
    "print(list_a.data) # [5]\n",
    "list_a.append(10)\n",
    "print(list_a.data) # [5, 10]\n",
    "\n",
    "list_a.pop()\n",
    "print(list_a.data) # [5]"
   ]
  },
  {
   "cell_type": "markdown",
   "id": "658a1fb1-d39b-418a-9549-9bb2e24bd962",
   "metadata": {},
   "source": [
    "### 생성자와 소멸자\n",
    "```python\n",
    "class MyClass():\n",
    "        def __init__(self):\n",
    "            pass\n",
    "        def __del__(self):\n",
    "            pass"
   ]
  },
  {
   "cell_type": "code",
   "execution_count": 388,
   "id": "8de7fecc-2b6b-43cc-9f5f-90e912037259",
   "metadata": {},
   "outputs": [],
   "source": [
    "class Person:\n",
    "\n",
    "    # 만들어질때(데이터가 올라갈떄)\n",
    "    def __init__(self, name='익명입니다'):\n",
    "        self.name = name\n",
    "        print('생성됨')\n",
    "    # 소멸될떄(데이터가 지워질때 ~ 가비지 콜렉터)\n",
    "    def __del__(self):\n",
    "        print('소멸됨')"
   ]
  },
  {
   "cell_type": "code",
   "execution_count": 389,
   "id": "cade736e-136b-403e-8216-e4c528604768",
   "metadata": {},
   "outputs": [
    {
     "name": "stdout",
     "output_type": "stream",
     "text": [
      "생성됨\n",
      "소멸됨\n",
      "lee\n"
     ]
    }
   ],
   "source": [
    "p1 = Person('lee')\n",
    "print(p1.name)"
   ]
  },
  {
   "cell_type": "code",
   "execution_count": 405,
   "id": "754b252a-1345-43c5-a854-0ed7d4a10db2",
   "metadata": {},
   "outputs": [
    {
     "name": "stdout",
     "output_type": "stream",
     "text": [
      "생성됨\n",
      "소멸됨\n",
      "익명입니다\n"
     ]
    }
   ],
   "source": [
    "p2 = Person()\n",
    "print(p2.name)"
   ]
  },
  {
   "cell_type": "code",
   "execution_count": 458,
   "id": "a813b411-7571-4434-82a0-c0a5567cce07",
   "metadata": {},
   "outputs": [],
   "source": [
    "class Circle():\n",
    "    pi =3.14\n",
    "\n",
    "    def __init__(self, r, x=0, y=0):\n",
    "        self.r = r\n",
    "        self.x = x\n",
    "        self.y = y\n",
    "\n",
    "    def area(self):\n",
    "        return self.pi * self.r **2\n",
    "\n",
    "    def center(self):\n",
    "        return (self.x, self.y)\n",
    "\n",
    "    def move(self, x, y):\n",
    "        self.x = x\n",
    "        self.y = y\n",
    "        print(f'원의 중심이{(x, y)}로 이동했습니다.')\n",
    "\n",
    "    def round(self):\n",
    "        return 2 * self.pi * self.r"
   ]
  },
  {
   "cell_type": "code",
   "execution_count": 459,
   "id": "bf7fbd00-ef33-4033-b109-6f8cf15eb85a",
   "metadata": {},
   "outputs": [],
   "source": [
    "c1 = Circle(5, 0, 0)"
   ]
  },
  {
   "cell_type": "code",
   "execution_count": 460,
   "id": "e386605d-31fd-469a-b582-15835e876344",
   "metadata": {},
   "outputs": [
    {
     "name": "stdout",
     "output_type": "stream",
     "text": [
      "78.5\n"
     ]
    }
   ],
   "source": [
    "print(c1.area())"
   ]
  },
  {
   "cell_type": "code",
   "execution_count": 461,
   "id": "b9861694-198d-4af0-b8bb-923512409324",
   "metadata": {},
   "outputs": [
    {
     "name": "stdout",
     "output_type": "stream",
     "text": [
      "(0, 0)\n",
      "원의 중심이(3, 7)로 이동했습니다.\n",
      "None\n",
      "31.400000000000002\n"
     ]
    }
   ],
   "source": [
    "print(c1.center())\n",
    "print(c1.move(3, 7))\n",
    "print(c1.round())"
   ]
  },
  {
   "cell_type": "code",
   "execution_count": 479,
   "id": "e992a2be-777c-4bd5-8aed-e7f0b5ef904e",
   "metadata": {},
   "outputs": [],
   "source": [
    "class Point():\n",
    "    def __init__(self, x, y):\n",
    "        self.x = x\n",
    "        self.y = y\n",
    "\n",
    "    def info(self):\n",
    "        return (self.x, self.y)\n",
    "    "
   ]
  },
  {
   "cell_type": "code",
   "execution_count": 483,
   "id": "e2a66caf-6ece-4f49-9ae5-53d2ef20fe66",
   "metadata": {},
   "outputs": [],
   "source": [
    "class circle():\n",
    "    def __init__(self, point, r):\n",
    "        self.point = point\n",
    "        self.r = r\n",
    "    def info(self):\n",
    "        return (point.x, point.y, self.r)"
   ]
  },
  {
   "cell_type": "code",
   "execution_count": 484,
   "id": "ee2de7bb-907f-4333-8a81-60816344ec30",
   "metadata": {},
   "outputs": [],
   "source": [
    "p1 = Point(1, 2)"
   ]
  },
  {
   "cell_type": "code",
   "execution_count": 485,
   "id": "acf12b80-099f-43c9-a7b9-09b8ec9985a6",
   "metadata": {},
   "outputs": [
    {
     "ename": "AttributeError",
     "evalue": "'Circle' object has no attribute 'info'",
     "output_type": "error",
     "traceback": [
      "\u001b[1;31m---------------------------------------------------------------------------\u001b[0m",
      "\u001b[1;31mAttributeError\u001b[0m                            Traceback (most recent call last)",
      "Cell \u001b[1;32mIn[485], line 2\u001b[0m\n\u001b[0;32m      1\u001b[0m c1 \u001b[38;5;241m=\u001b[39m Circle(p1, \u001b[38;5;241m5\u001b[39m)\n\u001b[1;32m----> 2\u001b[0m \u001b[38;5;28mprint\u001b[39m(\u001b[43mc1\u001b[49m\u001b[38;5;241;43m.\u001b[39;49m\u001b[43minfo\u001b[49m())\n",
      "\u001b[1;31mAttributeError\u001b[0m: 'Circle' object has no attribute 'info'"
     ]
    }
   ],
   "source": [
    "c1 = Circle(p1, 5)\n",
    "print(c1.info())"
   ]
  },
  {
   "cell_type": "markdown",
   "id": "ea65cfce-0c23-4ce4-99e3-1dbdeb318edc",
   "metadata": {},
   "source": [
    "### 클레스/인스턴트/스티틱 메쏘드\n",
    "```python\n",
    "class MyClass():\n",
    "    def instance_method(self):\n",
    "        return self\n",
    "\n",
    "    @classmethod\n",
    "    def class_method(cls):\n",
    "\n",
    "    @staticmethod\n",
    "    def static_method():\n",
    "        return 'hi'\n",
    "```"
   ]
  },
  {
   "cell_type": "code",
   "execution_count": 493,
   "id": "eac674cf-07ca-46a9-bca2-d06d22d242a7",
   "metadata": {},
   "outputs": [
    {
     "ename": "IndentationError",
     "evalue": "expected an indented block after function definition on line 6 (344859445.py, line 8)",
     "output_type": "error",
     "traceback": [
      "\u001b[1;36m  Cell \u001b[1;32mIn[493], line 8\u001b[1;36m\u001b[0m\n\u001b[1;33m    @staticmethod\u001b[0m\n\u001b[1;37m    ^\u001b[0m\n\u001b[1;31mIndentationError\u001b[0m\u001b[1;31m:\u001b[0m expected an indented block after function definition on line 6\n"
     ]
    }
   ],
   "source": [
    "class MyClass():\n",
    "    def instance_method(self):\n",
    "        return self\n",
    "\n",
    "    @classmethod\n",
    "    def class_method(cls):\n",
    "\n",
    "    @staticmethod\n",
    "    def static_method():\n",
    "        print 'hi'"
   ]
  },
  {
   "cell_type": "code",
   "execution_count": 492,
   "id": "0a52daaa-70fe-4b72-90ee-d916c19d55d4",
   "metadata": {},
   "outputs": [
    {
     "ename": "SyntaxError",
     "evalue": "invalid syntax (1886376409.py, line 2)",
     "output_type": "error",
     "traceback": [
      "\u001b[1;36m  Cell \u001b[1;32mIn[492], line 2\u001b[1;36m\u001b[0m\n\u001b[1;33m    num_of_ puppy = 0\u001b[0m\n\u001b[1;37m            ^\u001b[0m\n\u001b[1;31mSyntaxError\u001b[0m\u001b[1;31m:\u001b[0m invalid syntax\n"
     ]
    }
   ],
   "source": [
    "class puppy():\n",
    "    num_of_ puppy = 0\n",
    "\n",
    "    def __onot(self, name):\n",
    "        srlf.name = name\n",
    "\n"
   ]
  },
  {
   "cell_type": "markdown",
   "id": "c41d11f3-cb19-40b7-b552-b5c314ffd6b5",
   "metadata": {},
   "source": [
    "### 상속"
   ]
  },
  {
   "cell_type": "code",
   "execution_count": 496,
   "id": "0640ce4f-8d34-4127-ac20-e1f3f63021b7",
   "metadata": {},
   "outputs": [],
   "source": [
    "class Person():\n",
    "    ident = '111111-1111111'\n",
    "    def __init__(self,name):\n",
    "        self.name = name\n",
    "\n",
    "    def greeting(self):\n",
    "        print(f'안녕하세요 {self.name}입니다.')\n",
    "    "
   ]
  },
  {
   "cell_type": "code",
   "execution_count": 497,
   "id": "3c0a18a1-b8d1-46a1-a6ec-50f3236a44a2",
   "metadata": {},
   "outputs": [],
   "source": [
    "p1 = Person('홍')\n",
    "p2 = Person('존')"
   ]
  },
  {
   "cell_type": "code",
   "execution_count": 499,
   "id": "b8e70590-a563-428f-9fc9-a4c36244103f",
   "metadata": {},
   "outputs": [
    {
     "name": "stdout",
     "output_type": "stream",
     "text": [
      "안녕하세요 홍입니다.\n",
      "안녕하세요 존입니다.\n"
     ]
    }
   ],
   "source": [
    "p1.greeting()\n",
    "p2.greeting()"
   ]
  },
  {
   "cell_type": "code",
   "execution_count": 504,
   "id": "ecf537a9-b251-4f79-a03e-294708129afb",
   "metadata": {},
   "outputs": [],
   "source": [
    "class Soldier(Person):\n",
    "    # ident = '111111-1111111'\n",
    "\n",
    "    # def __init__(self, name):\n",
    "    #     self.name = name\n",
    "\n",
    "    # 오버라이팅\n",
    "    def greeting(self):\n",
    "        print(f'충성 {self.name}입니다.')"
   ]
  },
  {
   "cell_type": "code",
   "execution_count": 505,
   "id": "8a5f14e8-af25-498f-a76f-6f8254d0f43f",
   "metadata": {},
   "outputs": [
    {
     "name": "stdout",
     "output_type": "stream",
     "text": [
      "충성 국방이입니다.\n",
      "111111-111111\n"
     ]
    }
   ],
   "source": [
    "s1 = Soldier('국방이')\n",
    "s1.greeting()\n",
    "print(s1.ident)"
   ]
  },
  {
   "cell_type": "code",
   "execution_count": 506,
   "id": "849a9aa1-71c7-4f0b-8b0d-f149a89cc583",
   "metadata": {},
   "outputs": [],
   "source": [
    "class Student(Person):\n",
    "    student_id = '123456'\n",
    "\n",
    "    def __init__(self,student_id):\n",
    "        self.student_id = student_id\n",
    "        # 덮어쓰기 주의"
   ]
  },
  {
   "cell_type": "code",
   "execution_count": 507,
   "id": "9a89f890-c63f-412f-a6ec-ba89321e831f",
   "metadata": {},
   "outputs": [
    {
     "ename": "TypeError",
     "evalue": "Student.__init__() takes 2 positional arguments but 3 were given",
     "output_type": "error",
     "traceback": [
      "\u001b[1;31m---------------------------------------------------------------------------\u001b[0m",
      "\u001b[1;31mTypeError\u001b[0m                                 Traceback (most recent call last)",
      "Cell \u001b[1;32mIn[507], line 1\u001b[0m\n\u001b[1;32m----> 1\u001b[0m s1 \u001b[38;5;241m=\u001b[39m \u001b[43mStudent\u001b[49m\u001b[43m(\u001b[49m\u001b[38;5;124;43m'\u001b[39;49m\u001b[38;5;124;43m급식이\u001b[39;49m\u001b[38;5;124;43m'\u001b[39;49m\u001b[43m,\u001b[49m\u001b[43m \u001b[49m\u001b[38;5;241;43m222333\u001b[39;49m\u001b[43m)\u001b[49m\n",
      "\u001b[1;31mTypeError\u001b[0m: Student.__init__() takes 2 positional arguments but 3 were given"
     ]
    }
   ],
   "source": [
    "s1 = Student('급식이', 222333)"
   ]
  },
  {
   "cell_type": "code",
   "execution_count": 510,
   "id": "dfbd9bb0-e2e8-454d-94b1-a94d7419d2d4",
   "metadata": {},
   "outputs": [],
   "source": [
    "class Persom():\n",
    "    def __init__(self,name,email,phone,location):\n",
    "        self.name = name\n",
    "        self.email = email\n",
    "        self.phone = phone\n",
    "        self.location =locatin\n",
    "\n",
    "class Student(person):\n",
    "    def __init__(self,name,email,phone,location,student_id):\n",
    "        super().__init__(self,name,email,phone,location)\n",
    "        self.student_id = student_id"
   ]
  },
  {
   "cell_type": "code",
   "execution_count": null,
   "id": "d11024a1-e39b-4c91-b126-48500474077e",
   "metadata": {},
   "outputs": [],
   "source": []
  },
  {
   "cell_type": "code",
   "execution_count": null,
   "id": "d256bb5d-a00e-4efe-9169-2fe09e4c3ae6",
   "metadata": {},
   "outputs": [],
   "source": []
  }
 ],
 "metadata": {
  "kernelspec": {
   "display_name": "Python 3 (ipykernel)",
   "language": "python",
   "name": "python3"
  },
  "language_info": {
   "codemirror_mode": {
    "name": "ipython",
    "version": 3
   },
   "file_extension": ".py",
   "mimetype": "text/x-python",
   "name": "python",
   "nbconvert_exporter": "python",
   "pygments_lexer": "ipython3",
   "version": "3.12.4"
  }
 },
 "nbformat": 4,
 "nbformat_minor": 5
}
