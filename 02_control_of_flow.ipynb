{
 "cells": [
  {
   "cell_type": "markdown",
   "id": "0049fd93-911e-4347-b1cd-f248903d265d",
   "metadata": {},
   "source": [
    "> (`if <조건식>: `)\n",
    "1. if 문은 반드시 True/False 판별가능한 `조건식`과 사용\n",
    "2. `조건식`참 => `:`이후 문장 실행\n",
    "3. 거짓 => `else:` 이후 문장 실행\n",
    "\n",
    "```\n",
    "if <조건식>:\n",
    "    참이면 실행\n",
    "else:\n",
    "    거짓이면 실행"
   ]
  },
  {
   "cell_type": "code",
   "execution_count": null,
   "id": "8e6990e3-92d5-4bb1-805d-812e281f1f14",
   "metadata": {},
   "outputs": [],
   "source": [
    "my_string = input()\n",
    "\n",
    "if my_string == '12/25':\n",
    "    print('네 그리고 당신에게 찾아간다 산타가')\n",
    "else:\n",
    "    print('울지 마십시오 당신의 선물을 위하여')"
   ]
  },
  {
   "cell_type": "code",
   "execution_count": null,
   "id": "00c5ced5-6316-48a4-a535-3de47923804a",
   "metadata": {},
   "outputs": [],
   "source": [
    "num = input('숫자를 입력해주세요')\n",
    "\n",
    "result = int(num) % 2\n",
    "\n",
    "if bool(result):\n",
    "    print('짝수')\n",
    "else:\n",
    "    print('홀수')"
   ]
  },
  {
   "cell_type": "code",
   "execution_count": null,
   "id": "e37d136b-f9e6-48ee-8c4d-affd672caa2f",
   "metadata": {},
   "outputs": [],
   "source": [
    "num = int(input())\n",
    "if num % 2 == 0:\n",
    "    print('짝')\n",
    "else:\n",
    "    print('홀')"
   ]
  },
  {
   "cell_type": "code",
   "execution_count": null,
   "id": "8a3afcff-dd73-4879-b75d-4af9fef92147",
   "metadata": {},
   "outputs": [],
   "source": [
    "if int(input()) % 2:\n",
    "    print('홀')\n",
    "else:\n",
    "    print('짝')\n",
    "    "
   ]
  },
  {
   "cell_type": "markdown",
   "id": "77f04a58-cec0-45b0-a01e-40462e8b3676",
   "metadata": {},
   "source": [
    "### leif \n",
    "else + if\n",
    "\n",
    "```bash\n",
    "if <조건>:\n",
    "    조건이 참인경우\n",
    "elif <조건>:\n",
    "    if가 아니고 elif 조건식이 참인경우\n",
    "elif <조건>:\n",
    "    이상이 아니고 elif 조건식이 참인경우\n",
    "else:\n",
    "    나머지 경우\n",
    "```\n"
   ]
  },
  {
   "cell_type": "markdown",
   "id": "4ca25546-daaf-4698-9cba-66912c600f65",
   "metadata": {},
   "source": [
    "#### score = int(input())"
   ]
  },
  {
   "cell_type": "code",
   "execution_count": null,
   "id": "2b1d9596-bc4d-4ce0-ba57-67023be0d8fd",
   "metadata": {},
   "outputs": [],
   "source": [
    "if score >= 90:\n",
    "    print('A')\n",
    "elif score >= 80 and score < 90:\n",
    "    print('B')\n",
    "elif 80 > score >=70:\n",
    "    # 파이썬 에서만 사용가능한 문법\n",
    "    print('C')\n",
    "else:\n",
    "    print('F')"
   ]
  },
  {
   "cell_type": "code",
   "execution_count": null,
   "id": "c6113783-801f-402b-bdf0-708fc0d03263",
   "metadata": {},
   "outputs": [],
   "source": [
    "if score >= 90:\n",
    "    print('A')\n",
    "elif score >= 80:\n",
    "    print('B')\n",
    "elif score >=70:\n",
    "    print('C')\n",
    "else:\n",
    "    print('F')"
   ]
  },
  {
   "cell_type": "code",
   "execution_count": null,
   "id": "35296e6e-944f-476a-bc69-4aac1464554c",
   "metadata": {},
   "outputs": [],
   "source": [
    "if score >= 90:\n",
    "    print('A')\n",
    "    if score >= 95:\n",
    "        print('참 잘했어요')\n",
    "        if score == 100:\n",
    "            print('와우 당신은 100점')\n",
    "elif score >= 80:\n",
    " print('B')\n",
    "elif score >=70:\n",
    " print('C')\n",
    "else:\n",
    " print('F')"
   ]
  },
  {
   "cell_type": "markdown",
   "id": "1fa24c32-eb00-4bbe-b1be-03f7636d7b78",
   "metadata": {},
   "source": [
    "### 조건 표현식\n",
    "```\n",
    "true_value if <조건식> else false_value\n",
    "```\n"
   ]
  },
  {
   "cell_type": "code",
   "execution_count": null,
   "id": "3f5bdb87-fecf-482a-81f1-2ddb2443531c",
   "metadata": {},
   "outputs": [],
   "source": [
    "print('참') if 1 < 0 else print('false')"
   ]
  },
  {
   "cell_type": "code",
   "execution_count": null,
   "id": "42df5471-363a-4290-afa9-c3efdc87585e",
   "metadata": {},
   "outputs": [],
   "source": [
    "num = 5\n",
    "\n",
    "if num >=0:\n",
    "    value = num\n",
    "else:\n",
    "    value = 0\n",
    "\n",
    "print(value)"
   ]
  },
  {
   "cell_type": "code",
   "execution_count": null,
   "id": "1a1cd29b-b054-4d6a-84fd-ab81befe3681",
   "metadata": {},
   "outputs": [],
   "source": [
    "num = 5\n",
    "\n",
    "if num >=0:\n",
    "    print(num)\n",
    "else:\n",
    "    print(0)\n"
   ]
  },
  {
   "cell_type": "code",
   "execution_count": null,
   "id": "56a81fb5-9f70-498f-bd35-455ae5a0c3b8",
   "metadata": {},
   "outputs": [],
   "source": [
    "num = 2\n",
    "if num % 2:\n",
    "    result = '홀수'\n",
    "else:\n",
    "    result = '짝수'\n",
    "\n",
    "print(result)"
   ]
  },
  {
   "cell_type": "code",
   "execution_count": null,
   "id": "6b05d161-3909-4de3-8b21-2b4f88d9c8ba",
   "metadata": {},
   "outputs": [],
   "source": [
    "num = 3\n",
    "\n",
    "'홀수' if num % 2 else '짝수'\n",
    "\n"
   ]
  },
  {
   "cell_type": "markdown",
   "id": "7252994d-43e1-4512-93b1-5edf6c5e6c42",
   "metadata": {},
   "source": [
    "### 반복문\n",
    "```\n",
    "while <조건식>:\n",
    "    실행할 코드 "
   ]
  },
  {
   "cell_type": "code",
   "execution_count": null,
   "id": "ed0e4ecb-f469-45d8-a08c-b663455d6bc4",
   "metadata": {},
   "outputs": [],
   "source": [
    "a = 0\n",
    "\n",
    "while a <= 10:\n",
    "    print(a)\n",
    "    a += 1\n"
   ]
  },
  {
   "cell_type": "code",
   "execution_count": null,
   "id": "c8dd1b83-2ee0-401a-b027-fc349193332d",
   "metadata": {},
   "outputs": [],
   "source": [
    "a = 0\n",
    "\n",
    "while a <= 10:\n",
    "    a += 1\n",
    "\n",
    "print(a)\n"
   ]
  },
  {
   "cell_type": "code",
   "execution_count": null,
   "id": "b8181d5e-5700-455c-9a53-81540252ebc0",
   "metadata": {},
   "outputs": [],
   "source": [
    "greeting = ''\n",
    "\n",
    "while greeting != '안녕':\n",
    "    greeting = input('안녕이라고 해')"
   ]
  },
  {
   "cell_type": "markdown",
   "id": "e998cbb3-9835-4c55-a429-08e7d573c484",
   "metadata": {},
   "source": [
    "### For\n",
    "\n",
    "정해진 범위 내의 반복\n",
    "\n",
    "```\n",
    "for variable(item) in sequence:\n",
    "    code\n",
    "```\n"
   ]
  },
  {
   "cell_type": "code",
   "execution_count": null,
   "id": "fa60294e-f7be-4351-8f2f-8b8803bf806a",
   "metadata": {},
   "outputs": [],
   "source": [
    "numbers = [1, 2, 3, 4, 5]\n",
    "for number in numbers:\n",
    "     print(number)"
   ]
  },
  {
   "cell_type": "code",
   "execution_count": null,
   "id": "fdad3c32-d00e-441f-b483-92a9cafa5846",
   "metadata": {},
   "outputs": [],
   "source": [
    "word = input('단어를 입력')\n",
    "\n",
    "for char in word:\n",
    "    print(char)"
   ]
  },
  {
   "cell_type": "code",
   "execution_count": null,
   "id": "e8b0f725-f7b7-46ce-afb1-953ec9c939df",
   "metadata": {},
   "outputs": [],
   "source": [
    "i = 'you'\n",
    "print(i)\n",
    "for i in range(5):\n",
    "    print(i)\n",
    "\n",
    "print(i)"
   ]
  },
  {
   "cell_type": "code",
   "execution_count": null,
   "id": "2a871ad1-ff66-4199-9da6-3190d6867c4d",
   "metadata": {},
   "outputs": [],
   "source": [
    "for i in (1, 2, 3, 4, 5):\n",
    "    print(i)"
   ]
  },
  {
   "cell_type": "code",
   "execution_count": null,
   "id": "b972fada-d1c0-4109-bbf3-afa1cdd0c92f",
   "metadata": {},
   "outputs": [],
   "source": [
    "for i in range(30):\n",
    "    odd = i + 1\n",
    "    if odd % 2:\n",
    "        print(odd)"
   ]
  },
  {
   "cell_type": "code",
   "execution_count": null,
   "id": "80229ee5-f9b5-4d7f-a37f-b17a1368fcc2",
   "metadata": {},
   "outputs": [],
   "source": [
    "for num in range(1, 31):\n",
    "    if num % 2:\n",
    "        print(num)\n",
    "        "
   ]
  },
  {
   "cell_type": "code",
   "execution_count": null,
   "id": "92de2d1f-0d89-424d-87b4-84d0e52179fc",
   "metadata": {},
   "outputs": [],
   "source": [
    "menus = ['라면', '김밥', '백반']\n",
    "\n",
    "for menu in enumerate(menus):\n",
    "    print(menu)\n",
    "\n",
    "type(enumerate(menus))\n",
    "enumerate"
   ]
  },
  {
   "cell_type": "code",
   "execution_count": null,
   "id": "19613c1e-98c2-47ce-8445-d7e5beb373ca",
   "metadata": {},
   "outputs": [],
   "source": [
    "for index, menu in enumerate(menus) :\n",
    "    print(index, menu)"
   ]
  },
  {
   "cell_type": "markdown",
   "id": "26856bb6-ef2a-4f80-b5d1-cbdcc0ec7bb2",
   "metadata": {},
   "source": [
    "### dictiinary"
   ]
  },
  {
   "cell_type": "code",
   "execution_count": null,
   "id": "c1a94292-055c-4466-9fb3-ad32c7ac4903",
   "metadata": {},
   "outputs": [],
   "source": [
    "info = {\n",
    "    'name': 'gildong',\n",
    "    'location' : 'seoul',\n",
    "    'phone': '010-1234-1234',\n",
    "    'age': 33,\n",
    "}\n"
   ]
  },
  {
   "cell_type": "code",
   "execution_count": null,
   "id": "774dfc06-4d6c-4ecc-add0-92d542c0a643",
   "metadata": {},
   "outputs": [],
   "source": [
    "for cat in info:\n",
    "    print(cat)\n",
    "    print(info[cat])"
   ]
  },
  {
   "cell_type": "code",
   "execution_count": null,
   "id": "77296800-c334-4552-b531-b8b647970253",
   "metadata": {},
   "outputs": [],
   "source": [
    "list(info)"
   ]
  },
  {
   "cell_type": "code",
   "execution_count": null,
   "id": "110e08fa-5bd3-43da-938b-5ce4815a5077",
   "metadata": {},
   "outputs": [],
   "source": [
    "haha = {1, 2, 3}\n",
    "for yo in haha:\n",
    "    print(yo)"
   ]
  },
  {
   "cell_type": "code",
   "execution_count": null,
   "id": "6ad5d831-2a7e-4584-a936-e377474d1bd0",
   "metadata": {},
   "outputs": [],
   "source": [
    "info.keys()"
   ]
  },
  {
   "cell_type": "code",
   "execution_count": null,
   "id": "7ac228d5-a09a-465c-99b1-f8e7f0be352d",
   "metadata": {},
   "outputs": [],
   "source": [
    "blood_type = {\n",
    "    'A': 5,\n",
    "    'B': 3,\n",
    "    'O': 2,\n",
    "    'AB': 1,\n",
    "}"
   ]
  },
  {
   "cell_type": "code",
   "execution_count": null,
   "id": "d3ed026d-e248-4b36-ba35-b494c1f168b1",
   "metadata": {},
   "outputs": [],
   "source": [
    "dfor key in blood_type.keys():\n",
    "    print (key)\n",
    "print('이렇게 참 여러가지죠')"
   ]
  },
  {
   "cell_type": "code",
   "execution_count": null,
   "id": "f4a4863e-ebd4-4ffc-9b8d-5751cac4c05a",
   "metadata": {},
   "outputs": [],
   "source": [
    "print('종류는', end=' ')\n",
    "\n",
    "for key in blood_type.keys():\n",
    "    print (key)\n",
    "print('이렇게 참 여러가지죠')"
   ]
  },
  {
   "cell_type": "code",
   "execution_count": null,
   "id": "a37b9602-80bc-4667-90f7-5a4a02a1b0cd",
   "metadata": {},
   "outputs": [],
   "source": [
    "print('종류는', end=' ')\n",
    "\n",
    "for key in blood_type.keys():\n",
    "    print (key)\n",
    "print('이렇게 참 여러가지죠')"
   ]
  },
  {
   "cell_type": "code",
   "execution_count": null,
   "id": "28246906-037b-4764-9a52-b5c999927b1b",
   "metadata": {},
   "outputs": [],
   "source": [
    "print('asdasd \\nasdasd')"
   ]
  },
  {
   "cell_type": "code",
   "execution_count": null,
   "id": "00ae0410-241f-43e7-9d3e-5c44f82c6591",
   "metadata": {},
   "outputs": [],
   "source": [
    "# 총학생수\n",
    "result = 0\n",
    "for value in blood_type.values(): \n",
    "    result= result + value\n",
    "print(result)"
   ]
  },
  {
   "cell_type": "code",
   "execution_count": null,
   "id": "3c16f49e-2f3f-4161-9f92-1e04c9fbd8e3",
   "metadata": {},
   "outputs": [],
   "source": [
    "# 총학생수\n",
    "result = 0\n",
    "for value in blood_type.values(): \n",
    "    result = value\n",
    "print(result)"
   ]
  },
  {
   "cell_type": "code",
   "execution_count": null,
   "id": "17433783-a107-4959-9684-6ee1fabd4e6c",
   "metadata": {},
   "outputs": [],
   "source": [
    "print('종류는', end=' ')\n",
    "\n",
    "for key in blood_type.keys():\n",
    "    print (key)\n",
    "print('이렇게 참 여러가지죠')"
   ]
  },
  {
   "cell_type": "code",
   "execution_count": null,
   "id": "472c852e-e69a-45e4-a007-7bab9fd8569b",
   "metadata": {},
   "outputs": [],
   "source": []
  },
  {
   "cell_type": "markdown",
   "id": "0a416a54-894a-4d92-aa20-34ed2b57b683",
   "metadata": {},
   "source": [
    "### break\n",
    "반복문을 종료시키는 키원드"
   ]
  },
  {
   "cell_type": "code",
   "execution_count": null,
   "id": "361d96c9-a066-4d47-854a-a4240dae7447",
   "metadata": {},
   "outputs": [],
   "source": []
  },
  {
   "cell_type": "code",
   "execution_count": 8,
   "id": "2a40cb59-843f-4a05-a48a-a13f88109d34",
   "metadata": {},
   "outputs": [
    {
     "name": "stdout",
     "output_type": "stream",
     "text": [
      "0\n",
      "1\n",
      "2\n",
      "3\n",
      "4\n",
      "5\n",
      "6\n",
      "7\n",
      "8\n",
      "9\n",
      "10\n",
      "11\n",
      "0\n",
      "1\n",
      "2\n",
      "3\n",
      "4\n",
      "5\n",
      "6\n",
      "7\n",
      "8\n",
      "9\n",
      "10\n"
     ]
    }
   ],
   "source": [
    "for i in range(100):\n",
    "    print(i)\n",
    "    if i > 10:\n",
    "        break\n",
    "\n",
    "\n",
    "for i in range(100):\n",
    "    if i > 10:\n",
    "        break\n",
    "    print(i)"
   ]
  },
  {
   "cell_type": "code",
   "execution_count": 14,
   "id": "42b607aa-ace6-4139-8dd9-bc2e923484ac",
   "metadata": {},
   "outputs": [
    {
     "name": "stdout",
     "output_type": "stream",
     "text": [
      "후욱..\n",
      "후욱..\n",
      "잡았다!!\n"
     ]
    }
   ],
   "source": [
    "rice = ['보리', '보리', '쌀', '보리', '보리', '쌀']\n",
    "\n",
    "for r in rice:\n",
    "    if r == '쌀':\n",
    "        print('잡았다!!')\n",
    "        break\n",
    "    else:\n",
    "        print('후욱..')\n",
    "    "
   ]
  },
  {
   "cell_type": "code",
   "execution_count": 20,
   "id": "95d459a0-cbdd-46e0-a902-dcdc01f3caf6",
   "metadata": {},
   "outputs": [
    {
     "ename": "IndentationError",
     "evalue": "unindent does not match any outer indentation level (<string>, line 6)",
     "output_type": "error",
     "traceback": [
      "\u001b[1;36m  File \u001b[1;32m<string>:6\u001b[1;36m\u001b[0m\n\u001b[1;33m    else:\u001b[0m\n\u001b[1;37m         ^\u001b[0m\n\u001b[1;31mIndentationError\u001b[0m\u001b[1;31m:\u001b[0m unindent does not match any outer indentation level\n"
     ]
    }
   ],
   "source": [
    "i = 0\n",
    "while True:\n",
    "     if rice[i] == '쌀':\n",
    "        print('잡았다!!')\n",
    "        break\n",
    "    else:\n",
    "        print('보리..')\n",
    "    i += 1"
   ]
  },
  {
   "cell_type": "code",
   "execution_count": 22,
   "id": "91af5fb3-3e4d-42eb-bec1-a910fd8e89e9",
   "metadata": {},
   "outputs": [
    {
     "name": "stdout",
     "output_type": "stream",
     "text": [
      "0\n",
      "1\n",
      "2\n",
      "3\n",
      "4\n",
      "good\n",
      "6\n",
      "7\n",
      "8\n",
      "9\n",
      "10\n"
     ]
    }
   ],
   "source": [
    "for i in range(100):\n",
    "    if i == 5:\n",
    "        print('good')\n",
    "    else:\n",
    "        if i > 10:\n",
    "            break\n",
    "        print(i)"
   ]
  },
  {
   "cell_type": "markdown",
   "id": "05eba103-6e89-4bc4-b59e-35334eaaa12a",
   "metadata": {},
   "source": [
    "### continue\n",
    "\n",
    "continue 이후의 코드를 실행하지 않고 다음 반복을 진행"
   ]
  },
  {
   "cell_type": "code",
   "execution_count": 23,
   "id": "54937caa-0d94-46b8-b90a-c4439e382169",
   "metadata": {},
   "outputs": [
    {
     "name": "stdout",
     "output_type": "stream",
     "text": [
      "0\n",
      "2\n",
      "4\n",
      "6\n",
      "8\n",
      "10\n",
      "12\n",
      "14\n",
      "16\n",
      "18\n"
     ]
    }
   ],
   "source": [
    "for i in range(20):\n",
    "    if i % 2:\n",
    "        continue\n",
    "    print(i)"
   ]
  },
  {
   "cell_type": "code",
   "execution_count": 27,
   "id": "2f504ad3-d079-4146-909a-646167cc4ffa",
   "metadata": {},
   "outputs": [
    {
     "name": "stdout",
     "output_type": "stream",
     "text": [
      "0\n",
      "1\n",
      "2\n",
      "3\n",
      "4\n",
      "5\n",
      "6\n",
      "7\n",
      "8\n",
      "9\n",
      "10\n",
      "11\n",
      "12\n",
      "13\n",
      "14\n",
      "15\n",
      "16\n",
      "17\n",
      "18\n",
      "19\n",
      "dd\n"
     ]
    }
   ],
   "source": [
    "for i in range(20):\n",
    "    if i > 40:\n",
    "        break\n",
    "    print(i)\n",
    "else:\n",
    "    print('dd')\n",
    "         "
   ]
  },
  {
   "cell_type": "code",
   "execution_count": 35,
   "id": "564b23f0-9ec9-418c-adff-df11396fd804",
   "metadata": {},
   "outputs": [
    {
     "ename": "IndentationError",
     "evalue": "expected an indented block after 'for' statement on line 1 (121149066.py, line 3)",
     "output_type": "error",
     "traceback": [
      "\u001b[1;36m  Cell \u001b[1;32mIn[35], line 3\u001b[1;36m\u001b[0m\n\u001b[1;33m    for i in range(5):\u001b[0m\n\u001b[1;37m    ^\u001b[0m\n\u001b[1;31mIndentationError\u001b[0m\u001b[1;31m:\u001b[0m expected an indented block after 'for' statement on line 1\n"
     ]
    }
   ],
   "source": [
    "for i in range(5):\n",
    " pass\n",
    "for i in range(5):\n",
    " pass\n",
    "for i in range(5):\n",
    "    pass\n",
    "for i in range(5):"
   ]
  },
  {
   "cell_type": "markdown",
   "id": "9e7b5588-0301-4e8e-8473-1277de8450a7",
   "metadata": {},
   "source": [
    "### match\n",
    "\n",
    "```\n",
    "match value:\n",
    "    case 조건:\n",
    "        code\n",
    "    case 조건:\n",
    "        code\n",
    "```"
   ]
  },
  {
   "cell_type": "code",
   "execution_count": 31,
   "id": "2a7b2f90-f4b7-4ef6-ab31-52a21de6f72e",
   "metadata": {},
   "outputs": [
    {
     "name": "stdout",
     "output_type": "stream",
     "text": [
      "ㅠㅠ\n"
     ]
    }
   ],
   "source": [
    "status = 404\n",
    "\n",
    "match status:\n",
    "    case 200:\n",
    "        print('ok')\n",
    "    case 404:\n",
    "        print('ㅠㅠ')\n",
    "    case _:\n",
    "        print('I DONT KNOW')"
   ]
  },
  {
   "cell_type": "code",
   "execution_count": null,
   "id": "6d19e667-a296-4b4f-a3da-5eba1b6930d8",
   "metadata": {},
   "outputs": [],
   "source": []
  }
 ],
 "metadata": {
  "kernelspec": {
   "display_name": "Python 3 (ipykernel)",
   "language": "python",
   "name": "python3"
  },
  "language_info": {
   "codemirror_mode": {
    "name": "ipython",
    "version": 3
   },
   "file_extension": ".py",
   "mimetype": "text/x-python",
   "name": "python",
   "nbconvert_exporter": "python",
   "pygments_lexer": "ipython3",
   "version": "3.12.4"
  }
 },
 "nbformat": 4,
 "nbformat_minor": 5
}
