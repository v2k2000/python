{
 "cells": [
  {
   "cell_type": "code",
   "execution_count": null,
   "id": "b8524c69-9f54-4eda-afed-127a5e2e510a",
   "metadata": {},
   "outputs": [],
   "source": [
    "print(dir('hello'))"
   ]
  },
  {
   "cell_type": "code",
   "execution_count": null,
   "id": "02b1acc7-3feb-43aa-ace1-2163cad243dd",
   "metadata": {},
   "outputs": [],
   "source": [
    "# __는 매직 어쩌구 실사용은 잘 안함"
   ]
  },
  {
   "cell_type": "markdown",
   "id": "bcc897ae-11cf-45fa-bb04-b086c7482482",
   "metadata": {},
   "source": [
    "### 문자열 매소드 = 함수 = 기능"
   ]
  },
  {
   "cell_type": "code",
   "execution_count": null,
   "id": "281a9945-7f78-4625-a59f-41bfeb1ff46c",
   "metadata": {},
   "outputs": [],
   "source": [
    "a = 'hi Im lisa and you'"
   ]
  },
  {
   "cell_type": "markdown",
   "id": "48d85523-f735-410f-a13e-8163b17f8b28",
   "metadata": {},
   "source": [
    "## 이뮤터블 = 수정불가"
   ]
  },
  {
   "cell_type": "code",
   "execution_count": null,
   "id": "7f58f2c9-9b5e-4f6f-8075-fbc585ffa169",
   "metadata": {},
   "outputs": [],
   "source": [
    "print(a.capitalize())"
   ]
  },
  {
   "cell_type": "code",
   "execution_count": null,
   "id": "913b5ef6-d067-41de-bd18-42b69c44270e",
   "metadata": {},
   "outputs": [],
   "source": [
    "a.title()"
   ]
  },
  {
   "cell_type": "code",
   "execution_count": null,
   "id": "f70b6252-44ad-428a-9e45-07a28643c2a9",
   "metadata": {},
   "outputs": [],
   "source": [
    "a.upper()"
   ]
  },
  {
   "cell_type": "code",
   "execution_count": null,
   "id": "417e67de-591b-49f5-922b-f756952c3d4c",
   "metadata": {},
   "outputs": [],
   "source": [
    "a.lower()"
   ]
  },
  {
   "cell_type": "code",
   "execution_count": null,
   "id": "c9a30676-d2b4-4efa-91b9-e4fe8b535cbb",
   "metadata": {},
   "outputs": [],
   "source": [
    "print(a)"
   ]
  },
  {
   "cell_type": "code",
   "execution_count": null,
   "id": "3d47fcaf-e698-4618-87d3-6a9101335a29",
   "metadata": {},
   "outputs": [],
   "source": [
    "###원본은 수정하는것이 있고 아닌것이 있다. 수정하려면 재할당"
   ]
  },
  {
   "cell_type": "code",
   "execution_count": null,
   "id": "43dbf8fe-9e8a-4357-9424-d459d0ca88e4",
   "metadata": {},
   "outputs": [],
   "source": [
    "a = a.upper()"
   ]
  },
  {
   "cell_type": "code",
   "execution_count": null,
   "id": "1e5facc1-b7b1-44ad-a4d1-37d33158b6b0",
   "metadata": {},
   "outputs": [],
   "source": [
    "print(a)"
   ]
  },
  {
   "cell_type": "markdown",
   "id": "b6e64305-8542-4166-ab2c-486504a6ca74",
   "metadata": {},
   "source": [
    "## 4분간 자리비움"
   ]
  },
  {
   "cell_type": "code",
   "execution_count": null,
   "id": "7386a27b-e2a0-42e7-855a-4ab7f70961a8",
   "metadata": {},
   "outputs": [],
   "source": [
    "a = 'woooowwwooow'\n",
    "a. replace('o', '',3)"
   ]
  },
  {
   "cell_type": "code",
   "execution_count": null,
   "id": "ac322eb3-5457-4ccc-aa09-4bd78c3c4a1c",
   "metadata": {},
   "outputs": [],
   "source": [
    "a = 'qwertyuioplkjhgfdsazxcvbnm'\n",
    "print(a.find('a'))\n",
    "print(a.find('/'))\n",
    "print(a.index('a'))\n",
    "print(a.index('f'))"
   ]
  },
  {
   "cell_type": "markdown",
   "id": "84a281d0-8c55-42db-84fb-c319ec58b13a",
   "metadata": {},
   "source": [
    "### 리스트 메소드 (리스트는 뮤터블)"
   ]
  },
  {
   "cell_type": "code",
   "execution_count": 1,
   "id": "5b0ddc4c-8327-4138-bba7-da5e76872f1b",
   "metadata": {},
   "outputs": [],
   "source": [
    "numbers = [1, 4, 2, 5, 4, 3, 1, 7,]"
   ]
  },
  {
   "cell_type": "code",
   "execution_count": 2,
   "id": "abfd22c5-3a0a-4974-a6c3-34e0528356bd",
   "metadata": {},
   "outputs": [
    {
     "name": "stdout",
     "output_type": "stream",
     "text": [
      "[1, 4, 2, 5, 4, 3, 1, 7, 10]\n"
     ]
    }
   ],
   "source": [
    "numbers.append(10)\n",
    "print(numbers)"
   ]
  },
  {
   "cell_type": "code",
   "execution_count": 3,
   "id": "fba1270b-8ec2-4da7-9ad4-64cb456972f7",
   "metadata": {},
   "outputs": [
    {
     "name": "stdout",
     "output_type": "stream",
     "text": [
      "[1, 4, 2, 5, 4, 3, 1, 7, 10, [99, 100], 99, 100]\n"
     ]
    }
   ],
   "source": [
    "a = [99, 100]\n",
    "numbers.append(a)\n",
    "numbers.extend(a)\n",
    "print(numbers)"
   ]
  },
  {
   "cell_type": "code",
   "execution_count": 4,
   "id": "0a557b96-4bf2-47af-af01-5223ff5d6699",
   "metadata": {},
   "outputs": [
    {
     "name": "stdout",
     "output_type": "stream",
     "text": [
      "[1, 4, 2222, 2, 5, 4, 3, 1, 7, 10, [99, 100], 99, 100]\n"
     ]
    }
   ],
   "source": [
    "numbers.insert(2, 2222)\n",
    "print(numbers)"
   ]
  },
  {
   "cell_type": "markdown",
   "id": "b8a3cc2c-3c08-424a-bcfd-a2e0e9a87c88",
   "metadata": {},
   "source": [
    "# .remove 앞에서 하나제거 없으면 에러\n",
    "# .pop 인덱스 지정 없으면 뒤에서(위에서) 제거(뽑음) (스텍 원리)"
   ]
  },
  {
   "cell_type": "code",
   "execution_count": null,
   "id": "94dad31e-873a-4691-afa6-88f732a676a9",
   "metadata": {},
   "outputs": [],
   "source": []
  },
  {
   "cell_type": "code",
   "execution_count": null,
   "id": "f3139761-aaf4-48cb-87ab-8e14b6aec2fa",
   "metadata": {},
   "outputs": [],
   "source": [
    "## "
   ]
  }
 ],
 "metadata": {
  "kernelspec": {
   "display_name": "Python 3 (ipykernel)",
   "language": "python",
   "name": "python3"
  },
  "language_info": {
   "codemirror_mode": {
    "name": "ipython",
    "version": 3
   },
   "file_extension": ".py",
   "mimetype": "text/x-python",
   "name": "python",
   "nbconvert_exporter": "python",
   "pygments_lexer": "ipython3",
   "version": "3.12.4"
  }
 },
 "nbformat": 4,
 "nbformat_minor": 5
}
