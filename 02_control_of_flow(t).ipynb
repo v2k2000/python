{
 "cells": [
  {
   "cell_type": "markdown",
   "id": "a07f7fc4-5b6c-465a-a277-fad5227f959e",
   "metadata": {},
   "source": [
    "# 제어문\n",
    "\n",
    "## 조건문 (if문)\n",
    "\n",
    "1. if문은 반드시 일정한 참/거짓을 판단 할 수 있는 `조건식`과 함께 사용된다.\n",
    "    - (`if <조건식>:`)\n",
    "2. `<조건식>` 참(True)인 경우 `:` 이후의 문장을 실행\n",
    "3. `<조건식>` 거짓(False)인 경우 `else:` 이후의 문장을 실행\n",
    "\n",
    "```\n",
    "if <조건식>:\n",
    "    if의 조건식이 참인 경우 실행\n",
    "else:\n",
    "    if의 조건식이 거짓인 경우 실행\n",
    "```"
   ]
  },
  {
   "cell_type": "code",
   "execution_count": null,
   "id": "aa7f602c-6b06-45fc-8f7b-db32b032964d",
   "metadata": {},
   "outputs": [],
   "source": [
    "my_string = input()\n",
    "\n",
    "if my_string == '12/25':\n",
    "    print('크리스마스입니다.')\n",
    "else:\n",
    "    print('크리스마스가 아닙니다.')"
   ]
  },
  {
   "cell_type": "code",
   "execution_count": null,
   "id": "e15a737c-cae9-4058-a743-bda1650422d7",
   "metadata": {},
   "outputs": [],
   "source": [
    "num = input('숫자를 입력해주세요')\n",
    "\n",
    "result = int(num) % 2\n",
    "\n",
    "if bool(result):\n",
    "    print('홀수입니다.')\n",
    "else:\n",
    "    print('짝수입니다.')"
   ]
  },
  {
   "cell_type": "code",
   "execution_count": null,
   "id": "50954864-769b-4e63-afa8-2cd25643c88d",
   "metadata": {},
   "outputs": [],
   "source": [
    "num = int(input())\n",
    "\n",
    "if num % 2 == 1:\n",
    "    print('홀수')\n",
    "else:\n",
    "    print('짝수')"
   ]
  },
  {
   "cell_type": "code",
   "execution_count": null,
   "id": "45266d4b-047b-4c61-b9e6-916fb0a40e89",
   "metadata": {},
   "outputs": [],
   "source": [
    "num = int(input())\n",
    "\n",
    "if num % 2 == 0:\n",
    "    print('짝수')\n",
    "else:\n",
    "    print('홀수')"
   ]
  },
  {
   "cell_type": "code",
   "execution_count": null,
   "id": "d4c56b54-f70f-4b24-8c5d-883fffb294a0",
   "metadata": {},
   "outputs": [],
   "source": [
    "num = int(input())\n",
    "\n",
    "if num % 2:\n",
    "    print('홀수')\n",
    "else:\n",
    "    print('짝수')"
   ]
  },
  {
   "cell_type": "markdown",
   "id": "9645a762-5852-43e1-93ef-49e98c352bad",
   "metadata": {},
   "source": [
    "### elif\n",
    "\n",
    "```\n",
    "if <조건식>:\n",
    "    if 조건이 참인경우\n",
    "elif <조건식>:\n",
    "    elif 조건식이 참인경우\n",
    "...\n",
    "else:\n",
    "    위의 조건식이 하나도 부합하지 않는 경우 \n",
    "```"
   ]
  },
  {
   "cell_type": "code",
   "execution_count": null,
   "id": "03edb62a-ec01-467c-a8ea-6875151f33ac",
   "metadata": {},
   "outputs": [],
   "source": [
    "score = int(input())"
   ]
  },
  {
   "cell_type": "code",
   "execution_count": null,
   "id": "c9368977-b4ba-43bf-9432-dab583e54efe",
   "metadata": {},
   "outputs": [],
   "source": [
    "# 90점 이상 A\n",
    "# 80~89 B\n",
    "# 70~79 C\n",
    "# 나머지 F\n",
    "\n",
    "if score >= 90:\n",
    "    print('A')\n",
    "elif score >= 80 and score <= 89:\n",
    "    print('B')\n",
    "elif 70 <= score <= 79:\n",
    "    print('C')\n",
    "else:\n",
    "    print('F')"
   ]
  },
  {
   "cell_type": "code",
   "execution_count": null,
   "id": "e2e0c1ec-2a02-4002-b54a-ba51680bdb44",
   "metadata": {},
   "outputs": [],
   "source": [
    "if score >= 90:\n",
    "    print('A')\n",
    "    if score >= 95:\n",
    "        print('참잘했어요')\n",
    "elif score >= 80:\n",
    "    print('B')"
   ]
  },
  {
   "cell_type": "markdown",
   "id": "fb09e0b5-9c5f-406d-930a-99b36d565aaa",
   "metadata": {},
   "source": [
    "### 조건표현식\n",
    "\n",
    "```\n",
    "true_value if <조건식> else false_value\n",
    "```"
   ]
  },
  {
   "cell_type": "code",
   "execution_count": null,
   "id": "1749012c-fa8b-4254-b57a-cd2756fdeb07",
   "metadata": {},
   "outputs": [],
   "source": [
    "print('True') if 1 < 0 else print('False')"
   ]
  },
  {
   "cell_type": "code",
   "execution_count": null,
   "id": "3806a802-5109-4326-9699-fd6b8a333d07",
   "metadata": {},
   "outputs": [],
   "source": [
    "if 1 > 0:\n",
    "    print('True')\n",
    "else:\n",
    "    print('False')"
   ]
  },
  {
   "cell_type": "code",
   "execution_count": null,
   "id": "083c9da2-2a3b-4c07-84e3-df4ef31da543",
   "metadata": {},
   "outputs": [],
   "source": [
    "num = 5\n",
    "value = num if num >= 0 else 0\n",
    "print(value)"
   ]
  },
  {
   "cell_type": "code",
   "execution_count": null,
   "id": "c33722fb-1bad-4d9f-a736-d4de3d0ff41a",
   "metadata": {},
   "outputs": [],
   "source": [
    "num = 5\n",
    "\n",
    "if num >= 0:\n",
    "    value = num\n",
    "else:\n",
    "    value = 0\n",
    "print(value)\n",
    "    "
   ]
  },
  {
   "cell_type": "code",
   "execution_count": null,
   "id": "fc683d8a-07fd-4dcb-aa09-7ebd1c33cbfd",
   "metadata": {},
   "outputs": [],
   "source": [
    "num = 3\n",
    "\n",
    "if num % 2:\n",
    "    result = '홀수'\n",
    "else:\n",
    "    result = '짝수'\n",
    "\n",
    "print(result)"
   ]
  },
  {
   "cell_type": "code",
   "execution_count": null,
   "id": "b2affe35-a702-4120-a34d-4ba4bc169f0e",
   "metadata": {},
   "outputs": [],
   "source": [
    "num = 3\n",
    "result = '홀수' if num % 2 else '짝수'\n",
    "print(result)"
   ]
  },
  {
   "cell_type": "markdown",
   "id": "f2f60159-7f59-43ce-9178-609657f03b0e",
   "metadata": {},
   "source": [
    "## 반복문\n",
    "\n",
    "### while문\n",
    "\n",
    "```\n",
    "while <조건식>:\n",
    "    실행할 코드\n",
    "```"
   ]
  },
  {
   "cell_type": "code",
   "execution_count": null,
   "id": "48804869-b6fc-42c6-82e4-755387d37789",
   "metadata": {},
   "outputs": [],
   "source": [
    "a = 0\n",
    "\n",
    "while a < 5:\n",
    "    print(a)\n",
    "    a += 1"
   ]
  },
  {
   "cell_type": "code",
   "execution_count": null,
   "id": "82775948-61a5-4f5f-a2cf-6f0a8573fb2f",
   "metadata": {},
   "outputs": [],
   "source": [
    "greeting = ''\n",
    "\n",
    "while greeting != '안녕':\n",
    "    greeting = input('안녕이라고 말해줘')\n",
    "    "
   ]
  },
  {
   "cell_type": "markdown",
   "id": "e1127739-b037-42ac-8504-96bb045078e9",
   "metadata": {},
   "source": [
    "### for\n",
    "\n",
    "정해진 범위 내의 반복\n",
    "```\n",
    "for variable(item) in sequence:\n",
    "    code\n",
    "```"
   ]
  },
  {
   "cell_type": "code",
   "execution_count": null,
   "id": "551dcecb-4d96-4b7a-843e-e04219b87510",
   "metadata": {},
   "outputs": [],
   "source": [
    "numbers = [1, 2, 3, 4, 5]\n",
    "\n",
    "for number in numbers:\n",
    "    print(number)"
   ]
  },
  {
   "cell_type": "code",
   "execution_count": null,
   "id": "7cba1f65-c96d-449b-a0bc-e82a0b824131",
   "metadata": {},
   "outputs": [],
   "source": [
    "word = input('단어를 입력해주세요')\n",
    "\n",
    "for char in word:\n",
    "    print(char)"
   ]
  },
  {
   "cell_type": "code",
   "execution_count": null,
   "id": "54a5c66f-88b9-45cc-8cbf-2344ff0b357f",
   "metadata": {},
   "outputs": [],
   "source": [
    "for i in range(5):\n",
    "    print(i)"
   ]
  },
  {
   "cell_type": "code",
   "execution_count": null,
   "id": "0116f54e-66e5-484a-a0b1-e4bae1f6cb17",
   "metadata": {},
   "outputs": [],
   "source": [
    "for i in (1, 2, 3, 4, 5):\n",
    "    print(i)"
   ]
  },
  {
   "cell_type": "code",
   "execution_count": null,
   "id": "26691430-fbfd-44fb-b1c1-887ca5bc03c0",
   "metadata": {},
   "outputs": [],
   "source": [
    "# 1~30 까지 숫자들 중에서 홀수만 출력\n",
    "\n",
    "numbers = range(1, 31)\n",
    "\n",
    "for number in numbers:\n",
    "    if number % 2:\n",
    "        print(number)\n",
    "\n"
   ]
  },
  {
   "cell_type": "code",
   "execution_count": null,
   "id": "c5a14ea7-7a52-4726-8860-e3734d424397",
   "metadata": {},
   "outputs": [],
   "source": [
    "menus = ['라면', '김밥', '백반']\n",
    "for menu in enumerate(menus):\n",
    "    print(menu)"
   ]
  },
  {
   "cell_type": "code",
   "execution_count": null,
   "id": "84ea72cd-68d0-4301-b248-d460eddf7fae",
   "metadata": {},
   "outputs": [],
   "source": [
    "for index, menu in enumerate(menus):\n",
    "    print(index)\n",
    "    print(menu)"
   ]
  },
  {
   "cell_type": "markdown",
   "id": "30c85caf-0100-4b6e-b637-d384b27e4963",
   "metadata": {},
   "source": [
    "### dictionary 반복\n",
    "\n",
    "1. for key in dict:\n",
    "2. for key in dict.keys():\n",
    "3. for key in dict.values():\n",
    "4. for key, value in dict.items():\n",
    "\n"
   ]
  },
  {
   "cell_type": "code",
   "execution_count": null,
   "id": "818ad9ea-205c-4c9b-8f6c-45b7e0d12e6a",
   "metadata": {},
   "outputs": [],
   "source": [
    "info = {\n",
    "    'name': 'gildong',\n",
    "    'location': 'seoul',\n",
    "    'phone': '010-1234-1234',\n",
    "    'age': 20,\n",
    "}"
   ]
  },
  {
   "cell_type": "code",
   "execution_count": null,
   "id": "c3eaf177-1aee-451c-b1f8-9edd7f9d8f58",
   "metadata": {},
   "outputs": [],
   "source": [
    "for cat in info:\n",
    "    print(cat)\n",
    "    print(info[cat])"
   ]
  },
  {
   "cell_type": "code",
   "execution_count": null,
   "id": "f8e062dc-5e5a-482e-9d84-8dbe8653ca84",
   "metadata": {},
   "outputs": [],
   "source": [
    "for key in info.keys():\n",
    "    print(key)\n",
    "    print(info[key])\n",
    "    "
   ]
  },
  {
   "cell_type": "code",
   "execution_count": null,
   "id": "66c14b06-cf10-451e-a6db-3ffd7ec32141",
   "metadata": {},
   "outputs": [],
   "source": [
    "for value in info.values():\n",
    "    print(value)"
   ]
  },
  {
   "cell_type": "code",
   "execution_count": null,
   "id": "8f259f9d-d1d4-4351-9b8a-f414caaa82c2",
   "metadata": {},
   "outputs": [],
   "source": [
    "for key, value in info.items():\n",
    "    print(key, value)"
   ]
  },
  {
   "cell_type": "code",
   "execution_count": 2,
   "id": "b3a2c4c7-1f0e-4739-b47e-fef03cd767dd",
   "metadata": {},
   "outputs": [],
   "source": [
    "blood_type = {\n",
    "    'A': 5,\n",
    "    'B': 3,\n",
    "    'O': 2,\n",
    "    'AB': 2,\n",
    "}"
   ]
  },
  {
   "cell_type": "code",
   "execution_count": null,
   "id": "ba69efc5-afeb-482a-ac76-d49050bba859",
   "metadata": {},
   "outputs": [],
   "source": [
    "# 혈액형의 종류는 ?? ?? 입니다.\n",
    "print('혈액형의 종류는', end=' ')\n",
    "for key in blood_type.keys():\n",
    "    print(key, end=' ')\n",
    "print('가 있습니다')"
   ]
  },
  {
   "cell_type": "code",
   "execution_count": 5,
   "id": "d96cfca6-9405-4d36-bdf0-f77d33b804c4",
   "metadata": {},
   "outputs": [
    {
     "name": "stdout",
     "output_type": "stream",
     "text": [
      "총 학생수는 12명입니다.\n"
     ]
    }
   ],
   "source": [
    "# 총 학생수는 몇명입니다.\n",
    "result = 0\n",
    "for value in blood_type.values():\n",
    "    result = result + value\n",
    "\n",
    "print(f'총 학생수는 {result}명입니다.')"
   ]
  },
  {
   "cell_type": "markdown",
   "id": "31b1e94a-69b7-45db-9317-9f08a5d5e085",
   "metadata": {},
   "source": [
    "### break\n",
    "반복문을 종료 시키는 키워드"
   ]
  },
  {
   "cell_type": "code",
   "execution_count": 7,
   "id": "50853689-c983-42e4-9f0a-0f7c97917906",
   "metadata": {},
   "outputs": [
    {
     "name": "stdout",
     "output_type": "stream",
     "text": [
      "0\n",
      "1\n",
      "2\n",
      "3\n",
      "4\n",
      "5\n",
      "6\n",
      "7\n",
      "8\n",
      "9\n",
      "10\n"
     ]
    }
   ],
   "source": [
    "for i in range(100):\n",
    "    if i > 10:\n",
    "        break\n",
    "    print(i)"
   ]
  },
  {
   "cell_type": "code",
   "execution_count": 10,
   "id": "ef79add2-b1ad-4031-8fd9-4448119c6bf3",
   "metadata": {},
   "outputs": [
    {
     "name": "stdout",
     "output_type": "stream",
     "text": [
      "보리\n",
      "보리\n",
      "보리\n",
      "보리\n",
      "쌀\n",
      "잡았다\n"
     ]
    }
   ],
   "source": [
    "rice = ['보리', '보리', '보리', '보리', '쌀', '보리']\n",
    "\n",
    "for r in rice:\n",
    "    print(r)\n",
    "    if r == '쌀':\n",
    "        print('잡았다')\n",
    "        break"
   ]
  },
  {
   "cell_type": "code",
   "execution_count": 11,
   "id": "2323f2b4-8f54-414c-9b19-865f93800d9a",
   "metadata": {},
   "outputs": [
    {
     "name": "stdout",
     "output_type": "stream",
     "text": [
      "보리\n",
      "보리\n",
      "보리\n",
      "보리\n",
      "잡았다\n"
     ]
    }
   ],
   "source": [
    "i = 0\n",
    "\n",
    "while True:\n",
    "    if rice[i] == '쌀':\n",
    "        print('잡았다')\n",
    "        break\n",
    "    print(rice[i])\n",
    "    i = i + 1    "
   ]
  },
  {
   "cell_type": "markdown",
   "id": "5488f1c3-9603-44ea-be2f-d216e2e30e01",
   "metadata": {},
   "source": [
    "### continue\n",
    "\n",
    "continue 이후의 코드를 실행하지 않고 다음 반복을 진행"
   ]
  },
  {
   "cell_type": "code",
   "execution_count": 14,
   "id": "278f05b4-b9a7-49ce-970d-71ac150ea2b3",
   "metadata": {},
   "outputs": [
    {
     "name": "stdout",
     "output_type": "stream",
     "text": [
      "0\n",
      "2\n",
      "4\n",
      "6\n",
      "8\n",
      "10\n",
      "12\n",
      "14\n",
      "16\n",
      "18\n"
     ]
    }
   ],
   "source": [
    "for i in range(20):\n",
    "    if i % 2:\n",
    "        continue\n",
    "    print(i)"
   ]
  },
  {
   "cell_type": "code",
   "execution_count": 17,
   "id": "4846918d-00f7-4276-a514-9b94ee36fc75",
   "metadata": {},
   "outputs": [
    {
     "name": "stdout",
     "output_type": "stream",
     "text": [
      "38살은 성인입니다.\n",
      "82살은 성인입니다.\n",
      "39살은 성인입니다.\n"
     ]
    }
   ],
   "source": [
    "ages = [10, 20, 38, 82, 11, 13, 39]\n",
    "\n",
    "for age in ages:\n",
    "    if age <= 20:\n",
    "        continue\n",
    "    print(f'{age}살은 성인입니다.')"
   ]
  },
  {
   "cell_type": "markdown",
   "id": "42c0f3da-8af5-49e4-9928-f4aecbf999a0",
   "metadata": {},
   "source": [
    "### else\n",
    "\n",
    "else문은 끝까지 반복된 후 실행됩니다.\n",
    "break를 만나지 않았을때 실행됩니다."
   ]
  },
  {
   "cell_type": "code",
   "execution_count": 20,
   "id": "82a62882-1de5-4be8-95e3-55a6a926b93e",
   "metadata": {},
   "outputs": [
    {
     "name": "stdout",
     "output_type": "stream",
     "text": [
      "0\n",
      "1\n",
      "2\n",
      "3\n",
      "4\n",
      "5\n"
     ]
    }
   ],
   "source": [
    "for i in range(10):\n",
    "    if i > 5:\n",
    "        break\n",
    "    print(i)\n",
    "else:\n",
    "    print('else입니다.')"
   ]
  },
  {
   "cell_type": "markdown",
   "id": "7ec9413d-ae70-4f8f-b8dc-fdc210cfa683",
   "metadata": {},
   "source": [
    "### pass"
   ]
  },
  {
   "cell_type": "code",
   "execution_count": 29,
   "id": "11024285-106e-4a51-a90e-39380e9b44d6",
   "metadata": {},
   "outputs": [],
   "source": [
    "if True:\n",
    "    pass"
   ]
  },
  {
   "cell_type": "markdown",
   "id": "46b1416e-7f2a-4618-9b38-95bafdd19844",
   "metadata": {},
   "source": [
    "### match\n",
    "\n",
    "```\n",
    "match value:\n",
    "    case 조건:\n",
    "        code\n",
    "    case 조건:\n",
    "        code\n",
    "    case _:\n",
    "        code\n",
    "\n",
    "```"
   ]
  },
  {
   "cell_type": "code",
   "execution_count": 28,
   "id": "a699a61e-ca74-4d07-8876-b3cf43a69e2d",
   "metadata": {},
   "outputs": [
    {
     "name": "stdout",
     "output_type": "stream",
     "text": [
      "i dont know\n"
     ]
    }
   ],
   "source": [
    "status = 123\n",
    "\n",
    "match status:\n",
    "    case 200:\n",
    "        print('ok')\n",
    "    case 404:\n",
    "        print('bad')\n",
    "    case _:\n",
    "        print('i dont know')"
   ]
  },
  {
   "cell_type": "code",
   "execution_count": null,
   "id": "5422c153-e851-4daf-9e25-d79c3f33a38f",
   "metadata": {},
   "outputs": [],
   "source": []
  }
 ],
 "metadata": {
  "kernelspec": {
   "display_name": "Python 3 (ipykernel)",
   "language": "python",
   "name": "python3"
  },
  "language_info": {
   "codemirror_mode": {
    "name": "ipython",
    "version": 3
   },
   "file_extension": ".py",
   "mimetype": "text/x-python",
   "name": "python",
   "nbconvert_exporter": "python",
   "pygments_lexer": "ipython3",
   "version": "3.12.4"
  }
 },
 "nbformat": 4,
 "nbformat_minor": 5
}
