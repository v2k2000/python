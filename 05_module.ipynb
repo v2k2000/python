{
 "cells": [
  {
   "cell_type": "markdown",
   "id": "aa959b8f-8708-4aa8-9bd4-c48dc5c4d0a3",
   "metadata": {},
   "source": [
    "### 모듈"
   ]
  },
  {
   "cell_type": "code",
   "execution_count": null,
   "id": "ebb5c85f-6514-4662-b806-3d4d0b7a0473",
   "metadata": {},
   "outputs": [],
   "source": [
    "import math"
   ]
  },
  {
   "cell_type": "code",
   "execution_count": null,
   "id": "bd367bff-b4e7-4ad2-a851-ca26bb74d1b7",
   "metadata": {},
   "outputs": [],
   "source": [
    "math.pi"
   ]
  },
  {
   "cell_type": "code",
   "execution_count": null,
   "id": "d69b1158-37c0-4e7c-9e12-d7299b50cf91",
   "metadata": {},
   "outputs": [],
   "source": [
    "print(math.ceil(math.pi))\n",
    "print(math.floor(3.72))"
   ]
  },
  {
   "cell_type": "markdown",
   "id": "1a7a2ab3-f8b7-4c2d-ad02-53d90108d631",
   "metadata": {},
   "source": [
    "### random\n",
    "진짜 난수는 아니다"
   ]
  },
  {
   "cell_type": "code",
   "execution_count": 7,
   "id": "6dff0003-41e9-4b2f-a2f2-c1035fa162f3",
   "metadata": {},
   "outputs": [],
   "source": [
    "import random"
   ]
  },
  {
   "cell_type": "code",
   "execution_count": 8,
   "id": "d15af740-e48b-44b4-b479-a371fd5bb034",
   "metadata": {},
   "outputs": [
    {
     "data": {
      "text/plain": [
       "2"
      ]
     },
     "execution_count": 8,
     "metadata": {},
     "output_type": "execute_result"
    }
   ],
   "source": [
    "random.randint(1, 10)"
   ]
  },
  {
   "cell_type": "code",
   "execution_count": 9,
   "id": "9dff4320-2f10-4be9-9dd0-22b108ac545d",
   "metadata": {},
   "outputs": [
    {
     "data": {
      "text/plain": [
       "0.052363598850944326"
      ]
     },
     "execution_count": 9,
     "metadata": {},
     "output_type": "execute_result"
    }
   ],
   "source": [
    "random.seed(123)\n",
    "random.random()\n"
   ]
  },
  {
   "cell_type": "code",
   "execution_count": 10,
   "id": "bd16df6e-4c65-484e-8872-a0a76efa6c48",
   "metadata": {},
   "outputs": [
    {
     "name": "stdout",
     "output_type": "stream",
     "text": [
      "[3, 5, 2, 4, 1]\n"
     ]
    }
   ],
   "source": [
    "numbers = [1, 2, 3, 4, 5,]\n",
    "random.shuffle(numbers)\n",
    "print(numbers)"
   ]
  },
  {
   "cell_type": "code",
   "execution_count": 11,
   "id": "29ffa518-ef60-4bfc-9c8c-28d6ea5ceea4",
   "metadata": {},
   "outputs": [
    {
     "name": "stdout",
     "output_type": "stream",
     "text": [
      "[1, 2, 3, 4, 5]\n"
     ]
    }
   ],
   "source": [
    "numbers.sort()\n",
    "print(numbers)"
   ]
  },
  {
   "cell_type": "code",
   "execution_count": 12,
   "id": "b58c3d14-284b-46cc-85cb-6b48427fac23",
   "metadata": {},
   "outputs": [
    {
     "name": "stdout",
     "output_type": "stream",
     "text": [
      "1\n",
      "4\n",
      "5\n"
     ]
    }
   ],
   "source": [
    "print(random.choice(\n",
    "    \n",
    "    \n",
    "    \n",
    "    \n",
    "    \n",
    "    \n",
    "    \n",
    "    \n",
    "    \n",
    "    \n",
    "    \n",
    "    \n",
    "    \n",
    "    \n",
    "    \n",
    "    \n",
    "    \n",
    "    \n",
    "    \n",
    "    \n",
    "    \n",
    "    \n",
    "    \n",
    "    \n",
    "    \n",
    "    \n",
    "    \n",
    "    \n",
    "    \n",
    "    \n",
    "    \n",
    "    \n",
    "    \n",
    "    \n",
    "    \n",
    "    \n",
    "    \n",
    "    \n",
    "    \n",
    "    \n",
    "    \n",
    "    \n",
    "    \n",
    "    \n",
    "    \n",
    "    \n",
    "    \n",
    "    \n",
    "    \n",
    "    \n",
    "    \n",
    "    \n",
    "    \n",
    "    \n",
    "    \n",
    "    \n",
    "    \n",
    "    \n",
    "    \n",
    "    \n",
    "    \n",
    "    \n",
    "    \n",
    "    \n",
    "    \n",
    "    \n",
    "    \n",
    "    \n",
    "    \n",
    "    \n",
    "    \n",
    "    \n",
    "    \n",
    "    \n",
    "    \n",
    "    \n",
    "    \n",
    "    \n",
    "    \n",
    "    \n",
    "    \n",
    "    \n",
    "    \n",
    "    \n",
    "    \n",
    "    \n",
    "    \n",
    "    \n",
    "    \n",
    "    \n",
    "    \n",
    "    \n",
    "    \n",
    "    333333333333333333333333333333333333333333333333333333333333333333333333333333333333333333333333333333333333333333333333333333333333333333333333333333333333333333333333333333333333333333333333333333333333333333333333333333333333333333333333333333333333333333333333333333333333333333333rs))"
   ]
  },
  {
   "cell_type": "code",
   "execution_count": 13,
   "id": "41061eb6-9d4f-4982-addb-c7682557cddc",
   "metadata": {},
   "outputs": [
    {
     "ename": "TypeError",
     "evalue": "Random.sample() takes 3 positional arguments but 4 were given",
     "output_type": "error",
     "traceback": [
      "\u001b[1;31m------------------------------------\u001b[0m",
      "\u001b[1;31mTypeError\u001b[0mTraceback (most recent call last)",
      "Cell \u001b[1;32mIn[13], line 1\u001b[0m\n\u001b[1;32m----> 1\u001b[0m \u001b[43mrandom\u001b[49m\u001b[38;5;241;43m.\u001b[39;49m\u001b[43msample\u001b[49m\u001b[43m(\u001b[49m\u001b[38;5;241;43m1\u001b[39;49m\u001b[43m,\u001b[49m\u001b[38;5;241;43m45\u001b[39;49m\u001b[43m,\u001b[49m\u001b[38;5;241;43m3\u001b[39;49m\u001b[43m)\u001b[49m\n",
      "\u001b[1;31mTypeError\u001b[0m: Random.sample() takes 3 positional arguments but 4 were given"
     ]
    }
   ],
   "source": [
    "random.sample(1,45,3)362622222222222222222222222222222222222222222222222222222222222222222222222222222222222222222222222222222222222222222222222222222222222222222222222222222222222222222222222222222222222222222222222222222222222222222222222222222222222222222222222222222222222222222222222222222222222222222222222222222222222222222222222222222222222222222222222222222222222222222222222222222222222222222222222222222222222222222222222222222222222222222222222222222222222222222222222222222222222222222222222222222222222222222222222222222222222222222222222222222222222222222222222222222222222222222222222222222222222222222222222222222222222222222222222222222222222222222222222222222222222222222222333333622222222222222222222222222222222222222222\n",
    "\n",
    "\n",
    "\n",
    "333333333333333333333333\n",
    "33333333333333333333333333333333\n",
    "333333333333333333333333333333333333333333333333333333333333333333333333333333333333333333333333333333333333333333333333333333333333333333333333333333333333.\n",
    "333"
   ]
  },
  {
   "cell_type": "markdown",
   "id": "a8078c0f-76d3-4b5b-adf7-4092bd59cff1",
   "metadata": {},
   "source": [
    "### datetime"
   ]
  },
  {
   "cell_type": "code",
   "execution_count": null,
   "id": "f353529e-842e-45a2-bb24-ff62252b7aa2",
   "metadata": {},
   "outputs": [],
   "source": [
    "from datetime import datetime"
   ]
  },
  {
   "cell_type": "code",
   "execution_count": null,
   "id": "21101829-2339-4b07-bdb4-60847576e461",
   "metadata": {},
   "outputs": [],
   "source": [
    "datetime.now()"
   ]
  },
  {
   "cell_type": "code",
   "execution_count": null,
   "id": "fcf2b673-670c-4bea-bcf5-c555c6050de3",
   "metadata": {},
   "outputs": [],
   "source": [
    "datetime.today()"
   ]
  },
  {
   "cell_type": "code",
   "execution_count": null,
   "id": "f6293887-fd86-40c0-83df-de88e8a98ac1",
   "metadata": {},
   "outputs": [],
   "source": [
    "\n",
    "datetime.now(datetime.utc)"
   ]
  },
  {
   "cell_type": "code",
   "execution_count": null,
   "id": "e9c0fd20-19b9-43ab-ba8a-60e6e0e89d12",
   "metadata": {},
   "outputs": [],
   "source": [
    "now = datetime.now()\n",
    "print(now)\n",
    "now.strftime('%Y년 %m월 %d일 %a')"
   ]
  },
  {
   "cell_type": "code",
   "execution_count": null,
   "id": "af6454ef-ccfc-4cb4-b79c-87a80c29c71c",
   "metadata": {},
   "outputs": [],
   "source": [
    "from datetime import timedelta"
   ]
  },
  {
   "cell_type": "code",
   "execution_count": null,
   "id": "b206560e-ab33-49dc-b1c6-233d03966bce",
   "metadata": {},
   "outputs": [],
   "source": [
    "future = timedelta(days=3)\n",
    "print(future)"
   ]
  },
  {
   "cell_type": "code",
   "execution_count": null,
   "id": "ab151199-821c-4e93-a738-b631497ce902",
   "metadata": {},
   "outputs": [],
   "source": [
    "now + future"
   ]
  },
  {
   "cell_type": "code",
   "execution_count": null,
   "id": "de67abf6-7a81-4d2f-8115-cb9b07d51e90",
   "metadata": {},
   "outputs": [],
   "source": [
    "new_year = datetime(2025, 1, 1)\n",
    "now = datetime.now()\n",
    "\n",
    "print(new_year - now + timedelta(days=100))"
   ]
  },
  {
   "cell_type": "code",
   "execution_count": null,
   "id": "0d577055-5851-4ddd-ab04-17f04b794a4e",
   "metadata": {},
   "outputs": [],
   "source": [
    "import requests"
   ]
  },
  {
   "cell_type": "code",
   "execution_count": null,
   "id": "f41bcc1e-5a3d-455a-a64f-cb5cb2ea48b6",
   "metadata": {},
   "outputs": [],
   "source": [
    "r = requests.get('https://api.github.com/events')\n",
    "print(r.text)"
   ]
  },
  {
   "cell_type": "code",
   "execution_count": null,
   "id": "d25e1cb4-efac-4121-8afe-3ed5b0a53a49",
   "metadata": {},
   "outputs": [],
   "source": [
    "payload = {'query': '동아일보'}\n",
    "r = requests.get('https://search.naver.com/search.naver', params=payload)\n",
    "print(r)\n"
   ]
  },
  {
   "cell_type": "code",
   "execution_count": null,
   "id": "165c229e-1374-4d44-bdf2-dd7f8ea956b3",
   "metadata": {},
   "outputs": [],
   "source": [
    "payload = {'q': '동아일보'}\n",
    "r = requests.get('https://www.google.com/search', params = payload)\n",
    "print(r)\n",
    "\n"
   ]
  },
  {
   "cell_type": "code",
   "execution_count": null,
   "id": "77ef6a10-c246-4efc-bb20-0b8691f62a8a",
   "metadata": {},
   "outputs": [],
   "source": [
    "\n",
    "payload = {\n",
    "    'method': 'getLottoNumber',\n",
    "    'drwtNo': 1126,\n",
    "}\n",
    "\n",
    "r = requests.get('https://www.dhlottery.co.kr/common.do', parmas=payload)\n",
    "lotto_dict = r.json()\n",
    "\n",
    "\n",
    "\n",
    "print(lotto_dict['drwtNo1'])\n",
    "print(lotto_dict['drwtNo2'])\n",
    "print(lotto_dict['drwtNo3'])\n",
    "print(lotto_dict['drwtNo4'])\n",
    "print(lotto_dict['drwtNo5'])\n",
    "print(lotto_dict['drwtNo6'])\n"
   ]
  },
  {
   "cell_type": "code",
   "execution_count": null,
   "id": "af4e9796-53dd-43c4-8221-d9aeb7b8dc64",
   "metadata": {},
   "outputs": [],
   "source": []
  }
 ],
 "metadata": {
  "kernelspec": {
   "display_name": "Python 3 (ipykernel)",
   "language": "python",
   "name": "python3"
  },
  "language_info": {
   "codemirror_mode": {
    "name": "ipython",
    "version": 3
   },
   "file_extension": ".py",
   "mimetype": "text/x-python",
   "name": "python",
   "nbconvert_exporter": "python",
   "pygments_lexer": "ipython3",
   "version": "3.12.4"
  }
 },
 "nbformat": 4,
 "nbformat_minor": 5
}
