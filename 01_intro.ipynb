{
 "cells": [
  {
   "cell_type": "markdown",
   "id": "dc3ed2be-2019-424b-a1f1-250c04891eae",
   "metadata": {},
   "source": [
    "# 주석입니다"
   ]
  },
  {
   "cell_type": "markdown",
   "id": "5c1a66c8-979f-401a-8b71-0219a7f2929c",
   "metadata": {},
   "source": [
    "## 1. 변수\n",
    "\n",
    "변수이름 = 값\n",
    "\n",
    "- 변수이름 어떤이름이든 사용가능\n",
    "- 다만 영어, 숫자, _를 이용하여 선언\n",
    "- 키워드는 사용불가\n",
    "\n",
    "  변수로쓰지만 상수인 것일떄 영어대문자 씀\n"
   ]
  },
  {
   "cell_type": "code",
   "execution_count": 108,
   "id": "77cfcc90-abe9-4921-9877-dbc05897edbe",
   "metadata": {},
   "outputs": [
    {
     "data": {
      "text/plain": [
       "['False',\n",
       " 'None',\n",
       " 'True',\n",
       " 'and',\n",
       " 'as',\n",
       " 'assert',\n",
       " 'async',\n",
       " 'await',\n",
       " 'break',\n",
       " 'class',\n",
       " 'continue',\n",
       " 'def',\n",
       " 'del',\n",
       " 'elif',\n",
       " 'else',\n",
       " 'except',\n",
       " 'finally',\n",
       " 'for',\n",
       " 'from',\n",
       " 'global',\n",
       " 'if',\n",
       " 'import',\n",
       " 'in',\n",
       " 'is',\n",
       " 'lambda',\n",
       " 'nonlocal',\n",
       " 'not',\n",
       " 'or',\n",
       " 'pass',\n",
       " 'raise',\n",
       " 'return',\n",
       " 'try',\n",
       " 'while',\n",
       " 'with',\n",
       " 'yield']"
      ]
     },
     "execution_count": 108,
     "metadata": {},
     "output_type": "execute_result"
    }
   ],
   "source": [
    "import keyword\n",
    "keyword. kwlist"
   ]
  },
  {
   "cell_type": "code",
   "execution_count": 109,
   "id": "c51250cd-2708-4afa-8924-749f175a39a4",
   "metadata": {},
   "outputs": [],
   "source": [
    "seoul_dust_rate = 3"
   ]
  },
  {
   "cell_type": "markdown",
   "id": "cfd3bdbb-8150-4735-aaf7-9e221f1c6066",
   "metadata": {},
   "source": [
    "### 1.1 number"
   ]
  },
  {
   "cell_type": "code",
   "execution_count": 111,
   "id": "79167301-fc21-422e-b985-3795fe6ac862",
   "metadata": {},
   "outputs": [],
   "source": [
    "a = 110001001010\n"
   ]
  },
  {
   "cell_type": "code",
   "execution_count": 112,
   "id": "254f7756-111d-4871-ba55-99901c91905d",
   "metadata": {},
   "outputs": [
    {
     "data": {
      "text/plain": [
       "110001001010"
      ]
     },
     "execution_count": 112,
     "metadata": {},
     "output_type": "execute_result"
    }
   ],
   "source": [
    "a"
   ]
  },
  {
   "cell_type": "code",
   "execution_count": 113,
   "id": "f01d5f35-19cd-4cd4-8381-be9869fa3836",
   "metadata": {},
   "outputs": [
    {
     "data": {
      "text/plain": [
       "int"
      ]
     },
     "execution_count": 113,
     "metadata": {},
     "output_type": "execute_result"
    }
   ],
   "source": [
    "type(a)"
   ]
  },
  {
   "cell_type": "code",
   "execution_count": 114,
   "id": "fb9b3ed3-e9e6-4525-9bb2-78fc1e154145",
   "metadata": {},
   "outputs": [],
   "source": [
    "b = 1.1"
   ]
  },
  {
   "cell_type": "code",
   "execution_count": 115,
   "id": "959247f9-4d32-4f83-af71-fa7f57cf48c3",
   "metadata": {},
   "outputs": [
    {
     "data": {
      "text/plain": [
       "float"
      ]
     },
     "execution_count": 115,
     "metadata": {},
     "output_type": "execute_result"
    }
   ],
   "source": [
    "type(b)"
   ]
  },
  {
   "cell_type": "code",
   "execution_count": 116,
   "id": "9798091e-55dc-40b6-8827-b8090e517e69",
   "metadata": {},
   "outputs": [],
   "source": [
    " c = 1 - 4j"
   ]
  },
  {
   "cell_type": "code",
   "execution_count": null,
   "id": "5f4c60c6-53fd-49cb-b920-445c25aa5549",
   "metadata": {},
   "outputs": [],
   "source": []
  },
  {
   "cell_type": "code",
   "execution_count": 117,
   "id": "f836d7c3-89bb-4503-b120-9228bf6fb0ea",
   "metadata": {},
   "outputs": [
    {
     "data": {
      "text/plain": [
       "complex"
      ]
     },
     "execution_count": 117,
     "metadata": {},
     "output_type": "execute_result"
    }
   ],
   "source": [
    "type(c)"
   ]
  },
  {
   "cell_type": "markdown",
   "id": "bb16fac2-a611-4886-8a00-2d057a3a9cf1",
   "metadata": {},
   "source": [
    "### 1.2 boolean\n",
    "\n",
    "True, False 으로 이루어진 타입\n",
    "= 1,0"
   ]
  },
  {
   "cell_type": "code",
   "execution_count": 119,
   "id": "c6fd9adc-b120-4a7c-8b11-7427284993ad",
   "metadata": {},
   "outputs": [],
   "source": [
    "a = True"
   ]
  },
  {
   "cell_type": "code",
   "execution_count": 120,
   "id": "9845374b-1882-4f02-8828-6667efd23435",
   "metadata": {},
   "outputs": [],
   "source": [
    "b = False"
   ]
  },
  {
   "cell_type": "code",
   "execution_count": 121,
   "id": "010d3f2d-37ef-4e40-b010-9f95e164050b",
   "metadata": {},
   "outputs": [
    {
     "data": {
      "text/plain": [
       "bool"
      ]
     },
     "execution_count": 121,
     "metadata": {},
     "output_type": "execute_result"
    }
   ],
   "source": [
    "type(a)"
   ]
  },
  {
   "cell_type": "code",
   "execution_count": 122,
   "id": "1cd488e6-a123-4498-b4f7-879b3b2e2bec",
   "metadata": {},
   "outputs": [
    {
     "data": {
      "text/plain": [
       "bool"
      ]
     },
     "execution_count": 122,
     "metadata": {},
     "output_type": "execute_result"
    }
   ],
   "source": [
    "type(b)"
   ]
  },
  {
   "cell_type": "code",
   "execution_count": 123,
   "id": "1ad273e4-5258-4624-b724-761e6061e5b2",
   "metadata": {},
   "outputs": [
    {
     "data": {
      "text/plain": [
       "int"
      ]
     },
     "execution_count": 123,
     "metadata": {},
     "output_type": "execute_result"
    }
   ],
   "source": [
    "type(a + b)"
   ]
  },
  {
   "cell_type": "markdown",
   "id": "de66fb8a-d906-496f-b4be-affa236a011b",
   "metadata": {},
   "source": [
    "컴퓨터는 계산기\n",
    "\n",
    "장점은\n",
    "\n",
    "저장\n",
    "반복\n",
    "계산 (논리적 계산 분류, 산술등)\n",
    "\n",
    "분기문 if\n",
    "사람이 보기 좋은 형태 = 순서도 = 알고리즘"
   ]
  },
  {
   "cell_type": "markdown",
   "id": "660efcff-cac9-4d0c-b697-8d1a8ed35fe6",
   "metadata": {},
   "source": [
    "### 1.3 None\n",
    "\n",
    "없는 것도 정보"
   ]
  },
  {
   "cell_type": "code",
   "execution_count": 125,
   "id": "12eb221b-64e4-48a4-9fba-b5909e99c8d0",
   "metadata": {},
   "outputs": [],
   "source": [
    "a = None"
   ]
  },
  {
   "cell_type": "code",
   "execution_count": 126,
   "id": "015ead4c-e435-4889-b38a-dc5ce45a89a3",
   "metadata": {},
   "outputs": [
    {
     "data": {
      "text/plain": [
       "NoneType"
      ]
     },
     "execution_count": 126,
     "metadata": {},
     "output_type": "execute_result"
    }
   ],
   "source": [
    "type(a)"
   ]
  },
  {
   "cell_type": "markdown",
   "id": "37527917-c97b-4969-b3f5-4f50f03554b2",
   "metadata": {},
   "source": [
    "### 1.4 String\n",
    "\n",
    "- 문자열은 `'`, `\"`를 이용해서 표현"
   ]
  },
  {
   "cell_type": "code",
   "execution_count": 129,
   "id": "fd60b283-8dc3-4f78-a7d5-daf8d227d84d",
   "metadata": {},
   "outputs": [],
   "source": [
    "a = 'hello'"
   ]
  },
  {
   "cell_type": "code",
   "execution_count": 130,
   "id": "f97a273c-d6b9-4da7-8bc7-d2306a35ccee",
   "metadata": {},
   "outputs": [
    {
     "data": {
      "text/plain": [
       "str"
      ]
     },
     "execution_count": 130,
     "metadata": {},
     "output_type": "execute_result"
    }
   ],
   "source": [
    "type(a)\n"
   ]
  },
  {
   "cell_type": "code",
   "execution_count": 131,
   "id": "b03a9d92-cfcb-41a5-b677-dc054a38b150",
   "metadata": {},
   "outputs": [],
   "source": [
    "b = \"hello\""
   ]
  },
  {
   "cell_type": "code",
   "execution_count": 133,
   "id": "62f80af9-3524-4a11-aa71-e73fca53f69c",
   "metadata": {},
   "outputs": [
    {
     "data": {
      "text/plain": [
       "str"
      ]
     },
     "execution_count": 133,
     "metadata": {},
     "output_type": "execute_result"
    }
   ],
   "source": [
    "type(a + b)"
   ]
  },
  {
   "cell_type": "code",
   "execution_count": 150,
   "id": "1a104a87-2c99-4ef2-9e75-a9c10bebf902",
   "metadata": {},
   "outputs": [
    {
     "name": "stdin",
     "output_type": "stream",
     "text": [
      " 1212\n"
     ]
    },
    {
     "name": "stdout",
     "output_type": "stream",
     "text": [
      "1212\n",
      "<class 'str'>\n"
     ]
    },
    {
     "data": {
      "text/plain": [
       "str"
      ]
     },
     "execution_count": 150,
     "metadata": {},
     "output_type": "execute_result"
    }
   ],
   "source": [
    "age = input()\n",
    "print(age)\n",
    "print(type(age))\n",
    "type(age)"
   ]
  },
  {
   "cell_type": "code",
   "execution_count": 156,
   "id": "0f423c0c-cff1-4b9c-90b0-b97a6c787008",
   "metadata": {},
   "outputs": [
    {
     "name": "stdout",
     "output_type": "stream",
     "text": [
      "안녕하세요 '오창희' 입니가\n",
      "하릴ㄹ\"ㅇㅇㅇㅇ\" 이응리\n"
     ]
    }
   ],
   "source": [
    "print(\"안녕하세요 '오창희' 입니가\")\n",
    "\n",
    "print('하릴ㄹ\"ㅇㅇㅇㅇ\" 이응리')"
   ]
  },
  {
   "cell_type": "code",
   "execution_count": 161,
   "id": "bbac7f43-ff23-4182-a068-0b0522960dfd",
   "metadata": {},
   "outputs": [
    {
     "name": "stdout",
     "output_type": "stream",
     "text": [
      "안녕하세요. \n"
     ]
    }
   ],
   "source": [
    "print('안녕하세요. ')"
   ]
  },
  {
   "cell_type": "code",
   "execution_count": 162,
   "id": "191856a7-9c54-417c-aba0-9eced11baae5",
   "metadata": {},
   "outputs": [
    {
     "name": "stdout",
     "output_type": "stream",
     "text": [
      "\n",
      "안녕하세요 이시운 입니다.\n",
      "\n"
     ]
    }
   ],
   "source": [
    "a = '''\n",
    "안녕하세요 이시운 입니다.\n",
    "'''\n",
    "print(a)"
   ]
  },
  {
   "cell_type": "code",
   "execution_count": 163,
   "id": "79123d05-40af-4048-8a44-e8e7869c8a85",
   "metadata": {},
   "outputs": [
    {
     "name": "stdout",
     "output_type": "stream",
     "text": [
      "문장이다 \n",
      " 줄바꾸고 \t 들여쓰고 \"콤마\" '콤마' 끝\n"
     ]
    }
   ],
   "source": [
    "print('문장이다 \\n 줄바꾸고 \\t 들여쓰고 \"콤마\" \\'콤마\\' 끝')"
   ]
  },
  {
   "cell_type": "markdown",
   "id": "ab104962-cebe-4960-b3aa-9f85a4389e0c",
   "metadata": {},
   "source": [
    "변수를 문자로\n",
    "string interpolating\n",
    "1. %-formatting\n",
    "2. srt.format()\n",
    "3. f-string"
   ]
  },
  {
   "cell_type": "code",
   "execution_count": 169,
   "id": "40f66c13-e7ef-4778-ac11-9c8cfd13cefe",
   "metadata": {},
   "outputs": [],
   "source": [
    "age = 10"
   ]
  },
  {
   "cell_type": "code",
   "execution_count": 170,
   "id": "4db6cdfe-37e0-48d9-bdaa-a34705cd73e6",
   "metadata": {},
   "outputs": [
    {
     "name": "stdout",
     "output_type": "stream",
     "text": [
      "홍길동은 10살 입니다.\n"
     ]
    }
   ],
   "source": [
    "print('홍길동은 %s살 입니다.'% age)"
   ]
  },
  {
   "cell_type": "code",
   "execution_count": 171,
   "id": "c160a5de-8a60-4656-8d17-028284bf7d5e",
   "metadata": {},
   "outputs": [
    {
     "name": "stdout",
     "output_type": "stream",
     "text": [
      "홀기롤ㅇ은 10살입니다\n"
     ]
    }
   ],
   "source": [
    "print('홀기롤ㅇ은 {}살입니다' .format(age))"
   ]
  },
  {
   "cell_type": "code",
   "execution_count": 172,
   "id": "438857f3-464c-43f2-bd5f-8977503a9649",
   "metadata": {},
   "outputs": [
    {
     "name": "stdout",
     "output_type": "stream",
     "text": [
      "홍길동은 10살입니다. \n"
     ]
    }
   ],
   "source": [
    "print(f'홍길동은 {age}살입니다. ')"
   ]
  },
  {
   "cell_type": "markdown",
   "id": "c49d3b11-3879-4888-a8a5-3c25bb38cdd8",
   "metadata": {},
   "source": [
    "## 2. 연산자\n",
    "# 2.1 산술 연산자"
   ]
  },
  {
   "cell_type": "code",
   "execution_count": 176,
   "id": "8d244aac-b508-4885-bdfe-9f655796efb3",
   "metadata": {},
   "outputs": [],
   "source": [
    "a = 7\n",
    "b = 3"
   ]
  },
  {
   "cell_type": "code",
   "execution_count": 185,
   "id": "ff27d3e4-9b56-499c-b771-b54277d23c7f",
   "metadata": {},
   "outputs": [
    {
     "name": "stdout",
     "output_type": "stream",
     "text": [
      "5\n",
      "8\n",
      "6\n",
      "0\n",
      "2\n",
      "(0, 2)\n"
     ]
    }
   ],
   "source": [
    "print(a + b)\n",
    "print(a ** b)\n",
    "print(a * b)\n",
    "print(a // b)\n",
    "# 나눈 몫\n",
    "print(a % b)\n",
    "# 나머지\n",
    "print(divmod(a, b))\n",
    "# 몫과 나머지\n",
    "\n",
    "\n",
    "# 연산자 양옆은 띄어쓰기 관례\n",
    "\n",
    "# a = b 좌에 우를 대입"
   ]
  },
  {
   "cell_type": "markdown",
   "id": "8c78bf60-c765-42ea-9c46-365863fd47d0",
   "metadata": {},
   "source": [
    "## 2.2 비교연산자"
   ]
  },
  {
   "cell_type": "code",
   "execution_count": 183,
   "id": "bac70d21-8ca2-4512-b99c-7a352622105a",
   "metadata": {},
   "outputs": [
    {
     "name": "stdout",
     "output_type": "stream",
     "text": [
      "False\n",
      "True\n",
      "False\n",
      "False\n",
      "True\n"
     ]
    }
   ],
   "source": [
    "#  비교연산자\n",
    "print(a > b)\n",
    "print(a <= b)\n",
    "print(a >= b)\n",
    "# 같나요? (문자도 가능)\n",
    "print(a == b)\n",
    "# 다른가요?\n",
    "print(a != b)"
   ]
  },
  {
   "cell_type": "raw",
   "id": "6ca71150-8866-4a50-af89-5d7b197ee221",
   "metadata": {},
   "source": [
    "print( \n"
   ]
  },
  {
   "cell_type": "code",
   "execution_count": 184,
   "id": "49b7dfde-0745-446e-a38c-955163baedd8",
   "metadata": {},
   "outputs": [
    {
     "name": "stdout",
     "output_type": "stream",
     "text": [
      "False\n"
     ]
    }
   ],
   "source": [
    "print(a*b==a+b)"
   ]
  },
  {
   "cell_type": "markdown",
   "id": "51e75455-f33b-47b7-9436-a8f9ba031e9f",
   "metadata": {},
   "source": [
    "## 2.3 논리 연산자 \n",
    " - and : 참 참 => 참\n",
    " - or : 거 거 => 거\n",
    " - not : 참 <=> 거"
   ]
  },
  {
   "cell_type": "code",
   "execution_count": 186,
   "id": "1ba567a7-127c-47d2-81e9-e817f9b0fa43",
   "metadata": {},
   "outputs": [
    {
     "name": "stdout",
     "output_type": "stream",
     "text": [
      "True\n",
      "False\n",
      "False\n",
      "False\n",
      "True\n",
      "True\n",
      "True\n",
      "False\n",
      "False\n",
      "True\n"
     ]
    }
   ],
   "source": [
    "# and\n",
    "print(True and True)\n",
    "print(True and False)\n",
    "print(False and True)\n",
    "print(False and False)\n",
    "\n",
    "# or\n",
    "print(True or True)\n",
    "print(True or False)\n",
    "print(False or True)\n",
    "print(False or False)\n",
    "\n",
    "# not\n",
    "print(not True)\n",
    "print(not False)\n",
    "\n"
   ]
  },
  {
   "cell_type": "code",
   "execution_count": 193,
   "id": "63663e05-bc3b-4df7-b3e8-96fd5f5a682e",
   "metadata": {},
   "outputs": [
    {
     "name": "stdout",
     "output_type": "stream",
     "text": [
      "3\n",
      "0\n",
      "0\n",
      "0\n",
      "2\n",
      "2\n",
      "3\n",
      "0\n"
     ]
    }
   ],
   "source": [
    "# 단축 평가 and\n",
    "# print(p and q)\n",
    "\n",
    "print(2 and 3)\n",
    "print(2 and 0)\n",
    "print(0 and 3)\n",
    "print(0 and 0)\n",
    "\n",
    "# t t/f => t/f\n",
    "# f t/f => f\n",
    "\n",
    "# 단축평가 or\n",
    "print(2 or 3)\n",
    "print(2 or 0)\n",
    "print(0 or 3)\n",
    "print(0 or 0)\n",
    "\n",
    "# t t/f => f\n",
    "# f t/f => t/f"
   ]
  },
  {
   "cell_type": "markdown",
   "id": "45531282-8ab1-4818-9e9a-0f93d369be7d",
   "metadata": {},
   "source": [
    "### 2.4 복합 연산자"
   ]
  },
  {
   "cell_type": "code",
   "execution_count": 195,
   "id": "af389ea5-2422-412a-83cc-59e2095ba418",
   "metadata": {},
   "outputs": [],
   "source": [
    "a = 1\n",
    "b = 2"
   ]
  },
  {
   "cell_type": "code",
   "execution_count": 196,
   "id": "62842c87-1e81-4870-9814-20b97b4042ed",
   "metadata": {},
   "outputs": [],
   "source": [
    "a = a + b\n",
    "a = a - b\n",
    "a = a * b\n",
    "a = a / b"
   ]
  },
  {
   "cell_type": "code",
   "execution_count": 197,
   "id": "08313380-7baa-4ed2-b95d-6e7843967035",
   "metadata": {},
   "outputs": [],
   "source": [
    "a += b\n",
    "a -= b\n",
    "a *= b\n",
    "a /= b\n",
    "a //= b\n",
    "a %= b\n",
    "a **= b"
   ]
  },
  {
   "cell_type": "markdown",
   "id": "670a11e7-c991-4919-b0a0-a2de8968656e",
   "metadata": {},
   "source": [
    "### 2.5 기타연산자"
   ]
  },
  {
   "cell_type": "code",
   "execution_count": 200,
   "id": "6911ca2a-e4d8-4441-bf38-16c3a70f622c",
   "metadata": {},
   "outputs": [],
   "source": [
    "a = 'hi'\n",
    "b = 'hello'"
   ]
  },
  {
   "cell_type": "markdown",
   "id": "51799ee1-b84c-4969-b2fa-2bc0f86020f5",
   "metadata": {},
   "source": [
    "# concatenation 콘케트네이션 (시퀀스형데이터는 가능하다)\n",
    "print(a + b)"
   ]
  },
  {
   "cell_type": "code",
   "execution_count": 202,
   "id": "54ee19cd-edae-4900-bc9e-b81e4be3e304",
   "metadata": {},
   "outputs": [],
   "source": [
    "a = [1, 2, 3]\n",
    "b = [3, 4, 5]"
   ]
  },
  {
   "cell_type": "code",
   "execution_count": 203,
   "id": "3000edc2-7093-412d-8b52-e6c95829f783",
   "metadata": {},
   "outputs": [
    {
     "name": "stdout",
     "output_type": "stream",
     "text": [
      "[1, 2, 3, 3, 4, 5]\n"
     ]
    }
   ],
   "source": [
    "print(a + b)"
   ]
  },
  {
   "cell_type": "code",
   "execution_count": 205,
   "id": "4b7a9230-7dc4-4b22-8259-4cd51230fb04",
   "metadata": {},
   "outputs": [
    {
     "name": "stdout",
     "output_type": "stream",
     "text": [
      "True\n",
      "False\n"
     ]
    }
   ],
   "source": [
    "# containment\n",
    "print( 1 in a)\n",
    "print(10 in a)"
   ]
  },
  {
   "cell_type": "code",
   "execution_count": 211,
   "id": "ebc2fbfb-eaa5-46d5-9bf6-44c74e306964",
   "metadata": {},
   "outputs": [
    {
     "name": "stdout",
     "output_type": "stream",
     "text": [
      "True\n",
      "True\n"
     ]
    }
   ],
   "source": [
    "# idntity\n",
    "\n",
    "a = 5\n",
    "b = 5\n",
    "\n",
    "print(a == b)\n",
    "print(a is b)"
   ]
  },
  {
   "cell_type": "code",
   "execution_count": 207,
   "id": "4a59a222-142d-4513-a1a6-782b58915577",
   "metadata": {},
   "outputs": [
    {
     "name": "stdout",
     "output_type": "stream",
     "text": [
      "True\n",
      "False\n"
     ]
    }
   ],
   "source": [
    "a = 123123\n",
    "b = 123123\n",
    "\n",
    "print(a == b)\n",
    "\n",
    "\n",
    "print(a is b)\n",
    "# 왜 결과가 다른가 is 는 결과가 값이 아니라 메모리 값을 본다\n",
    "# -5 ~ 256인가 까지는 자주쓰는 값으로 메모리 위치가 이미 지정되어 있어서 위의 경우는 True 가 나옴"
   ]
  },
  {
   "cell_type": "markdown",
   "id": "9bf06f7a-91cc-4d71-9b87-9b76e23b09c6",
   "metadata": {},
   "source": [
    "### 우선순위\n",
    "\n",
    "0. ()괄호를 통한 그룹\n",
    "1. **\n",
    "2. 산술연산자(*, /)\n",
    "3. 산술연산자(+, -)\n",
    "4. 비교연산자,in ,is\n",
    "5. not\n",
    "6. and\n",
    "7. or"
   ]
  },
  {
   "cell_type": "code",
   "execution_count": 223,
   "id": "c8b3b0c3-f922-4722-a359-7545680149a9",
   "metadata": {},
   "outputs": [
    {
     "name": "stdout",
     "output_type": "stream",
     "text": [
      "66\n"
     ]
    }
   ],
   "source": [
    "print((((3+2)*4+1)+1)*3)"
   ]
  },
  {
   "cell_type": "markdown",
   "id": "93b32467-df08-4331-8bf2-2a67d47b72c9",
   "metadata": {},
   "source": [
    "### 3. 형번환\n",
    "## 3.1 암시적 형변환\n",
    "#암시적(알아서)\n"
   ]
  },
  {
   "cell_type": "code",
   "execution_count": 222,
   "id": "fa2903b4-5dcc-4f02-9eaa-f4cb2241736e",
   "metadata": {},
   "outputs": [],
   "source": [
    "a = True\n",
    "b = False\n",
    "c = 1\n",
    "#자주이용"
   ]
  },
  {
   "cell_type": "code",
   "execution_count": 219,
   "id": "013a48e1-01a2-4bb1-8aaf-ff2c9b405425",
   "metadata": {},
   "outputs": [
    {
     "name": "stdout",
     "output_type": "stream",
     "text": [
      "1\n",
      "-1\n"
     ]
    }
   ],
   "source": [
    "print(a + b)\n",
    "print(b - c)"
   ]
  },
  {
   "cell_type": "code",
   "execution_count": 3,
   "id": "f7aa8584-986a-4a5d-abab-defeac84f916",
   "metadata": {},
   "outputs": [],
   "source": [
    "int_num = 3\n",
    "float_num = 3.3\n",
    "complex_num = 3 + 3j"
   ]
  },
  {
   "cell_type": "code",
   "execution_count": 4,
   "id": "117a175e-fe10-4c1d-a3eb-1576e3a2190a",
   "metadata": {},
   "outputs": [
    {
     "name": "stdout",
     "output_type": "stream",
     "text": [
      "6.3\n"
     ]
    }
   ],
   "source": [
    "print(int_num + float_num)"
   ]
  },
  {
   "cell_type": "code",
   "execution_count": 5,
   "id": "83cf4a0c-b991-4b15-854e-ebb4322133b0",
   "metadata": {},
   "outputs": [
    {
     "name": "stdout",
     "output_type": "stream",
     "text": [
      "<class 'float'>\n"
     ]
    },
    {
     "ename": "NameError",
     "evalue": "name 'floar_num' is not defined",
     "output_type": "error",
     "traceback": [
      "\u001b[1;31m---------------------------------------------------------------------------\u001b[0m",
      "\u001b[1;31mNameError\u001b[0m                                 Traceback (most recent call last)",
      "Cell \u001b[1;32mIn[5], line 2\u001b[0m\n\u001b[0;32m      1\u001b[0m \u001b[38;5;28mprint\u001b[39m(\u001b[38;5;28mtype\u001b[39m(int_num \u001b[38;5;241m+\u001b[39m float_num))\n\u001b[1;32m----> 2\u001b[0m \u001b[38;5;28mprint\u001b[39m(\u001b[43mfloar_num\u001b[49m \u001b[38;5;241m+\u001b[39m comlex_num)\n",
      "\u001b[1;31mNameError\u001b[0m: name 'floar_num' is not defined"
     ]
    }
   ],
   "source": [
    "print(type(int_num + float_num))\n",
    "print(floar_num + comlex_num)"
   ]
  },
  {
   "cell_type": "markdown",
   "id": "15662e98-56d1-46c8-88d0-62d4986cb9c6",
   "metadata": {},
   "source": [
    "### 3.2 명시적 형변환\n",
    "\n",
    "- int() : sreing , float => int\n",
    "- "
   ]
  },
  {
   "cell_type": "code",
   "execution_count": 6,
   "id": "51666f25-b630-4118-baa5-f4354d40dc69",
   "metadata": {},
   "outputs": [],
   "source": [
    "a = 1\n",
    "b = '번'"
   ]
  },
  {
   "cell_type": "code",
   "execution_count": 7,
   "id": "bbd4fb01-b32b-472c-a9b7-f5fbf2e12c3a",
   "metadata": {},
   "outputs": [
    {
     "ename": "TypeError",
     "evalue": "unsupported operand type(s) for +: 'int' and 'str'",
     "output_type": "error",
     "traceback": [
      "\u001b[1;31m---------------------------------------------------------------------------\u001b[0m",
      "\u001b[1;31mTypeError\u001b[0m                                 Traceback (most recent call last)",
      "Cell \u001b[1;32mIn[7], line 1\u001b[0m\n\u001b[1;32m----> 1\u001b[0m \u001b[38;5;28mprint\u001b[39m(\u001b[43ma\u001b[49m\u001b[43m \u001b[49m\u001b[38;5;241;43m+\u001b[39;49m\u001b[43m \u001b[49m\u001b[43mb\u001b[49m)\n",
      "\u001b[1;31mTypeError\u001b[0m: unsupported operand type(s) for +: 'int' and 'str'"
     ]
    }
   ],
   "source": [
    "print(a + b)"
   ]
  },
  {
   "cell_type": "code",
   "execution_count": 8,
   "id": "99ee13ee-2693-4481-8bcb-9558a71acb8c",
   "metadata": {},
   "outputs": [
    {
     "ename": "TypeError",
     "evalue": "can only concatenate str (not \"int\") to str",
     "output_type": "error",
     "traceback": [
      "\u001b[1;31m---------------------------------------------------------------------------\u001b[0m",
      "\u001b[1;31mTypeError\u001b[0m                                 Traceback (most recent call last)",
      "Cell \u001b[1;32mIn[8], line 1\u001b[0m\n\u001b[1;32m----> 1\u001b[0m \u001b[38;5;28mprint\u001b[39m(\u001b[43mb\u001b[49m\u001b[43m \u001b[49m\u001b[38;5;241;43m+\u001b[39;49m\u001b[43m \u001b[49m\u001b[43ma\u001b[49m)\n",
      "\u001b[1;31mTypeError\u001b[0m: can only concatenate str (not \"int\") to str"
     ]
    }
   ],
   "source": [
    "print(b + a)"
   ]
  },
  {
   "cell_type": "code",
   "execution_count": 10,
   "id": "c9853a9d-6302-4e40-b007-a2d5e0fe4e9a",
   "metadata": {},
   "outputs": [
    {
     "name": "stdout",
     "output_type": "stream",
     "text": [
      "1번\n"
     ]
    }
   ],
   "source": [
    "print(str(a) + b)"
   ]
  },
  {
   "cell_type": "code",
   "execution_count": 12,
   "id": "adb38416-5ea0-4fa7-84dc-642ee3bad229",
   "metadata": {},
   "outputs": [
    {
     "name": "stdout",
     "output_type": "stream",
     "text": [
      "<class 'int'>\n",
      "<class 'int'>\n"
     ]
    }
   ],
   "source": [
    "a = '3'\n",
    "print(type(int(a)))\n",
    "print(type(int(a)))"
   ]
  },
  {
   "cell_type": "code",
   "execution_count": 15,
   "id": "603adfeb-c3b4-4a70-9e84-ddbb125d207f",
   "metadata": {},
   "outputs": [
    {
     "ename": "ValueError",
     "evalue": "invalid literal for int() with base 10: 'a'",
     "output_type": "error",
     "traceback": [
      "\u001b[1;31m---------------------------------------------------------------------------\u001b[0m",
      "\u001b[1;31mValueError\u001b[0m                                Traceback (most recent call last)",
      "Cell \u001b[1;32mIn[15], line 2\u001b[0m\n\u001b[0;32m      1\u001b[0m a \u001b[38;5;241m=\u001b[39m \u001b[38;5;124m'\u001b[39m\u001b[38;5;124ma\u001b[39m\u001b[38;5;124m'\u001b[39m\n\u001b[1;32m----> 2\u001b[0m \u001b[38;5;28mprint\u001b[39m(\u001b[38;5;28;43mint\u001b[39;49m\u001b[43m(\u001b[49m\u001b[43ma\u001b[49m\u001b[43m)\u001b[49m)\n",
      "\u001b[1;31mValueError\u001b[0m: invalid literal for int() with base 10: 'a'"
     ]
    }
   ],
   "source": [
    "a = 'a'\n",
    "print(int(a))"
   ]
  },
  {
   "cell_type": "code",
   "execution_count": 17,
   "id": "bd591ef3-355a-4e35-95aa-49a2106e14c8",
   "metadata": {},
   "outputs": [
    {
     "name": "stdout",
     "output_type": "stream",
     "text": [
      "3.3\n"
     ]
    }
   ],
   "source": [
    "a = '3.3'\n",
    "print(float(a))"
   ]
  },
  {
   "cell_type": "code",
   "execution_count": 21,
   "id": "d84aa409-f1a5-4f5b-9615-68a257c81e45",
   "metadata": {},
   "outputs": [
    {
     "name": "stdout",
     "output_type": "stream",
     "text": [
      "True\n",
      "False\n",
      "True\n"
     ]
    }
   ],
   "source": [
    "a = 1\n",
    "b = 0\n",
    "c = 3\n",
    "print(bool(a))\n",
    "print(bool(b))\n",
    "print(bool(c))"
   ]
  },
  {
   "cell_type": "code",
   "execution_count": 20,
   "id": "f9d6d5ed-c22a-419d-b04a-0ba2ef62227f",
   "metadata": {},
   "outputs": [
    {
     "name": "stdout",
     "output_type": "stream",
     "text": [
      "False\n",
      "True\n"
     ]
    }
   ],
   "source": [
    "print(bool([]))\n",
    "print(bool([1, 2, 3]))"
   ]
  },
  {
   "cell_type": "markdown",
   "id": "fa1ef9e1-ef8f-4310-83fb-ebc9355f97de",
   "metadata": {},
   "source": [
    "\n",
    "### 4. 시퀀스 자료형\n",
    "\n",
    "시퀀스는 데이터의 순서대로 나열된 자료구조.\n",
    "(순서대로 나열된 자료구조)\n",
    "(정렬된것과는 무관하다)\n",
    "시퀀스와 / 시퀀스가 아닌 테이더\n",
    "\n",
    "1. List\n",
    "2. Tuple\n",
    "3. Range\n",
    "4. String "
   ]
  },
  {
   "cell_type": "markdown",
   "id": "7e850163-26d6-4312-8c04-a4127063306b",
   "metadata": {},
   "source": [
    "### 4.1 List ( 리스트 , 배열 (어레이))\n",
    "\n",
    "- 선언 : 변수이름  = [value1, value2, value3 ...]\n",
    "- 접근 : 변수이름[index]\n",
    "\n",
    "여러 데이터 또는 상관관계가 있는 데이터를 주로 묶음  "
   ]
  },
  {
   "cell_type": "code",
   "execution_count": 23,
   "id": "64acb553-88fa-4e1f-ba88-837e9dd2aa96",
   "metadata": {},
   "outputs": [
    {
     "name": "stdout",
     "output_type": "stream",
     "text": [
      "[]\n",
      "<class 'list'>\n"
     ]
    }
   ],
   "source": [
    "l = []\n",
    "print(l)\n",
    "print(type(l))"
   ]
  },
  {
   "cell_type": "code",
   "execution_count": 35,
   "id": "da3e661e-e98b-4236-b460-cab2ac6e647c",
   "metadata": {},
   "outputs": [
    {
     "name": "stdout",
     "output_type": "stream",
     "text": [
      "['서울', '대전', '부산']\n",
      "대전\n",
      "서울\n"
     ]
    }
   ],
   "source": [
    "location = ['서울', '대전', '부산']\n",
    "print(location)\n",
    "print(location[1])\n",
    "print(location[0])"
   ]
  },
  {
   "cell_type": "code",
   "execution_count": 38,
   "id": "50d689d5-5832-4733-95ea-f34e2a5906d2",
   "metadata": {},
   "outputs": [
    {
     "name": "stdout",
     "output_type": "stream",
     "text": [
      "['서울', '광주', '부산']\n"
     ]
    }
   ],
   "source": [
    "location[1] = '광주'\n",
    "print(location)"
   ]
  },
  {
   "cell_type": "markdown",
   "id": "ba4b8dd8-8af7-45d0-b9ad-74241299e593",
   "metadata": {},
   "source": [
    "### 4.2 Tuple\n",
    "\n",
    "- 선언 : 변수이름 = (value1, value2, value3 ...)\n",
    "- 접근 : 변수이름[index]\n",
    "\n",
    "리스트와 표시가 소괄호인 차이\n",
    "튜플은 수정 불가능(immutable)이다.\n",
    "사용할일 잘 없음"
   ]
  },
  {
   "cell_type": "code",
   "execution_count": 42,
   "id": "20bf4b73-5fd9-4021-8080-2d1ae2f6d99c",
   "metadata": {},
   "outputs": [
    {
     "name": "stdout",
     "output_type": "stream",
     "text": [
      "(1, 2, 3)\n",
      "2\n"
     ]
    }
   ],
   "source": [
    "numbers = (1, 2, 3)\n",
    "print(numbers)\n",
    "print(numbers[1])"
   ]
  },
  {
   "cell_type": "code",
   "execution_count": 43,
   "id": "545ac4de-69ce-4906-9738-d31e7a967e54",
   "metadata": {},
   "outputs": [
    {
     "ename": "TypeError",
     "evalue": "'tuple' object does not support item assignment",
     "output_type": "error",
     "traceback": [
      "\u001b[1;31m---------------------------------------------------------------------------\u001b[0m",
      "\u001b[1;31mTypeError\u001b[0m                                 Traceback (most recent call last)",
      "Cell \u001b[1;32mIn[43], line 1\u001b[0m\n\u001b[1;32m----> 1\u001b[0m \u001b[43mnumbers\u001b[49m\u001b[43m[\u001b[49m\u001b[38;5;241;43m1\u001b[39;49m\u001b[43m]\u001b[49m \u001b[38;5;241m=\u001b[39m \u001b[38;5;241m654\u001b[39m\n",
      "\u001b[1;31mTypeError\u001b[0m: 'tuple' object does not support item assignment"
     ]
    }
   ],
   "source": [
    "numbers[1] = 654"
   ]
  },
  {
   "cell_type": "code",
   "execution_count": 49,
   "id": "4966becb-4247-4cff-8cd2-e49466c9d654",
   "metadata": {},
   "outputs": [
    {
     "name": "stdout",
     "output_type": "stream",
     "text": [
      "1 2\n",
      "2 1\n"
     ]
    }
   ],
   "source": [
    "x, y = (1, 2)\n",
    "# (x, y) = (1, 2)\n",
    "print(x, y)\n",
    "\n",
    "x, y = y, x\n",
    "print(x, y)"
   ]
  },
  {
   "cell_type": "markdown",
   "id": "ad130511-bb63-4a84-a569-4860e35fd94a",
   "metadata": {},
   "source": [
    "### 4.3 Range\n",
    "\n",
    "\n",
    "\n",
    "\n",
    "\n",
    "range(n) = 0부터 n-1까지 범위\n",
    "range(n ,m) = n부터 m-1까지\n",
    "range(n, m, s) = n부터 m-1 s만큼씩가는 범위\n",
    "\n",
    "생략된 것 range(0, n, 1) "
   ]
  },
  {
   "cell_type": "code",
   "execution_count": 54,
   "id": "c5bbe50f-3ef6-4cd7-bd61-63433364f90d",
   "metadata": {},
   "outputs": [
    {
     "name": "stdout",
     "output_type": "stream",
     "text": [
      "range(0, 45)\n",
      "[0, 1, 2, 3, 4, 5, 6, 7, 8, 9, 10, 11, 12, 13, 14, 15, 16, 17, 18, 19, 20, 21, 22, 23, 24, 25, 26, 27, 28, 29, 30, 31, 32, 33, 34, 35, 36, 37, 38, 39, 40, 41, 42, 43, 44]\n"
     ]
    }
   ],
   "source": [
    "lotto = range(45)\n",
    "print(lotto)\n",
    "print(list(lotto))"
   ]
  },
  {
   "cell_type": "code",
   "execution_count": 58,
   "id": "d25ddede-1ce7-478e-b21f-ca79b65efb16",
   "metadata": {},
   "outputs": [
    {
     "name": "stdout",
     "output_type": "stream",
     "text": [
      "range(0, 0)\n",
      "[]\n"
     ]
    }
   ],
   "source": [
    "otto = range(0)\n",
    "print(otto)\n",
    "print(list(otto))"
   ]
  },
  {
   "cell_type": "code",
   "execution_count": 57,
   "id": "771ec22c-3f5f-42f8-bab3-983fb6bff46f",
   "metadata": {},
   "outputs": [
    {
     "name": "stdout",
     "output_type": "stream",
     "text": [
      "range(5, 10)\n",
      "[5, 6, 7, 8, 9]\n"
     ]
    }
   ],
   "source": [
    "lotto = range(5, 10)\n",
    "print(lotto)\n",
    "print(list(lotto))"
   ]
  },
  {
   "cell_type": "code",
   "execution_count": 60,
   "id": "6d1bacf7-9058-4fca-b64e-612fb0417d8b",
   "metadata": {},
   "outputs": [
    {
     "name": "stdout",
     "output_type": "stream",
     "text": [
      "range(2, 20, 2)\n",
      "[2, 4, 6, 8, 10, 12, 14, 16, 18]\n"
     ]
    }
   ],
   "source": [
    "even = range(2, 20, 2)\n",
    "print(even)\n",
    "print(list(even))"
   ]
  },
  {
   "cell_type": "code",
   "execution_count": 69,
   "id": "13ac982c-6ec2-4d82-b1e7-2b1804402103",
   "metadata": {},
   "outputs": [
    {
     "name": "stdout",
     "output_type": "stream",
     "text": [
      "range(0, -10, -2)\n",
      "[0, -2, -4, -6, -8]\n"
     ]
    }
   ],
   "source": [
    "nn = range(0, -10 ,-2)\n",
    "print(nn)\n",
    "print(list(nn))"
   ]
  },
  {
   "cell_type": "markdown",
   "id": "bcf1b9aa-7955-472f-b47c-cd8d2de829bd",
   "metadata": {},
   "source": [
    "### 4.4 String\n",
    "\n",
    "기본 데이터 구조 참고\n",
    "' \" 문자열\n",
    "하나짜리 데이터가 아니라 각 문자의 나열로 간주"
   ]
  },
  {
   "cell_type": "markdown",
   "id": "a35704ff-4b6a-40e7-8c0f-4c0bc6228808",
   "metadata": {},
   "source": [
    "### 시퀀스에서 활용 가능한 연산/함수\n"
   ]
  },
  {
   "cell_type": "code",
   "execution_count": 77,
   "id": "23161c12-dba7-4a2c-9d21-9870f7714513",
   "metadata": {},
   "outputs": [],
   "source": [
    "my_list = [1, 2, 3, 4, 5]\n",
    "my_tuple = (1, 2, 3, 4, 5)\n",
    "my_range = range(5)\n",
    "my_string = '12345'"
   ]
  },
  {
   "cell_type": "code",
   "execution_count": 72,
   "id": "7405520a-34ee-4ee2-8133-ccda60c0ae30",
   "metadata": {},
   "outputs": [
    {
     "name": "stdout",
     "output_type": "stream",
     "text": [
      "2\n"
     ]
    }
   ],
   "source": [
    "# indexing 찾기\n",
    "print(my_list[1])"
   ]
  },
  {
   "cell_type": "code",
   "execution_count": 81,
   "id": "e5d4307a-341e-414d-a8cd-6b5f8153e7f2",
   "metadata": {},
   "outputs": [
    {
     "name": "stdout",
     "output_type": "stream",
     "text": [
      "[2, 3]\n",
      "(2, 3)\n",
      "range(1, 3)\n",
      "23\n",
      "[1, 3]\n"
     ]
    }
   ],
   "source": [
    "# slicing 범위찾기\n",
    "# [n:m] 0부터 n번째 부터 m-1 번쨰 항 까지\n",
    "# 이상 미만 표현\n",
    "# n+1번쨰항부터 m-1번쨰 항까지?\n",
    "print(my_list[1:3])\n",
    "print(my_tuple[1:3])\n",
    "print(my_range[1:3])\n",
    "print(my_string[1:3])\n",
    "\n",
    "print(my_list[0:4:2])"
   ]
  },
  {
   "cell_type": "code",
   "execution_count": 85,
   "id": "0c6b503a-cd4e-4fda-a39d-e927ee05990e",
   "metadata": {},
   "outputs": [
    {
     "name": "stdout",
     "output_type": "stream",
     "text": [
      "True\n",
      "True\n",
      "True\n",
      "True\n",
      "False\n"
     ]
    }
   ],
   "source": [
    "# in 있나요 \n",
    "print(1 in my_list)\n",
    "print(1 in my_tuple)\n",
    "print(1 in my_range)\n",
    "print('1' in my_string)\n",
    "\n",
    "# not in\n",
    "print(1 not in my_list)"
   ]
  },
  {
   "cell_type": "code",
   "execution_count": 89,
   "id": "00a31842-af63-4fb2-8f4a-d0316636af4c",
   "metadata": {},
   "outputs": [
    {
     "name": "stdout",
     "output_type": "stream",
     "text": [
      "[1, 2, 3, 4, 5, 6, 7, 8, 9, 10]\n",
      "(1, 2, 3, 4, 5, 6, 7, 8, 9, 10)\n",
      "12345678910\n"
     ]
    }
   ],
   "source": [
    "# conatenation 연결\n",
    "print(my_list +[6, 7, 8, 9, 10])\n",
    "print(my_tuple +(6, 7, 8, 9, 10))\n",
    "# my_range 리스트로바꿔서 해야 가능\n",
    "print(my_string + '678910')\n"
   ]
  },
  {
   "cell_type": "code",
   "execution_count": 93,
   "id": "50a1300c-90d0-49aa-9c5a-7a817f3e28cb",
   "metadata": {},
   "outputs": [
    {
     "name": "stdout",
     "output_type": "stream",
     "text": [
      "##########\n",
      "[0, 0, 0, 0, 0, 0, 0, 0, 0, 0]\n",
      "[0, 1, 0, 1, 0, 1, 0, 1, 0, 1, 0, 1, 0, 1, 0, 1, 0, 1, 0, 1]\n",
      "([0], [1], [0], [1], [0], [1], [0], [1], [0], [1], [0], [1], [0], [1], [0], [1], [0], [1], [0], [1])\n"
     ]
    }
   ],
   "source": [
    "#  *\n",
    "print('#' * 10)\n",
    "print([0] * 10)\n",
    "print([0, 1] * 10)\n",
    "print(([0], [1]) * 10)"
   ]
  },
  {
   "cell_type": "code",
   "execution_count": 96,
   "id": "ac0b0b9d-ada2-42aa-a52c-e4073463e09f",
   "metadata": {},
   "outputs": [
    {
     "name": "stdout",
     "output_type": "stream",
     "text": [
      "5\n",
      "5\n",
      "1\n"
     ]
    }
   ],
   "source": [
    "print(len(my_list))\n",
    "print(max(my_list))\n",
    "print(min(my_list))"
   ]
  },
  {
   "cell_type": "markdown",
   "id": "ec615ff0-f906-4b44-9875-6d0aa21f576e",
   "metadata": {},
   "source": [
    "### 5. 시퀀스형이 아니니 자료구조"
   ]
  },
  {
   "cell_type": "markdown",
   "id": "d29aaadf-8a78-4b96-9e59-ea33e006bbaf",
   "metadata": {},
   "source": [
    "### 5.1 set\n",
    "수학의 집합\n",
    "- 선언 : 변수이름  = {value1, value2, value3 ...}\n",
    "\n",
    "덧셈 뺼셈 교집합 합집합 가능 중복값/순서 무관"
   ]
  },
  {
   "cell_type": "code",
   "execution_count": 98,
   "id": "bdba51ac-c3e9-41c6-b7bc-1b823c2ecd84",
   "metadata": {},
   "outputs": [],
   "source": [
    "my_set_a = {1, 3, 5 ,7, 9}\n",
    "mt_set_b = {1, 2, 3, 4, 5}\n",
    "# = {1,1,1,5,4,3,3,2,1} 중복값/순서 무관"
   ]
  },
  {
   "cell_type": "code",
   "execution_count": 99,
   "id": "974bfd8f-1882-4a64-a1e6-046f48baca8f",
   "metadata": {},
   "outputs": [
    {
     "name": "stdout",
     "output_type": "stream",
     "text": [
      "{9, 7}\n",
      "{1, 2, 3, 4, 5, 7, 9}\n",
      "{1, 3, 5}\n"
     ]
    }
   ],
   "source": [
    "# 차집합\n",
    "print(my_set_a - mt_set_b\n",
    "# 합집합\n",
    "print(my_set_a | mt_set_b)\n",
    "# 교집합\n",
    "print(my_set_a & mt_set_b)"
   ]
  },
  {
   "cell_type": "markdown",
   "id": "af786001-6d5a-4728-b715-bce710dfe6d3",
   "metadata": {},
   "source": [
    "### 5.2 dictionary\n",
    "- 선언 : 변수이름  = {key1: value1, value2, value3 ...}\n",
    "- 접근\n",
    "\n",
    "맵 메쉬 키벨류 등 의 다른 언어 이름 있음"
   ]
  },
  {
   "cell_type": "code",
   "execution_count": 102,
   "id": "de53dce9-5b30-4a10-9b87-f51e9f8e89e7",
   "metadata": {},
   "outputs": [
    {
     "name": "stdout",
     "output_type": "stream",
     "text": [
      "{'서울': '02', '경기': '031'}\n",
      "02\n"
     ]
    }
   ],
   "source": [
    "my_dict = {'서울': '02', '경기': '031'}\n",
    "print(my_dict)\n",
    "print(my_dict['서울'])"
   ]
  },
  {
   "cell_type": "code",
   "execution_count": 108,
   "id": "9a057898-1af6-4323-9907-2686b0eef4ee",
   "metadata": {},
   "outputs": [],
   "source": [
    "# 표기법\n",
    "my_info = {\n",
    "    'name': 'shiun',\n",
    "    'location': 'paju',\n",
    "    'age': '100'\n",
    "}"
   ]
  },
  {
   "cell_type": "code",
   "execution_count": 111,
   "id": "ee300570-9069-400e-bfff-2afde7a03723",
   "metadata": {},
   "outputs": [
    {
     "data": {
      "text/plain": [
       "dict_keys(['name', 'location', 'age'])"
      ]
     },
     "execution_count": 111,
     "metadata": {},
     "output_type": "execute_result"
    }
   ],
   "source": [
    "my_info.keys()"
   ]
  },
  {
   "cell_type": "code",
   "execution_count": 114,
   "id": "caaa1ce3-20f9-417c-8532-1caf83f5c14e",
   "metadata": {},
   "outputs": [
    {
     "data": {
      "text/plain": [
       "dict_values(['shiun', 'paju', '100'])"
      ]
     },
     "execution_count": 114,
     "metadata": {},
     "output_type": "execute_result"
    }
   ],
   "source": [
    "my_info.values()"
   ]
  },
  {
   "cell_type": "code",
   "execution_count": null,
   "id": "42b53e75-09f5-4353-a5e0-56be0d2964db",
   "metadata": {},
   "outputs": [],
   "source": [
    "#### 데이터 타입 \n",
    "1. "
   ]
  },
  {
   "cell_type": "markdown",
   "id": "b597b7b9-0060-4daf-bbe3-dbeb339874be",
   "metadata": {},
   "source": [
    "### 로또 "
   ]
  },
  {
   "cell_type": "code",
   "execution_count": 1,
   "id": "be2e2900-b975-435a-aab3-70979e15a92e",
   "metadata": {},
   "outputs": [
    {
     "name": "stdin",
     "output_type": "stream",
     "text": [
      "몇장을 구매하시겠습니까 10\n"
     ]
    },
    {
     "name": "stdout",
     "output_type": "stream",
     "text": [
      "로또 구매에 10000원을 사용하셨습니다.\n",
      "{4, 37, 5, 40, 9, 11}\n",
      "BN:\n",
      "7\n",
      "[{34, 3, 8, 23, 29, 30}, {34, 37, 6, 21, 24, 27}, {3, 39, 9, 10, 15, 26}, {32, 3, 10, 45, 19, 26}, {32, 1, 5, 10, 16, 29}, {1, 37, 12, 27, 28, 30}, {3, 39, 8, 42, 14, 27}, {2, 5, 44, 17, 29, 30}, {1, 33, 34, 43, 26, 31}, {33, 2, 37, 45, 21, 29}]\n",
      "꽝\n",
      "꽝\n",
      "꽝\n",
      "꽝\n",
      "꽝\n",
      "꽝\n",
      "꽝\n",
      "꽝\n",
      "꽝\n",
      "꽝\n",
      "총 당첨금은 0원 입니다.\n",
      "도박을 하지 맙시다.\n"
     ]
    }
   ],
   "source": [
    "n = input(\"몇장을 구매하시겠습니까\")\n",
    "nnn = int(n) * 1000\n",
    "print(f'로또 구매에 {nnn}원을 사용하셨습니다.')\n",
    "\n",
    "# 당첨번호\n",
    "import requests\n",
    "r=requests.get('https://www.dhlottery.co.kr/common.do?method=getLottoNumber&drwNo=1126')\n",
    "\n",
    "lotto_dict = r.json()\n",
    "\n",
    "win = {lotto_dict['drwtNo1'], lotto_dict['drwtNo2'], lotto_dict['drwtNo3'], lotto_dict['drwtNo4'], lotto_dict['drwtNo5'], lotto_dict['drwtNo6'] }\n",
    "bn = lotto_dict['bnusNo']\n",
    "print(win)\n",
    "print('BN:')\n",
    "print(bn)\n",
    "\n",
    "# n번 구매\n",
    "\n",
    "\n",
    "import random\n",
    "jun = range(1, 46)\n",
    "\n",
    "dasan = []\n",
    "for times in range(0,int(n)):\n",
    "    san = random.sample(jun, 6)\n",
    "    san.sort()\n",
    "    san = set(san)\n",
    "    dasan.append(san)\n",
    "\n",
    "print(dasan)\n",
    "\n",
    "#당첨 확인\n",
    "\n",
    "dangm = 0\n",
    "for k in range(0, int(n)):\n",
    "    nsan = dasan[k]\n",
    "    ilge = win-nsan\n",
    "    ilge = len(ilge)\n",
    "    ilge = 6 - ilge\n",
    "    if ilge == 6:\n",
    "        print('1등')\n",
    "        dangm += 1000000000\n",
    "    elif ilge == 5:\n",
    "        if bn in nsan:\n",
    "            print('2등')\n",
    "            dangm += 10000000\n",
    "        else:\n",
    "            print('3등')\n",
    "            dangm += 1000000\n",
    "    elif ilge == 4:\n",
    "        print('4등')\n",
    "        dangm += 50000\n",
    "    elif ilge == 3:\n",
    "        print('5등')\n",
    "        dangm += 5000\n",
    "    else:\n",
    "        \n",
    "        print('꽝')\n",
    "print(f'총 당첨금은 {dangm}원 입니다.')\n",
    "print('도박을 하지 맙시다.')"
   ]
  },
  {
   "cell_type": "code",
   "execution_count": null,
   "id": "efde41b7-c387-4810-86e6-5064788ce1f3",
   "metadata": {},
   "outputs": [],
   "source": []
  }
 ],
 "metadata": {
  "kernelspec": {
   "display_name": "Python 3 (ipykernel)",
   "language": "python",
   "name": "python3"
  },
  "language_info": {
   "codemirror_mode": {
    "name": "ipython",
    "version": 3
   },
   "file_extension": ".py",
   "mimetype": "text/x-python",
   "name": "python",
   "nbconvert_exporter": "python",
   "pygments_lexer": "ipython3",
   "version": "3.12.4"
  }
 },
 "nbformat": 4,
 "nbformat_minor": 5
}
