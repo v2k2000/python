{
 "cells": [
  {
   "cell_type": "markdown",
   "id": "154b0b8d-8629-4ebc-b02e-96f33432f1bf",
   "metadata": {},
   "source": [
    "### Error"
   ]
  },
  {
   "cell_type": "markdown",
   "id": "888074b6-8da2-4275-bffd-b9b4c87ed259",
   "metadata": {},
   "source": [
    "## Syntax error"
   ]
  },
  {
   "cell_type": "code",
   "execution_count": null,
   "id": "61855509-a345-41f8-acda-1b2665b01e21",
   "metadata": {},
   "outputs": [],
   "source": [
    "if True:\n",
    "    pass\n",
    "else"
   ]
  },
  {
   "cell_type": "code",
   "execution_count": null,
   "id": "7fb02e0c-7f4b-4ae2-8299-e6ca028cc330",
   "metadata": {},
   "outputs": [],
   "source": [
    "prit('hello"
   ]
  },
  {
   "cell_type": "code",
   "execution_count": null,
   "id": "e5c09015-de18-4e16-8ac6-4b2005eba01a",
   "metadata": {},
   "outputs": [],
   "source": [
    "if True print('1')"
   ]
  },
  {
   "cell_type": "markdown",
   "id": "572421bb-785b-4254-ae32-11dabba9c8ff",
   "metadata": {},
   "source": [
    "### exception"
   ]
  },
  {
   "cell_type": "code",
   "execution_count": null,
   "id": "a986d0a4-f2c6-407c-aa68-73b2c16c55e9",
   "metadata": {},
   "outputs": [],
   "source": [
    "print(5/0)"
   ]
  },
  {
   "cell_type": "code",
   "execution_count": null,
   "id": "b2445ab3-3a23-4a1c-af9f-39905d53a523",
   "metadata": {},
   "outputs": [],
   "source": [
    "print(hello)"
   ]
  },
  {
   "cell_type": "code",
   "execution_count": null,
   "id": "17715713-45e3-4b5d-b59a-50621dc5bfd0",
   "metadata": {},
   "outputs": [],
   "source": [
    "1 + '1'"
   ]
  },
  {
   "cell_type": "code",
   "execution_count": null,
   "id": "df1ef56e-cbc8-4d8f-9eef-78d68ffd849b",
   "metadata": {},
   "outputs": [],
   "source": [
    "'1' + 1"
   ]
  },
  {
   "cell_type": "code",
   "execution_count": null,
   "id": "60939a87-d7f9-4cb6-89ab-0ef1aed4f91d",
   "metadata": {},
   "outputs": [],
   "source": [
    "import random\n",
    "ramdom.sample(1, 1, 2, 2, 3, 3)"
   ]
  },
  {
   "cell_type": "code",
   "execution_count": null,
   "id": "b04557b1-32d8-4d0e-8e6a-de3a9544b396",
   "metadata": {},
   "outputs": [],
   "source": [
    "int('4.5')"
   ]
  },
  {
   "cell_type": "code",
   "execution_count": null,
   "id": "bbff06a6-2b2e-496c-bd49-cbb304a07919",
   "metadata": {},
   "outputs": [],
   "source": [
    "numbers = [1, 2, 3]\n"
   ]
  },
  {
   "cell_type": "code",
   "execution_count": null,
   "id": "47a0c0fd-0ba3-4132-96d1-66d497b40fb5",
   "metadata": {},
   "outputs": [],
   "source": [
    "import pandas"
   ]
  },
  {
   "cell_type": "markdown",
   "id": "737842f1-e24f-440d-9769-582836969a4a",
   "metadata": {},
   "source": [
    "## 예외처리\n",
    "\n",
    "```phyton\n",
    "try:\n",
    "    code\n",
    "except 예외:\n",
    "    code"
   ]
  },
  {
   "cell_type": "code",
   "execution_count": 6,
   "id": "0c423b33-6d3f-4dfd-b6a1-19720cf78908",
   "metadata": {},
   "outputs": [
    {
     "name": "stdin",
     "output_type": "stream",
     "text": [
      "숫자를 입력해 주세요 :  e\n"
     ]
    },
    {
     "name": "stdout",
     "output_type": "stream",
     "text": [
      "숫자를! 입력!\n"
     ]
    }
   ],
   "source": [
    "try:\n",
    "    num = int(input('숫자를 입력해 주세요 : '))\n",
    "    print(f'{num}의 세제곱은 {num ** 3} 입니다')\n",
    "except:\n",
    "    print('숫자를! 입력!')"
   ]
  },
  {
   "cell_type": "code",
   "execution_count": 21,
   "id": "7808d1cc-6e21-4af8-9176-05d8e3f51b84",
   "metadata": {},
   "outputs": [
    {
     "ename": "SyntaxError",
     "evalue": "invalid syntax (3078912210.py, line 4)",
     "output_type": "error",
     "traceback": [
      "\u001b[1;36m  Cell \u001b[1;32mIn[21], line 4\u001b[1;36m\u001b[0m\n\u001b[1;33m    except: valueError:\u001b[0m\n\u001b[1;37m                       ^\u001b[0m\n\u001b[1;31mSyntaxError\u001b[0m\u001b[1;31m:\u001b[0m invalid syntax\n"
     ]
    }
   ],
   "source": [
    "try:\n",
    "    num = int(input('100을 뭘로나눌래'))\n",
    "    print(f'{100/num}')\n",
    "except: valueError:\n",
    "    print('숫자가 아님')"
   ]
  },
  {
   "cell_type": "code",
   "execution_count": 23,
   "id": "e0a3bbd6-1719-4ef7-84b6-4736880c57bb",
   "metadata": {},
   "outputs": [
    {
     "ename": "SyntaxError",
     "evalue": "expected 'except' or 'finally' block (1382404752.py, line 2)",
     "output_type": "error",
     "traceback": [
      "\u001b[1;36m  Cell \u001b[1;32mIn[23], line 2\u001b[1;36m\u001b[0m\n\u001b[1;33m    num = numbers[100]\u001b[0m\n\u001b[1;37m    ^\u001b[0m\n\u001b[1;31mSyntaxError\u001b[0m\u001b[1;31m:\u001b[0m expected 'except' or 'finally' block\n"
     ]
    }
   ],
   "source": [
    "try: numbers = [1, 2, 3]\n",
    "    num = numbers[100]\n",
    "except:\n",
    "    print('오류')\n",
    "else:\n",
    "    print('완료')"
   ]
  },
  {
   "cell_type": "code",
   "execution_count": 24,
   "id": "5a8c460d-1b39-4768-bdfa-a0e92c70da91",
   "metadata": {},
   "outputs": [
    {
     "ename": "SyntaxError",
     "evalue": "expected 'except' or 'finally' block (3165191056.py, line 2)",
     "output_type": "error",
     "traceback": [
      "\u001b[1;36m  Cell \u001b[1;32mIn[24], line 2\u001b[1;36m\u001b[0m\n\u001b[1;33m    num = numbers[100]\u001b[0m\n\u001b[1;37m    ^\u001b[0m\n\u001b[1;31mSyntaxError\u001b[0m\u001b[1;31m:\u001b[0m expected 'except' or 'finally' block\n"
     ]
    }
   ],
   "source": [
    "try: numbers = [1, 2, 3]\n",
    "    num = numbers[100]\n",
    "except:\n",
    "    print('오류')\n",
    "try:\n",
    "    print('정지')"
   ]
  },
  {
   "cell_type": "code",
   "execution_count": 30,
   "id": "6d2b44d4-e0e3-44b7-8ad9-90bdc243bf74",
   "metadata": {},
   "outputs": [
    {
     "ename": "SyntaxError",
     "evalue": "unterminated string literal (detected at line 10) (2808066443.py, line 10)",
     "output_type": "error",
     "traceback": [
      "\u001b[1;36m  Cell \u001b[1;32mIn[30], line 10\u001b[1;36m\u001b[0m\n\u001b[1;33m    return ' 무언가 살못\u001b[0m\n\u001b[1;37m           ^\u001b[0m\n\u001b[1;31mSyntaxError\u001b[0m\u001b[1;31m:\u001b[0m unterminated string literal (detected at line 10)\n"
     ]
    }
   ],
   "source": [
    "def my_vic(num1, num2):\n",
    "    try:\n",
    "        return num1 /num2\n",
    "    except Valuerror:\n",
    "        return '숫자입력 불가'\n",
    "    except ZeroVivisionError:\n",
    "        return'rerutrn 0안댐'\n",
    "\n",
    "    except:\n",
    "        return ' 무언가 살못\n",
    "        "
   ]
  },
  {
   "cell_type": "code",
   "execution_count": 31,
   "id": "3d4b8ec9-affa-4d61-9def-19db912f69f8",
   "metadata": {},
   "outputs": [
    {
     "ename": "NameError",
     "evalue": "name 'my_vic' is not defined",
     "output_type": "error",
     "traceback": [
      "\u001b[1;31m------------------------------------\u001b[0m",
      "\u001b[1;31mNameError\u001b[0mTraceback (most recent call last)",
      "Cell \u001b[1;32mIn[31], line 1\u001b[0m\n\u001b[1;32m----> 1\u001b[0m \u001b[38;5;28mprint\u001b[39m(\u001b[43mmy_vic\u001b[49m(\u001b[38;5;124m'\u001b[39m\u001b[38;5;124m2\u001b[39m\u001b[38;5;124m'\u001b[39m, \u001b[38;5;124m'\u001b[39m\u001b[38;5;124mq\u001b[39m\u001b[38;5;124m'\u001b[39m))\n",
      "\u001b[1;31mNameError\u001b[0m: name 'my_vic' is not defined"
     ]
    }
   ],
   "source": [
    "print(my_vic('2', 'q'))"
   ]
  },
  {
   "cell_type": "code",
   "execution_count": null,
   "id": "bce8cebd-35e9-4a56-bf86-ad5e5a826a75",
   "metadata": {},
   "outputs": [],
   "source": []
  }
 ],
 "metadata": {
  "kernelspec": {
   "display_name": "Python 3 (ipykernel)",
   "language": "python",
   "name": "python3"
  },
  "language_info": {
   "codemirror_mode": {
    "name": "ipython",
    "version": 3
   },
   "file_extension": ".py",
   "mimetype": "text/x-python",
   "name": "python",
   "nbconvert_exporter": "python",
   "pygments_lexer": "ipython3",
   "version": "3.12.4"
  }
 },
 "nbformat": 4,
 "nbformat_minor": 5
}
