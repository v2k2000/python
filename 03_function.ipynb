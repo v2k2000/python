{
 "cells": [
  {
   "cell_type": "markdown",
   "id": "23c54c51-8cfd-46bf-98ed-ecc839f46b92",
   "metadata": {},
   "source": [
    "### 함수"
   ]
  },
  {
   "cell_type": "code",
   "execution_count": null,
   "id": "dbe61f1b-4d2d-46ee-95c3-503a34cee558",
   "metadata": {},
   "outputs": [],
   "source": [
    "hight = 50\n",
    "width = 30\n",
    "\n",
    "area = hight * width\n",
    "\n",
    "perimeter = (hight + width) * 2\n",
    "\n",
    "print(f'사각형의 넓이는 {area}고, 둘레는{perimeter}입니다.')"
   ]
  },
  {
   "cell_type": "code",
   "execution_count": null,
   "id": "34e42255-62c7-4ed4-a208-8b1361acab02",
   "metadata": {},
   "outputs": [],
   "source": [
    "hight2 = 100\n",
    "width2 = 10\n",
    "\n",
    "area2 = hight2 * width2\n",
    "\n",
    "perimeter2 = (hight2 + width2) * 2\n",
    "\n",
    "print(f'사각형의 넓이는 {area2}고, 둘레는{perimeter2}입니다.')"
   ]
  },
  {
   "cell_type": "markdown",
   "id": "9d7e55e3-a47b-4da1-91a2-85a6e35536bc",
   "metadata": {},
   "source": [
    "### 함수의 선언과 호출"
   ]
  },
  {
   "cell_type": "markdown",
   "id": "19e8bc3f-f73e-4bd5-9742-c742eab5cad4",
   "metadata": {},
   "source": [
    "- 선언(정의)\n",
    "```python\n",
    "def func_name(paramite1, paramiter2, ...):\n",
    "    code1\n",
    "    code2\n",
    "    ...\n",
    "    return value\n",
    "```\n",
    "\n",
    "- 호출(사용)\n",
    "```pyton\n",
    "func_name(paramiter1, paramiter2, ...)\n",
    "```"
   ]
  },
  {
   "cell_type": "code",
   "execution_count": null,
   "id": "14fa1b2a-2e0a-4e33-afbb-39a3a164193b",
   "metadata": {},
   "outputs": [],
   "source": [
    "def rectangle(hight, width):\n",
    "    area = hight * width\n",
    "    perimeter = (hight + width) * 2\n",
    "    print(area, perimeter)"
   ]
  },
  {
   "cell_type": "code",
   "execution_count": null,
   "id": "571be241-f7ed-4861-bb00-50d4c5313e86",
   "metadata": {},
   "outputs": [],
   "source": [
    "rectangle(30, 2)"
   ]
  },
  {
   "cell_type": "code",
   "execution_count": null,
   "id": "081cdc40-a7a6-4633-9625-3969ca1d5a90",
   "metadata": {},
   "outputs": [],
   "source": [
    "for a in range(5):"
   ]
  },
  {
   "cell_type": "code",
   "execution_count": null,
   "id": "f2a193f4-cf9b-45d1-a0b6-5f3f8ce39f9b",
   "metadata": {},
   "outputs": [],
   "source": [
    "dir(__builtin__)"
   ]
  },
  {
   "cell_type": "code",
   "execution_count": null,
   "id": "b65a42a4-8e9d-43d5-bd88-01c65bfed813",
   "metadata": {},
   "outputs": [],
   "source": [
    "max([1, 3, 23, 123, 32])"
   ]
  },
  {
   "cell_type": "code",
   "execution_count": null,
   "id": "0422ab8a-f9a9-44df-a3c2-527b92c3fe86",
   "metadata": {},
   "outputs": [],
   "source": [
    "def my_max(num1, num2):\n",
    "    if num1 > num2:\n",
    "        print(num1)\n",
    "    elif num1 < num2:\n",
    "        print(num2)\n",
    "    else:\n",
    "        print('같아요')\n",
    "        "
   ]
  },
  {
   "cell_type": "code",
   "execution_count": null,
   "id": "f606f3b7-44ea-4981-9e15-9822dd7b76a4",
   "metadata": {},
   "outputs": [],
   "source": [
    "my_max(\n",
    "    23, 123\n",
    ")"
   ]
  },
  {
   "cell_type": "markdown",
   "id": "8f178af2-efa1-445e-98f3-cd2a782703c1",
   "metadata": {},
   "source": [
    "### 함수의 return\n",
    "\n",
    "- 함수가 return을 만나면 해당값을 반환하고 함수를 종료\n",
    "\n",
    "- 만약 return이 없는 경우 None을 자동으로 반환\n",
    "\n",
    "- return은 오직 하나의 객체만 반환한다\n",
    "\n"
   ]
  },
  {
   "cell_type": "code",
   "execution_count": null,
   "id": "d580ee63-65f9-43e2-8d38-a896f0969494",
   "metadata": {},
   "outputs": [],
   "source": [
    "result = my_max(1, 2)\n",
    "print(result)"
   ]
  },
  {
   "cell_type": "code",
   "execution_count": null,
   "id": "bb94f9eb-2f8a-4a8d-85b3-ce7e3f7b7d9d",
   "metadata": {},
   "outputs": [],
   "source": [
    "you = 10000\n",
    "me = 5000\n",
    "print(you + me)\n",
    "\n",
    "\n",
    "def funfun(you, me):\n",
    "    return print(you + me)\n",
    "\n",
    "funfun(10, 5)"
   ]
  },
  {
   "cell_type": "code",
   "execution_count": null,
   "id": "5f9bce72-9992-4026-a910-e8e243990b48",
   "metadata": {},
   "outputs": [],
   "source": [
    "def my_max2(num1, num2):\n",
    "    if num1 > num2:\n",
    "        return num1\n",
    "    elif num1 < num2:\n",
    "        return num2\n",
    "    else:\n",
    "        return num1"
   ]
  },
  {
   "cell_type": "code",
   "execution_count": null,
   "id": "6015008d-911a-47f6-9fdf-fba144bbafd8",
   "metadata": {},
   "outputs": [],
   "source": [
    "my_max(1, 2)"
   ]
  },
  {
   "cell_type": "code",
   "execution_count": null,
   "id": "37b4c04d-2735-42d3-90d2-503f7c58e5a0",
   "metadata": {},
   "outputs": [],
   "source": [
    "result = my_max2(1, 2)"
   ]
  },
  {
   "cell_type": "code",
   "execution_count": null,
   "id": "3f3bcc8b-883a-4797-b5b7-6730adf560dc",
   "metadata": {},
   "outputs": [],
   "source": [
    "def my_list_max(list1, list2):\n",
    "    \n",
    "    lsum1 = 0\n",
    "    for i1 in list1:\n",
    "        lsum1 += i1\n",
    "        \n",
    "    lsum2 = 0\n",
    "    for i2 in list2:\n",
    "        lsum2 += i2\n",
    "\n",
    "    if lsum1 > lsum2:\n",
    "        return list1\n",
    "    elif lsum1 < lsum2:\n",
    "        return list2\n",
    "    else:\n",
    "        return '크기가 같아요'"
   ]
  },
  {
   "cell_type": "code",
   "execution_count": null,
   "id": "870871d6-3dc1-49ab-9b07-35e873467d17",
   "metadata": {
    "scrolled": true
   },
   "outputs": [],
   "source": [
    "print(my_list_max([1, 2, 3], [2, 3, 4]))"
   ]
  },
  {
   "cell_type": "code",
   "execution_count": null,
   "id": "c9896dbf-703a-4f77-964a-ed6fab6f49fd",
   "metadata": {},
   "outputs": [],
   "source": [
    "def my_list_max(list1, list2):\n",
    "    \n",
    "    big = 0\n",
    "\n",
    "    for i1 in list1:\n",
    "        big = big + i1\n",
    "    for i2 in list2:\n",
    "        big = big - i2\n",
    "\n",
    "    if big > 0:\n",
    "        print(list1)\n",
    "    elif big < 0:\n",
    "        print(list2)\n",
    "    else:\n",
    "        print('크기가 같아')"
   ]
  },
  {
   "cell_type": "code",
   "execution_count": null,
   "id": "4526c4c7-c76b-4d8f-b056-96c413f54f64",
   "metadata": {},
   "outputs": [],
   "source": [
    "my_list_max([1, 2, 3], [2, 3, 4])"
   ]
  },
  {
   "cell_type": "code",
   "execution_count": null,
   "id": "5fec1915-f6b3-4806-845a-1f471bf029fb",
   "metadata": {},
   "outputs": [],
   "source": [
    "def my_list_max(list1, list2):\n",
    "    \n",
    "    if sum(list1) > sum(list2):\n",
    "        print(list1)\n",
    "    elif sum(list1) < sum(list2):\n",
    "        print(list2)\n",
    "    elif sum(list1) = sum(list2):\n",
    "        print('같아요')\n",
    "    "
   ]
  },
  {
   "cell_type": "code",
   "execution_count": null,
   "id": "73952ac5-e855-44f4-a858-c139ef9b87aa",
   "metadata": {},
   "outputs": [],
   "source": [
    "def my_def(x):\n",
    "    return x, x +2\n",
    "\n",
    "my_def(10)"
   ]
  },
  {
   "cell_type": "markdown",
   "id": "44fd558e-4a42-4052-bdf6-81bf97ac2687",
   "metadata": {},
   "source": [
    "### 함수의 인수\n",
    "## 위치인수\n",
    "기본적으로 함수는 위치를 기준으로 인수를 판단합니다."
   ]
  },
  {
   "cell_type": "code",
   "execution_count": null,
   "id": "51cb6bc5-f7b6-47e9-8469-ae87c9c4ce1d",
   "metadata": {},
   "outputs": [],
   "source": [
    "def cyl(r, h):\n",
    "    return 3.14 * r ** 2 * h"
   ]
  },
  {
   "cell_type": "markdown",
   "id": "4717cd40-c57e-4568-b3a3-ee55c95b6d5a",
   "metadata": {},
   "source": [
    "### 기본값\n",
    "```pyton\n",
    "def func(p1=v1):\n",
    "code\n",
    "return velue\n",
    "```"
   ]
  },
  {
   "cell_type": "code",
   "execution_count": null,
   "id": "815ce1bd-1589-4e8e-a65f-9267071795e4",
   "metadata": {},
   "outputs": [],
   "source": [
    "def greeting(name='익명'):\n",
    "    return f'{name}님 반갑습니다.'"
   ]
  },
  {
   "cell_type": "code",
   "execution_count": null,
   "id": "95b3ddf1-0bec-4712-9e7c-b628c93402f3",
   "metadata": {},
   "outputs": [],
   "source": [
    "greeting(\n",
    ")"
   ]
  },
  {
   "cell_type": "code",
   "execution_count": null,
   "id": "fec8de26-d074-4ce9-b546-bac66de83430",
   "metadata": {},
   "outputs": [],
   "source": [
    "print('안냥', '난길동', 'ㅇ응러ㅐ',sep='\\n', end='! ')"
   ]
  },
  {
   "cell_type": "code",
   "execution_count": null,
   "id": "8ba4ed12-2277-4ab2-bab5-1dcfab1a1e9a",
   "metadata": {},
   "outputs": [],
   "source": [
    "def greeting(name='익명', age):\n",
    "    return f'{name}님 의 나이는 {age}입니다.'"
   ]
  },
  {
   "cell_type": "code",
   "execution_count": null,
   "id": "0cc742c7-1678-4fce-b1bb-c0b5e4ed5333",
   "metadata": {},
   "outputs": [],
   "source": [
    "def greeting(age, name='익명'):\n",
    "    return f'{name}님 의 나이는 {age}입니다.'"
   ]
  },
  {
   "cell_type": "code",
   "execution_count": null,
   "id": "dcf84b24-9419-4d35-9e93-a17428f73c0b",
   "metadata": {},
   "outputs": [],
   "source": [
    "greeting(10, 'dd')"
   ]
  },
  {
   "cell_type": "markdown",
   "id": "8dd45785-cf3c-46ba-b6bb-fa782b37e5a3",
   "metadata": {},
   "source": [
    "### 키워드 인수\n",
    "함수를 호출(실행)할떄 내가 원하는 위치에 직접적으로 특정인자를 전달\n"
   ]
  },
  {
   "cell_type": "code",
   "execution_count": null,
   "id": "c66fa799-e976-4202-9fa6-19d1448b3905",
   "metadata": {},
   "outputs": [],
   "source": [
    "def greeting(age, name='익명'):\n",
    "    return(f'{name}님의 나이{age}살')"
   ]
  },
  {
   "cell_type": "code",
   "execution_count": null,
   "id": "3a713384-c5ff-48b1-83a9-b9f4adeb43c9",
   "metadata": {},
   "outputs": [],
   "source": [
    "greeting(name='루루',age=99)"
   ]
  },
  {
   "cell_type": "markdown",
   "id": "7c2eea00-f676-40fc-866a-a6f18a8d3c9a",
   "metadata": {},
   "source": [
    "### 가변인자 리스트\n",
    "```python\n",
    "def func(*parms)\n"
   ]
  },
  {
   "cell_type": "code",
   "execution_count": null,
   "id": "d5372933-4519-4f19-afe3-408339a4f8f9",
   "metadata": {},
   "outputs": [],
   "source": [
    "def my_print(*words):\n",
    "    print(words)"
   ]
  },
  {
   "cell_type": "code",
   "execution_count": null,
   "id": "ea80b781-7eda-4504-8b3c-98e5ae7b35dd",
   "metadata": {},
   "outputs": [],
   "source": [
    "my_print('q', 'am' ,'nu')"
   ]
  },
  {
   "cell_type": "code",
   "execution_count": null,
   "id": "c0f708d3-1368-49cf-8646-edd6aecdc0ea",
   "metadata": {},
   "outputs": [],
   "source": [
    "import math\n",
    "\n",
    "def my_max(*numbers):\n",
    "    \n",
    "    m_number = -math.inf\n",
    "    \n",
    "    for number in numbers:\n",
    "        if m_number >= number:\n",
    "            continue\n",
    "        else:\n",
    "            m_number = number\n",
    "    return m_number\n",
    "        \n",
    "        "
   ]
  },
  {
   "cell_type": "code",
   "execution_count": null,
   "id": "55561cd5-387b-4d56-a8cd-6793ac249d89",
   "metadata": {},
   "outputs": [],
   "source": [
    "import math\n",
    "\n",
    "def my_max(*numbers):\n",
    "    \n",
    "    m_number = float(\"-inf\"):\n",
    "    for number in numbers:\n",
    "        if m_number >= number:\n",
    "            continue\n",
    "        else:\n",
    "            m_number = number\n",
    "    if m_number == float(\"-inf\"):\n",
    "        m_number = None\n",
    "    return m_number"
   ]
  },
  {
   "cell_type": "code",
   "execution_count": null,
   "id": "c7b0b802-337f-42eb-ad4f-7329d82e8d66",
   "metadata": {},
   "outputs": [],
   "source": [
    "# 간략히 개선\n",
    "def my_max(*numbers):\n",
    "    \n",
    "    m_number = numbers[0]\n",
    "    for number in numbers:\n",
    "        if m_number < number:\n",
    "            m_number = number\n",
    "    return m_number"
   ]
  },
  {
   "cell_type": "markdown",
   "id": "2cf55667-d8b2-425a-b4a5-dbf1b65d35e4",
   "metadata": {},
   "source": [
    "### 정의되지 않은 키워드 인자 처리하기\n",
    "\n",
    "```pyton\n",
    "def func(**kw)\n",
    "```"
   ]
  },
  {
   "cell_type": "code",
   "execution_count": null,
   "id": "69f622c0-9bf8-4e3f-a054-ce82cae64498",
   "metadata": {},
   "outputs": [],
   "source": [
    "info = {\n",
    "    'name': 'lee',\n",
    "    'age' : 222,\n",
    "}\n",
    "print(info)"
   ]
  },
  {
   "cell_type": "code",
   "execution_count": null,
   "id": "deb90bf6-3c53-4594-b2ed-149f9cd1d0e8",
   "metadata": {},
   "outputs": [],
   "source": [
    "info = dict(name='kim', age=7)"
   ]
  },
  {
   "cell_type": "code",
   "execution_count": null,
   "id": "c1967df0-227c-4580-aced-abd186cf0841",
   "metadata": {},
   "outputs": [],
   "source": [
    "def my_func("
   ]
  },
  {
   "cell_type": "markdown",
   "id": "34d063d2-9197-42dc-9119-17418af2212b",
   "metadata": {},
   "source": [
    "### dictionary를 인자로 넣기(unpacking)"
   ]
  },
  {
   "cell_type": "code",
   "execution_count": null,
   "id": "2c178b5b-ea90-4975-8009-40c61fafc847",
   "metadata": {},
   "outputs": [],
   "source": [
    "user_info"
   ]
  },
  {
   "cell_type": "markdown",
   "id": "dc8f91c9-f582-4cfe-b13d-c6a3dc604dc1",
   "metadata": {},
   "source": [
    "### lambda 표현식\n",
    "\n",
    "```python\n",
    "lambda parameter: exression\n"
   ]
  },
  {
   "cell_type": "code",
   "execution_count": null,
   "id": "df1cba69-fe1f-4c9f-814e-42a2622ea9b4",
   "metadata": {},
   "outputs": [],
   "source": [
    "(lambda num1, num2: num1 + num2)(1,2)"
   ]
  },
  {
   "cell_type": "markdown",
   "id": "0055421f-0786-4cd4-a775-64ea2b820756",
   "metadata": {},
   "source": [
    "### 타입힌트"
   ]
  },
  {
   "cell_type": "code",
   "execution_count": null,
   "id": "4417f7f1-d4f5-42f8-b450-dba7a315901f",
   "metadata": {},
   "outputs": [],
   "source": [
    "def my_sum(a: int, b: int) ->int:\n",
    "    return a + b"
   ]
  },
  {
   "cell_type": "code",
   "execution_count": null,
   "id": "0639ddf5-1a33-4b9a-8a78-b26c8cfca614",
   "metadata": {},
   "outputs": [],
   "source": [
    "my_sum(1, "
   ]
  },
  {
   "cell_type": "markdown",
   "id": "c653ed81-c975-434f-bd42-3bb9d5cbff7c",
   "metadata": {},
   "source": [
    "### 이름공간 (scope, namespace)\n",
    "\n",
    "python에서 사용되는 이름들은 이름공간에 저장되어 있습니다.\n",
    "\n",
    "1. Local: 정의된 함수 내부\n",
    "2. Enclosed: \n",
    "3. Global\n",
    "5. Built-in"
   ]
  },
  {
   "cell_type": "code",
   "execution_count": 18,
   "id": "dbd0a02a-d8fb-4c56-829e-1dd0400cb296",
   "metadata": {},
   "outputs": [
    {
     "name": "stdout",
     "output_type": "stream",
     "text": [
      "1\n",
      "5\n"
     ]
    }
   ],
   "source": [
    "def global_scope(a):\n",
    "    \n",
    "    a = a + 1\n",
    "    return a\n",
    "\n",
    "print(a)\n",
    "print(local_scope(4))"
   ]
  },
  {
   "cell_type": "code",
   "execution_count": 29,
   "id": "2ca7f3fc-222b-4bbc-91a3-84d73b040789",
   "metadata": {},
   "outputs": [
    {
     "data": {
      "text/plain": [
       "12"
      ]
     },
     "execution_count": 29,
     "metadata": {},
     "output_type": "execute_result"
    }
   ],
   "source": [
    "\n",
    "def fact (n: int):\n",
    "    if n == 1:\n",
    "        return 1\n",
    "    else:\n",
    "        return fact(n-1) * n\n",
    "\n",
    "fact(3)"
   ]
  },
  {
   "cell_type": "code",
   "execution_count": null,
   "id": "c56c15da-58ec-4da8-8e69-ca2925b563e7",
   "metadata": {},
   "outputs": [],
   "source": [
    "\n",
    "\n",
    "\n",
    "\n"
   ]
  },
  {
   "cell_type": "code",
   "execution_count": null,
   "id": "7225275f-faa0-4298-b894-7c9b8074f3a9",
   "metadata": {},
   "outputs": [],
   "source": []
  }
 ],
 "metadata": {
  "kernelspec": {
   "display_name": "Python 3 (ipykernel)",
   "language": "python",
   "name": "python3"
  },
  "language_info": {
   "codemirror_mode": {
    "name": "ipython",
    "version": 3
   },
   "file_extension": ".py",
   "mimetype": "text/x-python",
   "name": "python",
   "nbconvert_exporter": "python",
   "pygments_lexer": "ipython3",
   "version": "3.12.4"
  }
 },
 "nbformat": 4,
 "nbformat_minor": 5
}
